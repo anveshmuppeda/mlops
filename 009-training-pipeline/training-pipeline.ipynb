{
 "cells": [
  {
   "cell_type": "code",
   "execution_count": 12,
   "id": "d16a1820-2fda-4959-9b41-823bd6e0c2bf",
   "metadata": {
    "execution": {
     "iopub.execute_input": "2025-08-03T01:50:53.288324Z",
     "iopub.status.busy": "2025-08-03T01:50:53.288040Z",
     "iopub.status.idle": "2025-08-03T01:50:53.292970Z",
     "shell.execute_reply": "2025-08-03T01:50:53.291927Z",
     "shell.execute_reply.started": "2025-08-03T01:50:53.288304Z"
    }
   },
   "outputs": [
    {
     "name": "stdout",
     "output_type": "stream",
     "text": [
      "Hello...\n"
     ]
    }
   ],
   "source": [
    "print(\"Hello...\")"
   ]
  },
  {
   "cell_type": "markdown",
   "id": "c76d42ef-3d32-4632-bdc0-171aa770c5ed",
   "metadata": {},
   "source": [
    "### Import"
   ]
  },
  {
   "cell_type": "code",
   "execution_count": 13,
   "id": "736010c3-04d1-41d7-9941-3d6f3ca9b989",
   "metadata": {
    "execution": {
     "iopub.execute_input": "2025-08-03T01:50:53.312583Z",
     "iopub.status.busy": "2025-08-03T01:50:53.312313Z",
     "iopub.status.idle": "2025-08-03T01:50:53.659250Z",
     "shell.execute_reply": "2025-08-03T01:50:53.658405Z",
     "shell.execute_reply.started": "2025-08-03T01:50:53.312561Z"
    }
   },
   "outputs": [
    {
     "name": "stdout",
     "output_type": "stream",
     "text": [
      "Default S3 Bucket Name: sagemaker-us-east-1-767397707870\n",
      "Model Package Group Name: EmpBonusPackageGroup\n"
     ]
    }
   ],
   "source": [
    "import boto3 \n",
    "import pandas as pd \n",
    "import sagemaker\n",
    "from sagemaker.workflow.pipeline_context import PipelineSession \n",
    "\n",
    "s3_client = boto3.resource('s3') \n",
    "pipeline_name = f\"emp-bonus-training-pipeline\"\n",
    "sagemaker_session = sagemaker.Session()\n",
    "region = sagemaker_session.boto_region_name\n",
    "role = sagemaker.get_execution_role()\n",
    "pipeline_session = PipelineSession()\n",
    "default_bucket = sagemaker_session.default_bucket()\n",
    "model_package_group_name = f\"EmpBonusPackageGroup\"\n",
    "\n",
    "print(f\"Default S3 Bucket Name: {default_bucket}\")\n",
    "print(f\"Model Package Group Name: {model_package_group_name}\")"
   ]
  },
  {
   "cell_type": "code",
   "execution_count": 14,
   "id": "7820f5ae-7d92-4f56-bed9-b3fa6d2ee2c6",
   "metadata": {
    "execution": {
     "iopub.execute_input": "2025-08-03T01:50:53.660737Z",
     "iopub.status.busy": "2025-08-03T01:50:53.660512Z",
     "iopub.status.idle": "2025-08-03T01:50:53.664907Z",
     "shell.execute_reply": "2025-08-03T01:50:53.664195Z",
     "shell.execute_reply.started": "2025-08-03T01:50:53.660719Z"
    }
   },
   "outputs": [],
   "source": [
    "from sagemaker.workflow.parameters import ( \n",
    " ParameterInteger, \n",
    " ParameterString, \n",
    " ParameterFloat) \n",
    "\n",
    "base_job_prefix = \"emp-bonus\"\n",
    "processing_instance_count = ParameterInteger(name=\"ProcessingInstanceCount\", default_value=1)\n",
    "processing_instance_type = ParameterString( name=\"ProcessingInstanceType\", default_value=\"ml.m5.xlarge\") \n",
    "training_instance_type = ParameterString( name=\"TrainingInstanceType\", default_value=\"ml.m5.xlarge\") \n",
    "input_data = \"data/mock_data.csv\" \n",
    "model_approval_status = ParameterString( name=\"ModelApprovalStatus\", default_value=\"PendingManualApproval\")"
   ]
  },
  {
   "cell_type": "markdown",
   "id": "ccb9716a-b113-47df-99f4-680b3675b64b",
   "metadata": {
    "execution": {
     "iopub.execute_input": "2025-08-02T22:50:08.145206Z",
     "iopub.status.busy": "2025-08-02T22:50:08.144854Z",
     "iopub.status.idle": "2025-08-02T22:50:08.149120Z",
     "shell.execute_reply": "2025-08-02T22:50:08.148164Z",
     "shell.execute_reply.started": "2025-08-02T22:50:08.145181Z"
    }
   },
   "source": [
    "### Preprocessing"
   ]
  },
  {
   "cell_type": "code",
   "execution_count": 15,
   "id": "f5eecb36-95fd-465d-a672-cfa8bdc4d787",
   "metadata": {
    "execution": {
     "iopub.execute_input": "2025-08-03T01:50:53.666091Z",
     "iopub.status.busy": "2025-08-03T01:50:53.665879Z",
     "iopub.status.idle": "2025-08-03T01:50:53.694426Z",
     "shell.execute_reply": "2025-08-03T01:50:53.693346Z",
     "shell.execute_reply.started": "2025-08-03T01:50:53.666069Z"
    }
   },
   "outputs": [
    {
     "name": "stderr",
     "output_type": "stream",
     "text": [
      "WARNING:sagemaker.workflow.utilities:The input argument instance_type of function (sagemaker.image_uris.retrieve) is a pipeline variable (<class 'sagemaker.workflow.parameters.ParameterString'>), which is interpreted in pipeline execution time only. As the function needs to evaluate the argument value in SDK compile time, the default_value of this Parameter object will be used to override it. Please make sure the default_value is valid.\n",
      "INFO:sagemaker.image_uris:Defaulting to only available Python version: py3\n"
     ]
    }
   ],
   "source": [
    "# Define Processing Step for Feature Engineering\n",
    "from sagemaker.sklearn.processing import SKLearnProcessor\n",
    "from sagemaker.processing import ProcessingInput, ProcessingOutput\n",
    "from sagemaker.workflow.steps import ProcessingStep\n",
    "\n",
    "framework_version = \"1.0-1\"\n",
    "\n",
    "sklearn_processor = SKLearnProcessor(\n",
    "    framework_version=framework_version,\n",
    "    instance_type=processing_instance_type,\n",
    "    instance_count=processing_instance_count,\n",
    "    base_job_name=\"emp-pre-processing\",\n",
    "    role=role,\n",
    "    sagemaker_session=pipeline_session,\n",
    ")\n",
    "\n",
    "processor_args = sklearn_processor.run(\n",
    "    inputs=[\n",
    "      ProcessingInput(source=input_data, destination=\"/opt/ml/processing/input\"),  \n",
    "    ],\n",
    "    outputs=[\n",
    "        ProcessingOutput(output_name=\"processed-data\", source='/opt/ml/processing/output',\n",
    "                         destination=f\"s3://{default_bucket}/output/processed\")\n",
    "    ],\n",
    "    code=f\"preprocessing_script.py\",\n",
    ")\n",
    "step_preprocess = ProcessingStep(name=\"EmpBonusPreProcessing\", step_args=processor_args)"
   ]
  },
  {
   "cell_type": "markdown",
   "id": "5a39fa5d-22b2-410c-a9b5-2c2dd7f1d443",
   "metadata": {},
   "source": [
    "### Step 5: Model Training"
   ]
  },
  {
   "cell_type": "code",
   "execution_count": 16,
   "id": "c4b3a9f8-bde3-4b0e-b4d6-d2884476df1b",
   "metadata": {
    "execution": {
     "iopub.execute_input": "2025-08-03T01:50:53.696017Z",
     "iopub.status.busy": "2025-08-03T01:50:53.695691Z",
     "iopub.status.idle": "2025-08-03T01:50:53.724176Z",
     "shell.execute_reply": "2025-08-03T01:50:53.723346Z",
     "shell.execute_reply.started": "2025-08-03T01:50:53.695987Z"
    }
   },
   "outputs": [
    {
     "name": "stderr",
     "output_type": "stream",
     "text": [
      "WARNING:sagemaker.workflow.utilities:The input argument instance_type of function (sagemaker.image_uris.retrieve) is a pipeline variable (<class 'sagemaker.workflow.parameters.ParameterString'>), which is interpreted in pipeline execution time only. As the function needs to evaluate the argument value in SDK compile time, the default_value of this Parameter object will be used to override it. Please make sure the default_value is valid.\n",
      "INFO:sagemaker.image_uris:Defaulting to only available Python version: py3\n"
     ]
    }
   ],
   "source": [
    "# Model Traning Step\n",
    "\n",
    "input_data = f\"s3://{default_bucket}/output/processed/transformed_data.csv\"\n",
    "\n",
    "sklearn_processor = SKLearnProcessor(\n",
    "    framework_version=framework_version,\n",
    "    instance_type=processing_instance_type,\n",
    "    instance_count=processing_instance_count,\n",
    "    base_job_name=\"emp-model-trainig\",\n",
    "    role=role,\n",
    "    sagemaker_session=pipeline_session,\n",
    ")\n",
    "\n",
    "processor_args = sklearn_processor.run(\n",
    "    inputs=[\n",
    "      ProcessingInput(source=input_data, destination=\"/opt/ml/processing/input\"),  \n",
    "    ],\n",
    "    outputs=[\n",
    "        ProcessingOutput(output_name=\"train\", source=\"/opt/ml/processing/train\",\n",
    "                         destination=f\"s3://{default_bucket}/output/train\" ),\n",
    "        ProcessingOutput(output_name=\"validation\", source=\"/opt/ml/processing/validation\",\n",
    "                         destination=f\"s3://{default_bucket}/output/validation\"),\n",
    "        ProcessingOutput(output_name=\"test\", source=\"/opt/ml/processing/test\",\n",
    "                         destination=f\"s3://{default_bucket}/output/test\")\n",
    "    ],\n",
    "    code=f\"model_training_script.py\",\n",
    ")\n",
    "step_model_train = ProcessingStep(name=\"EmpBonusModelTraining\", step_args=processor_args, depends_on=[step_preprocess] )"
   ]
  },
  {
   "cell_type": "markdown",
   "id": "95129d86-6ee3-4afa-b678-1183a5081080",
   "metadata": {},
   "source": [
    "### Model Train"
   ]
  },
  {
   "cell_type": "code",
   "execution_count": 17,
   "id": "00b55119-3209-405f-9cbd-2bebf8d53922",
   "metadata": {
    "execution": {
     "iopub.execute_input": "2025-08-03T01:50:53.726071Z",
     "iopub.status.busy": "2025-08-03T01:50:53.725746Z",
     "iopub.status.idle": "2025-08-03T01:50:53.762905Z",
     "shell.execute_reply": "2025-08-03T01:50:53.762128Z",
     "shell.execute_reply.started": "2025-08-03T01:50:53.726028Z"
    }
   },
   "outputs": [
    {
     "name": "stderr",
     "output_type": "stream",
     "text": [
      "INFO:sagemaker.image_uris:Same images used for training and inference. Defaulting to image scope: inference.\n",
      "INFO:sagemaker.image_uris:Ignoring unnecessary instance type: None.\n"
     ]
    },
    {
     "name": "stdout",
     "output_type": "stream",
     "text": [
      "Model Traing Job\n"
     ]
    }
   ],
   "source": [
    "print(\"Model Traing Job\")\n",
    "from sagemaker.estimator import Estimator\n",
    "from sagemaker.inputs import TrainingInput\n",
    "from sagemaker.workflow.steps import TrainingStep\n",
    "\n",
    "# Specify the container image for Linear Learner (built-in algorithm)\n",
    "linear_learner_container = sagemaker.image_uris.retrieve('linear-learner', sagemaker_session.boto_region_name)\n",
    "\n",
    "# Define the LinearLearner estimator\n",
    "linear_estimator = Estimator(\n",
    "    image_uri=linear_learner_container,\n",
    "    role=role,\n",
    "    instance_count=1,\n",
    "    instance_type=training_instance_type,\n",
    "    output_path=f's3://{default_bucket}/model-output',\n",
    "    sagemaker_session=pipeline_session,\n",
    "    base_job_name=\"emp-bonus-linear-learner\"\n",
    ")\n",
    "\n",
    "# Set hyperparameters for Linear Learner\n",
    "linear_estimator.set_hyperparameters(\n",
    "    predictor_type='regressor',  # We're solving a regression problem\n",
    "    mini_batch_size=32,\n",
    "    epochs=10\n",
    ")\n",
    "\n",
    "train_path = f\"s3://{default_bucket}/output/train/train.csv\"\n",
    "val_path = f\"s3://{default_bucket}/output/validation/validation.csv\"\n",
    "\n",
    "from sagemaker.inputs import TrainingInput\n",
    "\n",
    "# Specify the input data channels\n",
    "train_input = TrainingInput(\n",
    "    s3_data=train_path, \n",
    "    content_type='text/csv'\n",
    ")\n",
    "val_input = TrainingInput(\n",
    "    s3_data=val_path, \n",
    "    content_type='text/csv'\n",
    ")\n",
    "\n",
    "# Training Step\n",
    "step_training = TrainingStep(\n",
    "    name=\"EmpBonusTrainingStep\",\n",
    "    estimator=linear_estimator,\n",
    "    inputs={\n",
    "        'train': train_input,\n",
    "        'validation': val_input\n",
    "    },\n",
    "    depends_on=[step_model_train]\n",
    ")\n"
   ]
  },
  {
   "cell_type": "code",
   "execution_count": 18,
   "id": "f3e47191-21fc-4ceb-a64d-aa5cf1b9f5a5",
   "metadata": {
    "execution": {
     "iopub.execute_input": "2025-08-03T01:50:53.764316Z",
     "iopub.status.busy": "2025-08-03T01:50:53.764010Z",
     "iopub.status.idle": "2025-08-03T01:50:54.319337Z",
     "shell.execute_reply": "2025-08-03T01:50:54.318519Z",
     "shell.execute_reply.started": "2025-08-03T01:50:53.764288Z"
    }
   },
   "outputs": [
    {
     "name": "stderr",
     "output_type": "stream",
     "text": [
      "WARNING:sagemaker.workflow.utilities:Popping out 'ProcessingJobName' from the pipeline definition by default since it will be overridden at pipeline execution time. Please utilize the PipelineDefinitionConfig to persist this field in the pipeline definition if desired.\n",
      "WARNING:sagemaker.workflow.utilities:Popping out 'ProcessingJobName' from the pipeline definition by default since it will be overridden at pipeline execution time. Please utilize the PipelineDefinitionConfig to persist this field in the pipeline definition if desired.\n",
      "WARNING:sagemaker.workflow.utilities:Popping out 'TrainingJobName' from the pipeline definition by default since it will be overridden at pipeline execution time. Please utilize the PipelineDefinitionConfig to persist this field in the pipeline definition if desired.\n"
     ]
    }
   ],
   "source": [
    "import json\n",
    "from sagemaker.workflow.pipeline import Pipeline\n",
    "\n",
    "pipeline = Pipeline(\n",
    "    name=pipeline_name,\n",
    "    parameters=[\n",
    "        processing_instance_count,\n",
    "        processing_instance_type,\n",
    "        training_instance_type,\n",
    "        model_approval_status,\n",
    "        input_data,\n",
    "    ],\n",
    "    steps=[step_preprocess, step_model_train, step_training],\n",
    ")\n",
    "definition = json.loads(pipeline.definition())\n",
    "# print(definition)"
   ]
  },
  {
   "cell_type": "code",
   "execution_count": 19,
   "id": "acc23ac2-05b6-47a7-b8ac-21a7524f9328",
   "metadata": {
    "execution": {
     "iopub.execute_input": "2025-08-03T01:50:54.320379Z",
     "iopub.status.busy": "2025-08-03T01:50:54.320107Z",
     "iopub.status.idle": "2025-08-03T01:50:55.055869Z",
     "shell.execute_reply": "2025-08-03T01:50:55.053979Z",
     "shell.execute_reply.started": "2025-08-03T01:50:54.320353Z"
    }
   },
   "outputs": [
    {
     "name": "stderr",
     "output_type": "stream",
     "text": [
      "WARNING:sagemaker.workflow.utilities:Popping out 'ProcessingJobName' from the pipeline definition by default since it will be overridden at pipeline execution time. Please utilize the PipelineDefinitionConfig to persist this field in the pipeline definition if desired.\n",
      "WARNING:sagemaker.workflow.utilities:Popping out 'ProcessingJobName' from the pipeline definition by default since it will be overridden at pipeline execution time. Please utilize the PipelineDefinitionConfig to persist this field in the pipeline definition if desired.\n",
      "WARNING:sagemaker.workflow.utilities:Popping out 'TrainingJobName' from the pipeline definition by default since it will be overridden at pipeline execution time. Please utilize the PipelineDefinitionConfig to persist this field in the pipeline definition if desired.\n",
      "WARNING:sagemaker.workflow.utilities:Popping out 'ProcessingJobName' from the pipeline definition by default since it will be overridden at pipeline execution time. Please utilize the PipelineDefinitionConfig to persist this field in the pipeline definition if desired.\n",
      "WARNING:sagemaker.workflow.utilities:Popping out 'ProcessingJobName' from the pipeline definition by default since it will be overridden at pipeline execution time. Please utilize the PipelineDefinitionConfig to persist this field in the pipeline definition if desired.\n",
      "WARNING:sagemaker.workflow.utilities:Popping out 'TrainingJobName' from the pipeline definition by default since it will be overridden at pipeline execution time. Please utilize the PipelineDefinitionConfig to persist this field in the pipeline definition if desired.\n"
     ]
    },
    {
     "data": {
      "text/plain": [
       "{'PipelineArn': 'arn:aws:sagemaker:us-east-1:767397707870:pipeline/emp-bonus-training-pipeline',\n",
       " 'ResponseMetadata': {'RequestId': '13bade52-6efa-461a-8272-55bcc9298b72',\n",
       "  'HTTPStatusCode': 200,\n",
       "  'HTTPHeaders': {'x-amzn-requestid': '13bade52-6efa-461a-8272-55bcc9298b72',\n",
       "   'content-type': 'application/x-amz-json-1.1',\n",
       "   'content-length': '117',\n",
       "   'date': 'Sun, 03 Aug 2025 01:50:55 GMT'},\n",
       "  'RetryAttempts': 0}}"
      ]
     },
     "execution_count": 19,
     "metadata": {},
     "output_type": "execute_result"
    }
   ],
   "source": [
    "# Create a new or update existing Pipeline\n",
    "pipeline.upsert(role_arn=role)"
   ]
  },
  {
   "cell_type": "code",
   "execution_count": 20,
   "id": "40041866-4a95-4e0f-8769-7e05a7094b76",
   "metadata": {
    "execution": {
     "iopub.execute_input": "2025-08-03T01:50:55.057509Z",
     "iopub.status.busy": "2025-08-03T01:50:55.057029Z",
     "iopub.status.idle": "2025-08-03T01:50:55.242629Z",
     "shell.execute_reply": "2025-08-03T01:50:55.241647Z",
     "shell.execute_reply.started": "2025-08-03T01:50:55.057475Z"
    }
   },
   "outputs": [
    {
     "data": {
      "text/plain": [
       "_PipelineExecution(arn='arn:aws:sagemaker:us-east-1:767397707870:pipeline/emp-bonus-training-pipeline/execution/7gv8ucqygl4z', sagemaker_session=<sagemaker.session.Session object at 0x7f0ded2883b0>)"
      ]
     },
     "execution_count": 20,
     "metadata": {},
     "output_type": "execute_result"
    }
   ],
   "source": [
    "# start Pipeline execution\n",
    "pipeline.start()"
   ]
  }
 ],
 "metadata": {
  "kernelspec": {
   "display_name": "Python 3 (ipykernel)",
   "language": "python",
   "name": "python3"
  },
  "language_info": {
   "codemirror_mode": {
    "name": "ipython",
    "version": 3
   },
   "file_extension": ".py",
   "mimetype": "text/x-python",
   "name": "python",
   "nbconvert_exporter": "python",
   "pygments_lexer": "ipython3",
   "version": "3.12.9"
  }
 },
 "nbformat": 4,
 "nbformat_minor": 5
}
