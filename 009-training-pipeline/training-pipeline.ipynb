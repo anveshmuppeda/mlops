{
 "cells": [
  {
   "cell_type": "markdown",
   "id": "9cfed82d-a4c5-492f-b06c-dbcd69711477",
   "metadata": {},
   "source": [
    "# Complete MLOps Pipeline with SageMaker Pipelines  \n",
    "## Employee Bonus Prediction - End-to-End Machine Learning Workflow. \n",
    "This notebook demonstrates a complete MLOps pipeline using Amazon SageMaker Pipelines for predicting employee bonuses. The pipeline includes data preprocessing, model training, and model registration with proper governance.  \n",
    "\n",
    "### 🎯 What We'll Build \n",
    "A production-ready ML pipeline that:\n",
    "\n",
    "✅ Preprocesses raw employee data automatically  \n",
    "✅ Splits data into train/validation/test sets  \n",
    "✅ Trains a Linear Learner model for regression  \n",
    "✅ Registers the model in SageMaker Model Registry  \n",
    "✅ Implements proper MLOps governance and approval workflows  "
   ]
  },
  {
   "cell_type": "markdown",
   "id": "c76d42ef-3d32-4632-bdc0-171aa770c5ed",
   "metadata": {
    "jp-MarkdownHeadingCollapsed": true
   },
   "source": [
    "### Step 1: Environment Setup and Configuration \n",
    "#### 🔧 Purpose:  \n",
    "Initialize SageMaker environment, configure AWS resources, and set up pipeline parameters.\n",
    "\n",
    "#### 🎯 What happens here:\n",
    "* Import required SageMaker libraries.  \n",
    "* Set up execution roles and sessions.  \n",
    "* Configure S3 buckets for data storage.   \n",
    "* Define pipeline parameters for flexibility.   "
   ]
  },
  {
   "cell_type": "code",
   "execution_count": 48,
   "id": "736010c3-04d1-41d7-9941-3d6f3ca9b989",
   "metadata": {
    "execution": {
     "iopub.execute_input": "2025-08-03T19:04:27.184840Z",
     "iopub.status.busy": "2025-08-03T19:04:27.184548Z",
     "iopub.status.idle": "2025-08-03T19:04:27.874608Z",
     "shell.execute_reply": "2025-08-03T19:04:27.873917Z",
     "shell.execute_reply.started": "2025-08-03T19:04:27.184820Z"
    }
   },
   "outputs": [
    {
     "name": "stdout",
     "output_type": "stream",
     "text": [
      "Default S3 Bucket Name: sagemaker-us-east-1-654654157683\n",
      "Model Package Group Name: EmpBonusPackageGroup\n"
     ]
    }
   ],
   "source": [
    "import boto3 \n",
    "import pandas as pd \n",
    "import sagemaker\n",
    "from sagemaker.workflow.pipeline_context import PipelineSession \n",
    "from sagemaker.workflow.parameters import ( \n",
    " ParameterInteger,\n",
    " ParameterString)\n",
    "\n",
    "s3_client = boto3.resource('s3') \n",
    "pipeline_name = f\"emp-bonus-training-pipeline\"\n",
    "sagemaker_session = sagemaker.Session()\n",
    "region = sagemaker_session.boto_region_name\n",
    "role = sagemaker.get_execution_role()\n",
    "pipeline_session = PipelineSession()\n",
    "default_bucket = sagemaker_session.default_bucket()\n",
    "# Create Model Package Group with name \"EmpBonusPackageGroup\" manually for this pipeline, in next pipeline will create this using pipeline\n",
    "model_package_group_name = f\"EmpBonusPackageGroup\"\n",
    "\n",
    "print(f\"Default S3 Bucket Name: {default_bucket}\")\n",
    "print(f\"Model Package Group Name: {model_package_group_name}\")"
   ]
  },
  {
   "cell_type": "code",
   "execution_count": 40,
   "id": "7820f5ae-7d92-4f56-bed9-b3fa6d2ee2c6",
   "metadata": {
    "execution": {
     "iopub.execute_input": "2025-08-03T18:51:31.495441Z",
     "iopub.status.busy": "2025-08-03T18:51:31.494773Z",
     "iopub.status.idle": "2025-08-03T18:51:31.499202Z",
     "shell.execute_reply": "2025-08-03T18:51:31.498335Z",
     "shell.execute_reply.started": "2025-08-03T18:51:31.495414Z"
    }
   },
   "outputs": [],
   "source": [
    "base_job_prefix = \"emp-bonus\"\n",
    "processing_instance_count = ParameterInteger(name=\"ProcessingInstanceCount\", default_value=1)\n",
    "processing_instance_type = ParameterString( name=\"ProcessingInstanceType\", default_value=\"ml.m5.xlarge\") \n",
    "training_instance_type = ParameterString( name=\"TrainingInstanceType\", default_value=\"ml.m5.xlarge\") \n",
    "input_data = \"data/mock_data.csv\" \n",
    "model_approval_status = ParameterString( name=\"ModelApprovalStatus\", default_value=\"PendingManualApproval\")"
   ]
  },
  {
   "cell_type": "markdown",
   "id": "ccb9716a-b113-47df-99f4-680b3675b64b",
   "metadata": {
    "execution": {
     "iopub.execute_input": "2025-08-02T22:50:08.145206Z",
     "iopub.status.busy": "2025-08-02T22:50:08.144854Z",
     "iopub.status.idle": "2025-08-02T22:50:08.149120Z",
     "shell.execute_reply": "2025-08-02T22:50:08.148164Z",
     "shell.execute_reply.started": "2025-08-02T22:50:08.145181Z"
    },
    "jp-MarkdownHeadingCollapsed": true
   },
   "source": [
    "### Step 2: Data Preprocessing\n",
    "#### 🔧 Purpose:\n",
    "Clean, transform, and prepare raw employee data for machine learning.  \n",
    "\n",
    "####  🎯 What the preprocessing script does:\n",
    "* Missing Value Handling: Fills missing age/salary with median values\n",
    "* JSON Parsing: Extracts address, phone, email from profile JSON column\n",
    "* Feature Engineering: Creates address_length, salary_category, age_group features\n",
    "* Data Cleaning: Removes unnecessary columns and handles data types\n",
    "* Output: Produces cleaned_data.csv and transformed_data.csv"
   ]
  },
  {
   "cell_type": "code",
   "execution_count": 41,
   "id": "f5eecb36-95fd-465d-a672-cfa8bdc4d787",
   "metadata": {
    "execution": {
     "iopub.execute_input": "2025-08-03T18:51:31.501210Z",
     "iopub.status.busy": "2025-08-03T18:51:31.500495Z",
     "iopub.status.idle": "2025-08-03T18:51:31.527980Z",
     "shell.execute_reply": "2025-08-03T18:51:31.527283Z",
     "shell.execute_reply.started": "2025-08-03T18:51:31.501178Z"
    }
   },
   "outputs": [
    {
     "name": "stderr",
     "output_type": "stream",
     "text": [
      "WARNING:sagemaker.workflow.utilities:The input argument instance_type of function (sagemaker.image_uris.retrieve) is a pipeline variable (<class 'sagemaker.workflow.parameters.ParameterString'>), which is interpreted in pipeline execution time only. As the function needs to evaluate the argument value in SDK compile time, the default_value of this Parameter object will be used to override it. Please make sure the default_value is valid.\n",
      "INFO:sagemaker.image_uris:Defaulting to only available Python version: py3\n"
     ]
    }
   ],
   "source": [
    "# Define Processing Step for Feature Engineering\n",
    "from sagemaker.sklearn.processing import SKLearnProcessor\n",
    "from sagemaker.processing import ProcessingInput, ProcessingOutput\n",
    "from sagemaker.workflow.steps import ProcessingStep\n",
    "\n",
    "framework_version = \"1.0-1\"\n",
    "\n",
    "sklearn_processor = SKLearnProcessor(\n",
    "    framework_version=framework_version,\n",
    "    instance_type=processing_instance_type,\n",
    "    instance_count=processing_instance_count,\n",
    "    base_job_name=\"emp-pre-processing\",\n",
    "    role=role,\n",
    "    sagemaker_session=pipeline_session,\n",
    ")\n",
    "\n",
    "processor_args = sklearn_processor.run(\n",
    "    inputs=[\n",
    "      ProcessingInput(source=input_data, destination=\"/opt/ml/processing/input\"),\n",
    "    ],\n",
    "    outputs=[\n",
    "        ProcessingOutput(output_name=\"processed-data\", source='/opt/ml/processing/output',\n",
    "                         destination=f\"s3://{default_bucket}/output/processed\")\n",
    "    ],\n",
    "    code=f\"preprocessing_script.py\",\n",
    ")\n",
    "step_preprocess = ProcessingStep(name=\"EmpBonusPreProcessing\", step_args=processor_args)"
   ]
  },
  {
   "cell_type": "markdown",
   "id": "5a39fa5d-22b2-410c-a9b5-2c2dd7f1d443",
   "metadata": {
    "jp-MarkdownHeadingCollapsed": true
   },
   "source": [
    "### Step 3: Data Splitting. \n",
    "#### 🔧 Purpose:\n",
    "Split the preprocessed data into training, validation, and test sets for model development.\n",
    "\n",
    "#### 🎯 What happens here:  \n",
    "* Reads transformed data from preprocessing step\n",
    "* Splits data into 70% train, 20% validation, 10% test\n",
    "* Saves three separate CSV files to S3\n",
    "* Maintains data consistency across splits"
   ]
  },
  {
   "cell_type": "code",
   "execution_count": 42,
   "id": "c4b3a9f8-bde3-4b0e-b4d6-d2884476df1b",
   "metadata": {
    "execution": {
     "iopub.execute_input": "2025-08-03T18:51:31.529454Z",
     "iopub.status.busy": "2025-08-03T18:51:31.529144Z",
     "iopub.status.idle": "2025-08-03T18:51:31.557022Z",
     "shell.execute_reply": "2025-08-03T18:51:31.556349Z",
     "shell.execute_reply.started": "2025-08-03T18:51:31.529425Z"
    }
   },
   "outputs": [
    {
     "name": "stderr",
     "output_type": "stream",
     "text": [
      "WARNING:sagemaker.workflow.utilities:The input argument instance_type of function (sagemaker.image_uris.retrieve) is a pipeline variable (<class 'sagemaker.workflow.parameters.ParameterString'>), which is interpreted in pipeline execution time only. As the function needs to evaluate the argument value in SDK compile time, the default_value of this Parameter object will be used to override it. Please make sure the default_value is valid.\n",
      "INFO:sagemaker.image_uris:Defaulting to only available Python version: py3\n"
     ]
    }
   ],
   "source": [
    "# Model Traning Step\n",
    "\n",
    "input_data = f\"s3://{default_bucket}/output/processed/transformed_data.csv\"\n",
    "\n",
    "sklearn_processor = SKLearnProcessor(\n",
    "    framework_version=framework_version,\n",
    "    instance_type=processing_instance_type,\n",
    "    instance_count=processing_instance_count,\n",
    "    base_job_name=\"emp-data-split\",\n",
    "    role=role,\n",
    "    sagemaker_session=pipeline_session,\n",
    ")\n",
    "\n",
    "processor_args = sklearn_processor.run(\n",
    "    inputs=[\n",
    "      ProcessingInput(source=input_data, destination=\"/opt/ml/processing/input\"),  \n",
    "    ],\n",
    "    outputs=[\n",
    "        ProcessingOutput(output_name=\"train\", source=\"/opt/ml/processing/train\",\n",
    "                         destination=f\"s3://{default_bucket}/output/train\" ),\n",
    "        ProcessingOutput(output_name=\"validation\", source=\"/opt/ml/processing/validation\",\n",
    "                         destination=f\"s3://{default_bucket}/output/validation\"),\n",
    "        ProcessingOutput(output_name=\"test\", source=\"/opt/ml/processing/test\",\n",
    "                         destination=f\"s3://{default_bucket}/output/test\")\n",
    "    ],\n",
    "    code=f\"model_training_script.py\",\n",
    ")\n",
    "step_data_split = ProcessingStep(name=\"EmpBonusDataSplit\", step_args=processor_args, depends_on=[step_preprocess] )"
   ]
  },
  {
   "cell_type": "markdown",
   "id": "95129d86-6ee3-4afa-b678-1183a5081080",
   "metadata": {
    "jp-MarkdownHeadingCollapsed": true
   },
   "source": [
    "### Step 4: Model Training\n",
    "#### 🔧 Purpose:\n",
    "Train a Linear Learner regression model to predict employee bonus amounts.\n",
    "\n",
    "#### 🎯 Why Linear Learner:\n",
    "* Built-in Algorithm: Managed by AWS, optimized for performance\n",
    "* Regression Support: Perfect for predicting continuous bonus values\n",
    "* Scalable: Automatically handles feature scaling and optimization\n",
    "* Fast Training: Efficient for structured data"
   ]
  },
  {
   "cell_type": "code",
   "execution_count": 43,
   "id": "00b55119-3209-405f-9cbd-2bebf8d53922",
   "metadata": {
    "execution": {
     "iopub.execute_input": "2025-08-03T18:51:31.559703Z",
     "iopub.status.busy": "2025-08-03T18:51:31.559409Z",
     "iopub.status.idle": "2025-08-03T18:51:31.595213Z",
     "shell.execute_reply": "2025-08-03T18:51:31.594420Z",
     "shell.execute_reply.started": "2025-08-03T18:51:31.559680Z"
    }
   },
   "outputs": [
    {
     "name": "stderr",
     "output_type": "stream",
     "text": [
      "INFO:sagemaker.image_uris:Same images used for training and inference. Defaulting to image scope: inference.\n",
      "INFO:sagemaker.image_uris:Ignoring unnecessary instance type: None.\n"
     ]
    }
   ],
   "source": [
    "from sagemaker.estimator import Estimator\n",
    "from sagemaker.inputs import TrainingInput\n",
    "from sagemaker.workflow.steps import TrainingStep\n",
    "\n",
    "# Specify the container image for Linear Learner (built-in algorithm)\n",
    "linear_learner_container = sagemaker.image_uris.retrieve('linear-learner', sagemaker_session.boto_region_name)\n",
    "\n",
    "# Define the LinearLearner estimator\n",
    "linear_estimator = Estimator(\n",
    "    image_uri=linear_learner_container,\n",
    "    role=role,\n",
    "    instance_count=1,\n",
    "    instance_type=training_instance_type,\n",
    "    output_path=f's3://{default_bucket}/model-output',\n",
    "    sagemaker_session=pipeline_session,\n",
    "    base_job_name=\"emp-bonus-linear-learner\"\n",
    ")\n",
    "\n",
    "# Set hyperparameters for Linear Learner\n",
    "linear_estimator.set_hyperparameters(\n",
    "    predictor_type='regressor',  # We're solving a regression problem\n",
    "    mini_batch_size=32,\n",
    "    epochs=10\n",
    ")\n",
    "\n",
    "train_path = f\"s3://{default_bucket}/output/train/train.csv\"\n",
    "val_path = f\"s3://{default_bucket}/output/validation/validation.csv\"\n",
    "\n",
    "# Specify the input data channels\n",
    "train_input = TrainingInput(\n",
    "    s3_data=train_path, \n",
    "    content_type='text/csv'\n",
    ")\n",
    "val_input = TrainingInput(\n",
    "    s3_data=val_path, \n",
    "    content_type='text/csv'\n",
    ")\n",
    "\n",
    "# Training Step\n",
    "step_training = TrainingStep(\n",
    "    name=\"EmpBonusTraining\",\n",
    "    estimator=linear_estimator,\n",
    "    inputs={\n",
    "        'train': train_input,\n",
    "        'validation': val_input\n",
    "    },\n",
    "    depends_on=[step_data_split]\n",
    ")\n"
   ]
  },
  {
   "cell_type": "markdown",
   "id": "12e9c7c8-03da-4710-8ef0-e127723fff4f",
   "metadata": {
    "jp-MarkdownHeadingCollapsed": true
   },
   "source": [
    "### Step 5: Model Registration\n",
    "#### 🔧 Purpose:\n",
    "Register the trained model in SageMaker Model Registry for governance and deployment.\n",
    "\n",
    "#### 🎯 Model Registry Benefits:\n",
    "* Version Control: Track different model versions\n",
    "* Approval Workflow: Require manual approval before deployment\n",
    "* Metadata Storage: Store model performance metrics and descriptions\n",
    "* Deployment Governance: Control which models go to production"
   ]
  },
  {
   "cell_type": "code",
   "execution_count": 44,
   "id": "5e75070e-d0c8-4c45-9502-d8a3f9011204",
   "metadata": {
    "execution": {
     "iopub.execute_input": "2025-08-03T18:51:31.596609Z",
     "iopub.status.busy": "2025-08-03T18:51:31.596271Z",
     "iopub.status.idle": "2025-08-03T18:51:31.651352Z",
     "shell.execute_reply": "2025-08-03T18:51:31.650546Z",
     "shell.execute_reply.started": "2025-08-03T18:51:31.596577Z"
    }
   },
   "outputs": [
    {
     "name": "stderr",
     "output_type": "stream",
     "text": [
      "INFO:sagemaker.image_uris:Same images used for training and inference. Defaulting to image scope: inference.\n",
      "INFO:sagemaker.image_uris:Ignoring unnecessary instance type: None.\n"
     ]
    }
   ],
   "source": [
    "import sagemaker\n",
    "from sagemaker import Model\n",
    "from sagemaker.workflow.model_step import ModelStep\n",
    "from sagemaker.model_metrics import MetricsSource, ModelMetrics\n",
    "\n",
    "# Determine what AWS region we are in\n",
    "sagemaker_session = sagemaker.Session()\n",
    "region = sagemaker_session.boto_region_name \n",
    "# Retrieve the Linear Learner image URI\n",
    "container_image_uri = sagemaker.image_uris.retrieve(framework=\"linear-learner\", region=region)\n",
    "\n",
    "model = Model(\n",
    "    image_uri=container_image_uri,\n",
    "    model_data=step_training.properties.ModelArtifacts.S3ModelArtifacts,\n",
    "    sagemaker_session=pipeline_session,\n",
    "    role=role,\n",
    ")\n",
    "\n",
    "model_approval_status = \"PendingManualApproval\"\n",
    "customer_metadata_properties = {\"ModelType\": \"EmpBonusPrediction\"}\n",
    "\n",
    "register_args = model.register(\n",
    "    content_types=[\"text/csv\"],\n",
    "    response_types=[\"text/csv\"],\n",
    "    inference_instances=[\"ml.t2.medium\", \"ml.m5.xlarge\"],\n",
    "    transform_instances=[\"ml.m5.xlarge\"],\n",
    "    model_package_group_name=model_package_group_name,\n",
    "    approval_status=model_approval_status,\n",
    "    customer_metadata_properties=customer_metadata_properties,\n",
    ")\n",
    "\n",
    "step_register = ModelStep(\n",
    "    name=\"EmpBonusRegisterModel\",\n",
    "    step_args=register_args\n",
    ")"
   ]
  },
  {
   "cell_type": "markdown",
   "id": "b74980f9-0005-4589-93a8-3fea98dd0902",
   "metadata": {
    "execution": {
     "iopub.execute_input": "2025-08-03T19:06:27.562487Z",
     "iopub.status.busy": "2025-08-03T19:06:27.561977Z",
     "iopub.status.idle": "2025-08-03T19:06:27.565449Z",
     "shell.execute_reply": "2025-08-03T19:06:27.564803Z",
     "shell.execute_reply.started": "2025-08-03T19:06:27.562463Z"
    },
    "jp-MarkdownHeadingCollapsed": true
   },
   "source": [
    "### Step 6: Pipeline Creation and Configuration\n",
    "#### 🔧 Purpose:\n",
    "Assemble all steps into a cohesive, executable pipeline with proper dependencies.\n",
    "\n",
    "#### 🎯 Pipeline Benefits:\n",
    "* Automation: Run entire workflow with one command\n",
    "* Reproducibility: Same results every time\n",
    "* Scalability: Easy to modify and extend\n",
    "* Monitoring: Track execution and debug issues"
   ]
  },
  {
   "cell_type": "code",
   "execution_count": 45,
   "id": "f3e47191-21fc-4ceb-a64d-aa5cf1b9f5a5",
   "metadata": {
    "execution": {
     "iopub.execute_input": "2025-08-03T18:51:31.652522Z",
     "iopub.status.busy": "2025-08-03T18:51:31.652165Z",
     "iopub.status.idle": "2025-08-03T18:51:32.099661Z",
     "shell.execute_reply": "2025-08-03T18:51:32.099025Z",
     "shell.execute_reply.started": "2025-08-03T18:51:31.652490Z"
    }
   },
   "outputs": [
    {
     "name": "stderr",
     "output_type": "stream",
     "text": [
      "WARNING:sagemaker.workflow.utilities:Popping out 'ProcessingJobName' from the pipeline definition by default since it will be overridden at pipeline execution time. Please utilize the PipelineDefinitionConfig to persist this field in the pipeline definition if desired.\n",
      "WARNING:sagemaker.workflow.utilities:Popping out 'ProcessingJobName' from the pipeline definition by default since it will be overridden at pipeline execution time. Please utilize the PipelineDefinitionConfig to persist this field in the pipeline definition if desired.\n",
      "WARNING:sagemaker.workflow.utilities:Popping out 'TrainingJobName' from the pipeline definition by default since it will be overridden at pipeline execution time. Please utilize the PipelineDefinitionConfig to persist this field in the pipeline definition if desired.\n",
      "WARNING:sagemaker.workflow._utils:Popping out 'CertifyForMarketplace' from the pipeline definition since it will be overridden in pipeline execution time.\n",
      "WARNING:sagemaker.workflow.utilities:Popping out 'ModelPackageName' from the pipeline definition by default since it will be overridden at pipeline execution time. Please utilize the PipelineDefinitionConfig to persist this field in the pipeline definition if desired.\n"
     ]
    }
   ],
   "source": [
    "import json\n",
    "from sagemaker.workflow.pipeline import Pipeline\n",
    "\n",
    "pipeline = Pipeline(\n",
    "    name=pipeline_name,\n",
    "    parameters=[\n",
    "        processing_instance_count,\n",
    "        processing_instance_type,\n",
    "        training_instance_type,\n",
    "        model_approval_status,\n",
    "        input_data,\n",
    "    ],\n",
    "    steps=[step_preprocess, step_data_split, step_training, step_register],\n",
    ")\n",
    "definition = json.loads(pipeline.definition())\n",
    "# print(definition)"
   ]
  },
  {
   "cell_type": "code",
   "execution_count": 46,
   "id": "acc23ac2-05b6-47a7-b8ac-21a7524f9328",
   "metadata": {
    "execution": {
     "iopub.execute_input": "2025-08-03T18:51:32.100906Z",
     "iopub.status.busy": "2025-08-03T18:51:32.100258Z",
     "iopub.status.idle": "2025-08-03T18:51:32.847483Z",
     "shell.execute_reply": "2025-08-03T18:51:32.846744Z",
     "shell.execute_reply.started": "2025-08-03T18:51:32.100878Z"
    }
   },
   "outputs": [
    {
     "name": "stderr",
     "output_type": "stream",
     "text": [
      "WARNING:sagemaker.workflow.utilities:Popping out 'ProcessingJobName' from the pipeline definition by default since it will be overridden at pipeline execution time. Please utilize the PipelineDefinitionConfig to persist this field in the pipeline definition if desired.\n",
      "WARNING:sagemaker.workflow.utilities:Popping out 'ProcessingJobName' from the pipeline definition by default since it will be overridden at pipeline execution time. Please utilize the PipelineDefinitionConfig to persist this field in the pipeline definition if desired.\n",
      "WARNING:sagemaker.workflow.utilities:Popping out 'TrainingJobName' from the pipeline definition by default since it will be overridden at pipeline execution time. Please utilize the PipelineDefinitionConfig to persist this field in the pipeline definition if desired.\n",
      "WARNING:sagemaker.workflow.utilities:Popping out 'ModelPackageName' from the pipeline definition by default since it will be overridden at pipeline execution time. Please utilize the PipelineDefinitionConfig to persist this field in the pipeline definition if desired.\n",
      "WARNING:sagemaker.workflow.utilities:Popping out 'ProcessingJobName' from the pipeline definition by default since it will be overridden at pipeline execution time. Please utilize the PipelineDefinitionConfig to persist this field in the pipeline definition if desired.\n",
      "WARNING:sagemaker.workflow.utilities:Popping out 'ProcessingJobName' from the pipeline definition by default since it will be overridden at pipeline execution time. Please utilize the PipelineDefinitionConfig to persist this field in the pipeline definition if desired.\n",
      "WARNING:sagemaker.workflow.utilities:Popping out 'TrainingJobName' from the pipeline definition by default since it will be overridden at pipeline execution time. Please utilize the PipelineDefinitionConfig to persist this field in the pipeline definition if desired.\n",
      "WARNING:sagemaker.workflow.utilities:Popping out 'ModelPackageName' from the pipeline definition by default since it will be overridden at pipeline execution time. Please utilize the PipelineDefinitionConfig to persist this field in the pipeline definition if desired.\n"
     ]
    },
    {
     "data": {
      "text/plain": [
       "{'PipelineArn': 'arn:aws:sagemaker:us-east-1:654654157683:pipeline/emp-bonus-training-pipeline',\n",
       " 'ResponseMetadata': {'RequestId': 'cc0ca534-9266-4f92-95e4-698fa6bf6f30',\n",
       "  'HTTPStatusCode': 200,\n",
       "  'HTTPHeaders': {'x-amzn-requestid': 'cc0ca534-9266-4f92-95e4-698fa6bf6f30',\n",
       "   'content-type': 'application/x-amz-json-1.1',\n",
       "   'content-length': '117',\n",
       "   'date': 'Sun, 03 Aug 2025 18:51:32 GMT'},\n",
       "  'RetryAttempts': 0}}"
      ]
     },
     "execution_count": 46,
     "metadata": {},
     "output_type": "execute_result"
    }
   ],
   "source": [
    "# Create a new or update existing Pipeline\n",
    "pipeline.upsert(role_arn=role)"
   ]
  },
  {
   "cell_type": "markdown",
   "id": "bc6b3511-8dc8-4eb2-9e09-91360921bc96",
   "metadata": {
    "jp-MarkdownHeadingCollapsed": true
   },
   "source": [
    "### Step 7: Pipeline Execution\n",
    "#### 🔧 Purpose:\n",
    "Execute the complete MLOps pipeline and monitor progress."
   ]
  },
  {
   "cell_type": "code",
   "execution_count": 47,
   "id": "40041866-4a95-4e0f-8769-7e05a7094b76",
   "metadata": {
    "execution": {
     "iopub.execute_input": "2025-08-03T18:51:32.849053Z",
     "iopub.status.busy": "2025-08-03T18:51:32.848160Z",
     "iopub.status.idle": "2025-08-03T18:51:33.035166Z",
     "shell.execute_reply": "2025-08-03T18:51:33.034438Z",
     "shell.execute_reply.started": "2025-08-03T18:51:32.849030Z"
    }
   },
   "outputs": [
    {
     "data": {
      "text/plain": [
       "_PipelineExecution(arn='arn:aws:sagemaker:us-east-1:654654157683:pipeline/emp-bonus-training-pipeline/execution/zq1k7knn6eia', sagemaker_session=<sagemaker.session.Session object at 0x7fbae1477aa0>)"
      ]
     },
     "execution_count": 47,
     "metadata": {},
     "output_type": "execute_result"
    }
   ],
   "source": [
    "# start Pipeline execution\n",
    "pipeline.start()"
   ]
  },
  {
   "cell_type": "markdown",
   "id": "5716e507",
   "metadata": {},
   "source": [
    "## 🎉 What You've Built\n",
    "Congratulations! You've created a production-ready MLOps pipeline that:  \n",
    "✅ Automatically processes employee data.  \n",
    "✅ Trains models with best practices.  \n",
    "✅ Implements governance through model registry.  \n",
    "✅ Enables reproducibility through parameterization.  \n",
    "✅ Provides monitoring and debugging capabilities.  "
   ]
  }
 ],
 "metadata": {
  "kernelspec": {
   "display_name": "Python 3 (ipykernel)",
   "language": "python",
   "name": "python3"
  },
  "language_info": {
   "codemirror_mode": {
    "name": "ipython",
    "version": 3
   },
   "file_extension": ".py",
   "mimetype": "text/x-python",
   "name": "python",
   "nbconvert_exporter": "python",
   "pygments_lexer": "ipython3",
   "version": "3.12.9"
  }
 },
 "nbformat": 4,
 "nbformat_minor": 5
}
