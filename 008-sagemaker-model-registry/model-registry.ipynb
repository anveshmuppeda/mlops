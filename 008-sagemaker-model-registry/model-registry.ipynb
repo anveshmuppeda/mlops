{
 "cells": [
  {
   "cell_type": "code",
   "execution_count": 2,
   "id": "3f4c7b63-044d-466e-ad87-15f80fa93f29",
   "metadata": {
    "execution": {
     "iopub.execute_input": "2025-07-30T01:51:44.411357Z",
     "iopub.status.busy": "2025-07-30T01:51:44.410510Z",
     "iopub.status.idle": "2025-07-30T01:51:44.415449Z",
     "shell.execute_reply": "2025-07-30T01:51:44.414757Z",
     "shell.execute_reply.started": "2025-07-30T01:51:44.411319Z"
    }
   },
   "outputs": [
    {
     "name": "stdout",
     "output_type": "stream",
     "text": [
      "Hello..\n"
     ]
    }
   ],
   "source": [
    "print(\"Hello..\")"
   ]
  },
  {
   "cell_type": "code",
   "execution_count": 1,
   "id": "c3a78ddf-9320-4407-b760-e02b6bf05e17",
   "metadata": {},
   "outputs": [
    {
     "name": "stdout",
     "output_type": "stream",
     "text": [
      "sagemaker.config INFO - Not applying SDK defaults from location: /etc/xdg/sagemaker/config.yaml\n",
      "sagemaker.config INFO - Not applying SDK defaults from location: /home/sagemaker-user/.config/sagemaker/config.yaml\n",
      "Using bucket: sagemaker-us-east-1-992382661670\n"
     ]
    }
   ],
   "source": [
    "# Import necessary libraries\n",
    "import sagemaker\n",
    "from sagemaker import get_execution_role\n",
    "import boto3\n",
    "import pandas as pd\n",
    "from sklearn.model_selection import train_test_split\n",
    "import os\n",
    "import time\n",
    "from sagemaker.session import Session\n",
    "from sagemaker import Model\n",
    "from sagemaker import ModelPackage\n",
    "\n",
    "# Initialize SageMaker session and role\n",
    "sagemaker_session = sagemaker.Session()\n",
    "role = get_execution_role()\n",
    "\n",
    "# Define the S3 bucket and prefix for storing data\n",
    "s3_bucket = sagemaker_session.default_bucket()  # Default bucket created by SageMaker\n",
    "s3_prefix = 'emp-bonus-linearlearner'  # Prefix for organizing data in S3\n",
    "\n",
    "# This has to be updated based on the previous model training job\n",
    "training_job_name = 'linear-learner-2025-07-30-01-14-47-200'\n",
    "\n",
    "print(f\"Using bucket: {s3_bucket}\")"
   ]
  },
  {
   "cell_type": "markdown",
   "id": "bf6c23d6-da6b-4777-8270-7b819851432e",
   "metadata": {},
   "source": [
    "### Step 1: Prepare Model"
   ]
  },
  {
   "cell_type": "code",
   "execution_count": 3,
   "id": "a0046e12-b8a9-4ec0-bbaa-1c6993862367",
   "metadata": {
    "execution": {
     "iopub.execute_input": "2025-07-30T22:36:13.385477Z",
     "iopub.status.busy": "2025-07-30T22:36:13.385168Z",
     "iopub.status.idle": "2025-07-30T22:36:13.637455Z",
     "shell.execute_reply": "2025-07-30T22:36:13.636723Z",
     "shell.execute_reply.started": "2025-07-30T22:36:13.385455Z"
    }
   },
   "outputs": [
    {
     "name": "stdout",
     "output_type": "stream",
     "text": [
      "File uploaded to: s3://sagemaker-us-east-1-992382661670/emp-bonus-linearlearner/model.tar.gz\n",
      "s3://sagemaker-us-east-1-992382661670/emp-bonus-linearlearner/model.tar.gz\n",
      "SageMaker Linear Learner Image URI: 382416733822.dkr.ecr.us-east-1.amazonaws.com/linear-learner:1\n"
     ]
    }
   ],
   "source": [
    "# Upload the model artifact to S3\n",
    "local_file_path = 'data/model.tar.gz'\n",
    "s3_uri = sagemaker_session.upload_data(local_file_path, bucket=s3_bucket, key_prefix = s3_prefix)\n",
    "print(f\"File uploaded to: {s3_uri}\")\n",
    "model_artifact = f's3://{s3_bucket}/{s3_prefix}/model.tar.gz'\n",
    "\n",
    "# Determine what AWS region we are in\n",
    "region = sagemaker_session.boto_region_name\n",
    "# Retrieve the Linear Learner image URI\n",
    "container_image_uri = sagemaker.image_uris.retrieve(framework=\"linear-learner\", region=region)\n",
    "\n",
    "print(model_artifact)\n",
    "\n",
    "# Print path to container image\n",
    "print(f\"SageMaker Linear Learner Image URI: {container_image_uri}\")\n",
    "\n",
    "# Assign a meaningful name to the model\n",
    "model_name = 'emp-bonus'  # Give it a name for identification\n",
    "\n",
    "# Create the SageMaker model\n",
    "model = Model(\n",
    "    image_uri=container_image_uri,  # Use the appropriate image URI for your model's container\n",
    "    model_data=model_artifact,      # Path to the model artifact (model.tgz)\n",
    "    role=get_execution_role(),\n",
    "    sagemaker_session=sagemaker_session,\n",
    "    name=model_name\n",
    ")"
   ]
  },
  {
   "cell_type": "markdown",
   "id": "d2665759-f298-43ad-bfd4-6993dc5c65bc",
   "metadata": {},
   "source": [
    "### Step 2: Create a Model Package Group in SageMaker Model Registry"
   ]
  },
  {
   "cell_type": "code",
   "execution_count": 4,
   "id": "5023e529-a242-4d52-a2d0-b0e742e71e8c",
   "metadata": {
    "execution": {
     "iopub.execute_input": "2025-07-30T22:36:18.436446Z",
     "iopub.status.busy": "2025-07-30T22:36:18.436149Z",
     "iopub.status.idle": "2025-07-30T22:36:18.747730Z",
     "shell.execute_reply": "2025-07-30T22:36:18.746909Z",
     "shell.execute_reply.started": "2025-07-30T22:36:18.436421Z"
    }
   },
   "outputs": [
    {
     "name": "stdout",
     "output_type": "stream",
     "text": [
      "Created Model Package Group: emp-bonus-prediction-group\n"
     ]
    }
   ],
   "source": [
    "# Create a model package group\n",
    "model_package_group_name = 'emp-bonus-prediction-group'\n",
    "model_package_group_description = 'SageMaker model package group for employee bonus prediction'\n",
    "sagemaker_client = boto3.client('sagemaker')\n",
    "\n",
    "try:\n",
    "    sagemaker_client.create_model_package_group(\n",
    "        ModelPackageGroupName=model_package_group_name,\n",
    "        ModelPackageGroupDescription=model_package_group_description\n",
    "    )\n",
    "    print(f'Created Model Package Group: {model_package_group_name}')\n",
    "    \n",
    "except sagemaker_client.exceptions.ResourceInUse:\n",
    "    print(f'Model Package Group {model_package_group_name} already exists.')\n"
   ]
  },
  {
   "cell_type": "markdown",
   "id": "0c440d25-c9de-44bf-aa03-73be39c106a2",
   "metadata": {},
   "source": [
    "### Step 3: Register Model into SageMaker Model Registry"
   ]
  },
  {
   "cell_type": "code",
   "execution_count": 5,
   "id": "b7fb4d82-abfb-41d5-87a6-931af423a7ec",
   "metadata": {
    "execution": {
     "iopub.execute_input": "2025-07-30T22:36:25.121563Z",
     "iopub.status.busy": "2025-07-30T22:36:25.120857Z",
     "iopub.status.idle": "2025-07-30T22:36:25.580700Z",
     "shell.execute_reply": "2025-07-30T22:36:25.579957Z",
     "shell.execute_reply.started": "2025-07-30T22:36:25.121531Z"
    }
   },
   "outputs": [
    {
     "name": "stdout",
     "output_type": "stream",
     "text": [
      "PendingManualApproval\n",
      "emp-bonus-prediction-group\n",
      "{'ModelType': 'EmpBonusPrediction'}\n",
      "Model package version ARN: arn:aws:sagemaker:us-east-1:992382661670:model-package/emp-bonus-prediction-group/1\n"
     ]
    }
   ],
   "source": [
    "# Register the model\n",
    "\n",
    "model_approval_status = \"PendingManualApproval\"\n",
    "customer_metadata_properties = {\"ModelType\": \"EmpBonusPrediction\"}\n",
    "\n",
    "print(model_approval_status)\n",
    "print(model_package_group_name)\n",
    "print(customer_metadata_properties)\n",
    "model_package = model.register(\n",
    "    content_types=[\"text/csv\"],\n",
    "    response_types=[\"text/csv\"],\n",
    "    inference_instances=[\"ml.m5.large\", \"ml.m5.large\"],\n",
    "    transform_instances=[\"ml.m5.large\"],\n",
    "    model_package_group_name=model_package_group_name,\n",
    "    approval_status=model_approval_status,\n",
    "    customer_metadata_properties=customer_metadata_properties,\n",
    ")\n",
    "\n",
    "print(f\"Model package version ARN: {model_package.model_package_arn}\")"
   ]
  },
  {
   "cell_type": "markdown",
   "id": "a9c3fa37-7c76-4cc9-82a5-4fc03b5bcdb9",
   "metadata": {},
   "source": [
    "### Step 4: Retrieve the Model from the SageMaker Model Registry"
   ]
  },
  {
   "cell_type": "code",
   "execution_count": 18,
   "id": "ade42741-bbc6-4d5d-ab96-7898f6b44117",
   "metadata": {
    "execution": {
     "iopub.execute_input": "2025-07-30T22:41:53.995960Z",
     "iopub.status.busy": "2025-07-30T22:41:53.993809Z",
     "iopub.status.idle": "2025-07-30T22:41:54.086139Z",
     "shell.execute_reply": "2025-07-30T22:41:54.085407Z",
     "shell.execute_reply.started": "2025-07-30T22:41:53.995925Z"
    }
   },
   "outputs": [
    {
     "name": "stdout",
     "output_type": "stream",
     "text": [
      "ARN: arn:aws:sagemaker:us-east-1:992382661670:model-package/emp-bonus-prediction-group/1 | Status: PendingManualApproval\n"
     ]
    }
   ],
   "source": [
    "# Fetch the latest approved model package from the model registry\n",
    "response = sagemaker_client.list_model_packages(\n",
    "    ModelPackageGroupName=model_package_group_name,\n",
    "    ModelApprovalStatus='Approved',\n",
    "    SortBy='CreationTime',\n",
    "    SortOrder='Descending'\n",
    ")\n",
    "\n",
    "# latest_model_package_arn = response['ModelPackageSummaryList'][0]['ModelPackageArn']\n",
    "# print(f'Latest Approved Model Package ARN: {latest_model_package_arn}')\n",
    "\n",
    "# Fetch all model packages in the model group (any status)\n",
    "response = sagemaker_client.list_model_packages(\n",
    "    ModelPackageGroupName=model_package_group_name,\n",
    "    SortBy='CreationTime',\n",
    "    SortOrder='Descending'\n",
    ")\n",
    "\n",
    "# Print all model package ARNs and their approval status\n",
    "for model_pkg in response['ModelPackageSummaryList']:\n",
    "    arn = model_pkg['ModelPackageArn']\n",
    "    status = model_pkg.get('ModelApprovalStatus', 'N/A')\n",
    "    print(f\"ARN: {arn} | Status: {status}\")\n"
   ]
  }
 ],
 "metadata": {
  "kernelspec": {
   "display_name": "Python 3 (ipykernel)",
   "language": "python",
   "name": "python3"
  },
  "language_info": {
   "codemirror_mode": {
    "name": "ipython",
    "version": 3
   },
   "file_extension": ".py",
   "mimetype": "text/x-python",
   "name": "python",
   "nbconvert_exporter": "python",
   "pygments_lexer": "ipython3",
   "version": "3.12.9"
  }
 },
 "nbformat": 4,
 "nbformat_minor": 5
}
