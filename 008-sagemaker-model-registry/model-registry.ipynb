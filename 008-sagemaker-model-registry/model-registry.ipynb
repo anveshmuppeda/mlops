{
 "cells": [
  {
   "cell_type": "markdown",
   "id": "62699972",
   "metadata": {},
   "source": [
    "# Model Registry in SageMaker\n",
    "This notebook demonstrates how to register a trained model in the SageMaker Model Registry. \n",
    "It includes steps for creating a model package, adding metadata, and managing model versions.\n",
    "\n",
    "So in this notebook, we will use the model we trained in the previous notebook, `[model_training.ipynb](./model_training.ipynb)`.   \n",
    "\n",
    "## About the Model Registry\n",
    "The SageMaker Model Registry is a centralized repository for managing machine learning models. It allows you to:\n",
    "- **Register Models**: Store and manage trained models with versioning.\n",
    "- **Track Model Metadata**: Maintain metadata such as model performance metrics, training data, and environment configurations.\n",
    "- **Promote Models**: Move models through different stages (e.g., development, staging, production) using lifecycle policies."
   ]
  },
  {
   "cell_type": "markdown",
   "id": "e164e40d",
   "metadata": {},
   "source": [
    "### Step 1: Import Required Libraries & Set Up Environment"
   ]
  },
  {
   "cell_type": "code",
   "execution_count": null,
   "id": "c3a78ddf-9320-4407-b760-e02b6bf05e17",
   "metadata": {
    "execution": {
     "iopub.execute_input": "2025-07-31T01:16:13.868465Z",
     "iopub.status.busy": "2025-07-31T01:16:13.868061Z",
     "iopub.status.idle": "2025-07-31T01:16:18.010749Z",
     "shell.execute_reply": "2025-07-31T01:16:18.009945Z",
     "shell.execute_reply.started": "2025-07-31T01:16:13.868439Z"
    }
   },
   "outputs": [
    {
     "name": "stdout",
     "output_type": "stream",
     "text": [
      "sagemaker.config INFO - Not applying SDK defaults from location: /etc/xdg/sagemaker/config.yaml\n",
      "sagemaker.config INFO - Not applying SDK defaults from location: /home/sagemaker-user/.config/sagemaker/config.yaml\n",
      "Using bucket: sagemaker-us-east-1-767397738123\n"
     ]
    }
   ],
   "source": [
    "# Import necessary libraries\n",
    "import sagemaker\n",
    "from sagemaker import get_execution_role\n",
    "import boto3\n",
    "import pandas as pd\n",
    "from sklearn.model_selection import train_test_split\n",
    "import os\n",
    "import time\n",
    "from sagemaker.session import Session\n",
    "from sagemaker import Model\n",
    "from sagemaker import ModelPackage\n",
    "\n",
    "# Initialize SageMaker session and role\n",
    "sagemaker_session = sagemaker.Session()\n",
    "role = get_execution_role()\n",
    "\n",
    "# Define the S3 bucket and prefix for storing data\n",
    "s3_bucket = sagemaker_session.default_bucket()  # Default bucket created by SageMaker\n",
    "s3_prefix = 'emp-bonus-linearlearner'  # Prefix for organizing data in S3\n",
    "\n",
    "print(f\"Using bucket: {s3_bucket}\")"
   ]
  },
  {
   "cell_type": "markdown",
   "id": "bf6c23d6-da6b-4777-8270-7b819851432e",
   "metadata": {},
   "source": [
    "### Step 2: Prepare Model"
   ]
  },
  {
   "cell_type": "code",
   "execution_count": 2,
   "id": "a0046e12-b8a9-4ec0-bbaa-1c6993862367",
   "metadata": {
    "execution": {
     "iopub.execute_input": "2025-07-31T01:16:18.012742Z",
     "iopub.status.busy": "2025-07-31T01:16:18.012298Z",
     "iopub.status.idle": "2025-07-31T01:16:18.234523Z",
     "shell.execute_reply": "2025-07-31T01:16:18.233806Z",
     "shell.execute_reply.started": "2025-07-31T01:16:18.012717Z"
    }
   },
   "outputs": [
    {
     "name": "stdout",
     "output_type": "stream",
     "text": [
      "File uploaded to: s3://sagemaker-us-east-1-767397738123/emp-bonus-linearlearner/model.tar.gz\n",
      "s3://sagemaker-us-east-1-767397738123/emp-bonus-linearlearner/model.tar.gz\n",
      "SageMaker Linear Learner Image URI: 382416733822.dkr.ecr.us-east-1.amazonaws.com/linear-learner:1\n"
     ]
    }
   ],
   "source": [
    "# Upload the model artifact to S3\n",
    "local_file_path = 'data/model.tar.gz'\n",
    "s3_uri = sagemaker_session.upload_data(local_file_path, bucket=s3_bucket, key_prefix = s3_prefix)\n",
    "print(f\"File uploaded to: {s3_uri}\")\n",
    "model_artifact = f's3://{s3_bucket}/{s3_prefix}/model.tar.gz'\n",
    "\n",
    "# Determine what AWS region we are in\n",
    "region = sagemaker_session.boto_region_name\n",
    "# Retrieve the Linear Learner image URI\n",
    "container_image_uri = sagemaker.image_uris.retrieve(framework=\"linear-learner\", region=region)\n",
    "\n",
    "print(model_artifact)\n",
    "\n",
    "# Print path to container image\n",
    "print(f\"SageMaker Linear Learner Image URI: {container_image_uri}\")\n",
    "\n",
    "# Assign a meaningful name to the model\n",
    "model_name = 'emp-bonus'  # Give it a name for identification\n",
    "\n",
    "# Create the SageMaker model\n",
    "model = Model(\n",
    "    image_uri=container_image_uri,  # Use the appropriate image URI for your model's container\n",
    "    model_data=model_artifact,      # Path to the model artifact (model.tgz)\n",
    "    role=get_execution_role(),\n",
    "    sagemaker_session=sagemaker_session,\n",
    "    name=model_name\n",
    ")"
   ]
  },
  {
   "cell_type": "markdown",
   "id": "d2665759-f298-43ad-bfd4-6993dc5c65bc",
   "metadata": {},
   "source": [
    "### Step 3: Create a Model Package Group in SageMaker Model Registry"
   ]
  },
  {
   "cell_type": "code",
   "execution_count": 3,
   "id": "5023e529-a242-4d52-a2d0-b0e742e71e8c",
   "metadata": {
    "execution": {
     "iopub.execute_input": "2025-07-31T01:16:18.235618Z",
     "iopub.status.busy": "2025-07-31T01:16:18.235383Z",
     "iopub.status.idle": "2025-07-31T01:16:18.504113Z",
     "shell.execute_reply": "2025-07-31T01:16:18.503360Z",
     "shell.execute_reply.started": "2025-07-31T01:16:18.235599Z"
    }
   },
   "outputs": [
    {
     "name": "stdout",
     "output_type": "stream",
     "text": [
      "Created Model Package Group: emp-bonus-prediction-group\n"
     ]
    }
   ],
   "source": [
    "# Create a model package group\n",
    "model_package_group_name = 'emp-bonus-prediction-group'\n",
    "model_package_group_description = 'SageMaker model package group for employee bonus prediction'\n",
    "sagemaker_client = boto3.client('sagemaker')\n",
    "\n",
    "try:\n",
    "    sagemaker_client.create_model_package_group(\n",
    "        ModelPackageGroupName=model_package_group_name,\n",
    "        ModelPackageGroupDescription=model_package_group_description\n",
    "    )\n",
    "    print(f'Created Model Package Group: {model_package_group_name}')\n",
    "    \n",
    "except sagemaker_client.exceptions.ResourceInUse:\n",
    "    print(f'Model Package Group {model_package_group_name} already exists.')\n"
   ]
  },
  {
   "cell_type": "markdown",
   "id": "0c440d25-c9de-44bf-aa03-73be39c106a2",
   "metadata": {},
   "source": [
    "### Step 4: Register Model into SageMaker Model Registry"
   ]
  },
  {
   "cell_type": "code",
   "execution_count": 12,
   "id": "b7fb4d82-abfb-41d5-87a6-931af423a7ec",
   "metadata": {
    "execution": {
     "iopub.execute_input": "2025-07-31T01:20:11.707204Z",
     "iopub.status.busy": "2025-07-31T01:20:11.706377Z",
     "iopub.status.idle": "2025-07-31T01:20:12.133803Z",
     "shell.execute_reply": "2025-07-31T01:20:12.132959Z",
     "shell.execute_reply.started": "2025-07-31T01:20:11.707165Z"
    }
   },
   "outputs": [
    {
     "name": "stdout",
     "output_type": "stream",
     "text": [
      "PendingManualApproval\n",
      "emp-bonus-prediction-group\n",
      "{'ModelType': 'EmpBonusPrediction'}\n",
      "Model package version ARN: arn:aws:sagemaker:us-east-1:767397738123:model-package/emp-bonus-prediction-group/3\n"
     ]
    }
   ],
   "source": [
    "# Register the model\n",
    "\n",
    "model_approval_status = \"PendingManualApproval\"\n",
    "customer_metadata_properties = {\"ModelType\": \"EmpBonusPrediction\"}\n",
    "\n",
    "print(model_approval_status)\n",
    "print(model_package_group_name)\n",
    "print(customer_metadata_properties)\n",
    "model_package = model.register(\n",
    "    content_types=[\"text/csv\"],\n",
    "    response_types=[\"text/csv\"],\n",
    "    inference_instances=[\"ml.m5.large\", \"ml.m5.large\"],\n",
    "    transform_instances=[\"ml.m5.large\"],\n",
    "    model_package_group_name=model_package_group_name,\n",
    "    approval_status=model_approval_status,\n",
    "    customer_metadata_properties=customer_metadata_properties,\n",
    ")\n",
    "\n",
    "print(f\"Model package version ARN: {model_package.model_package_arn}\")"
   ]
  },
  {
   "cell_type": "markdown",
   "id": "a9c3fa37-7c76-4cc9-82a5-4fc03b5bcdb9",
   "metadata": {},
   "source": [
    "### Step 5: Retrieve the Model from the SageMaker Model Registry"
   ]
  },
  {
   "cell_type": "code",
   "execution_count": 14,
   "id": "ade42741-bbc6-4d5d-ab96-7898f6b44117",
   "metadata": {
    "execution": {
     "iopub.execute_input": "2025-07-31T01:26:14.289086Z",
     "iopub.status.busy": "2025-07-31T01:26:14.288257Z",
     "iopub.status.idle": "2025-07-31T01:26:14.413065Z",
     "shell.execute_reply": "2025-07-31T01:26:14.412180Z",
     "shell.execute_reply.started": "2025-07-31T01:26:14.288992Z"
    }
   },
   "outputs": [
    {
     "name": "stdout",
     "output_type": "stream",
     "text": [
      "Latest Approved Model Package ARN: arn:aws:sagemaker:us-east-1:767397738123:model-package/emp-bonus-prediction-group/1\n",
      "\n",
      "All versions with their status:\n",
      "\n",
      "ARN: arn:aws:sagemaker:us-east-1:767397738123:model-package/emp-bonus-prediction-group/3 | Status: Rejected\n",
      "ARN: arn:aws:sagemaker:us-east-1:767397738123:model-package/emp-bonus-prediction-group/2 | Status: PendingManualApproval\n",
      "ARN: arn:aws:sagemaker:us-east-1:767397738123:model-package/emp-bonus-prediction-group/1 | Status: Approved\n"
     ]
    }
   ],
   "source": [
    "# Fetch the latest approved model package from the model registry\n",
    "response = sagemaker_client.list_model_packages(\n",
    "    ModelPackageGroupName=model_package_group_name,\n",
    "    ModelApprovalStatus='Approved',\n",
    "    SortBy='CreationTime',\n",
    "    SortOrder='Descending'\n",
    ")\n",
    "\n",
    "latest_model_package_arn = response['ModelPackageSummaryList'][0]['ModelPackageArn']\n",
    "print(f'Latest Approved Model Package ARN: {latest_model_package_arn}')\n",
    "\n",
    "# Fetch all model packages in the model group (any status)\n",
    "response = sagemaker_client.list_model_packages(\n",
    "    ModelPackageGroupName=model_package_group_name,\n",
    "    SortBy='CreationTime',\n",
    "    SortOrder='Descending'\n",
    ")\n",
    "\n",
    "print(\"\\nAll versions with their status:\\n\")\n",
    "\n",
    "# Print all model package ARNs and their approval status\n",
    "for model_pkg in response['ModelPackageSummaryList']:\n",
    "    arn = model_pkg['ModelPackageArn']\n",
    "    status = model_pkg.get('ModelApprovalStatus', 'N/A')\n",
    "    print(f\"ARN: {arn} | Status: {status}\")\n"
   ]
  }
 ],
 "metadata": {
  "kernelspec": {
   "display_name": "Python 3 (ipykernel)",
   "language": "python",
   "name": "python3"
  },
  "language_info": {
   "codemirror_mode": {
    "name": "ipython",
    "version": 3
   },
   "file_extension": ".py",
   "mimetype": "text/x-python",
   "name": "python",
   "nbconvert_exporter": "python",
   "pygments_lexer": "ipython3",
   "version": "3.12.9"
  }
 },
 "nbformat": 4,
 "nbformat_minor": 5
}
