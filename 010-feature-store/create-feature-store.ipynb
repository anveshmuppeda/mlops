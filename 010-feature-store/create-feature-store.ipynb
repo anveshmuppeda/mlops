{
 "cells": [
  {
   "cell_type": "markdown",
   "id": "4a626e46-c0cc-4de1-9fbf-c52ec33a9eac",
   "metadata": {},
   "source": [
    "# Feature Store Demo"
   ]
  },
  {
   "cell_type": "markdown",
   "id": "f91770f9-96d3-44ec-b3ac-976b52bcb8c2",
   "metadata": {
    "jp-MarkdownHeadingCollapsed": true
   },
   "source": [
    "## Step 1: Transform Customers Data"
   ]
  },
  {
   "cell_type": "code",
   "execution_count": 2,
   "id": "55446b5f-4e13-40a8-ad76-f2d09823c2d7",
   "metadata": {
    "execution": {
     "iopub.execute_input": "2025-08-09T17:44:00.881497Z",
     "iopub.status.busy": "2025-08-09T17:44:00.881104Z",
     "iopub.status.idle": "2025-08-09T17:44:01.816761Z",
     "shell.execute_reply": "2025-08-09T17:44:01.816046Z",
     "shell.execute_reply.started": "2025-08-09T17:44:00.881472Z"
    }
   },
   "outputs": [],
   "source": [
    "import pandas as pd\n",
    "from sklearn.preprocessing import  LabelEncoder,MinMaxScaler\n",
    "from datetime import datetime,date,timezone"
   ]
  },
  {
   "cell_type": "code",
   "execution_count": 7,
   "id": "99dff352-c93c-4600-91fb-1e2643c1e958",
   "metadata": {
    "execution": {
     "iopub.execute_input": "2025-08-09T17:45:48.556247Z",
     "iopub.status.busy": "2025-08-09T17:45:48.555440Z",
     "iopub.status.idle": "2025-08-09T17:45:48.581630Z",
     "shell.execute_reply": "2025-08-09T17:45:48.580948Z",
     "shell.execute_reply.started": "2025-08-09T17:45:48.556216Z"
    }
   },
   "outputs": [],
   "source": [
    "customers_df = pd.read_csv(\"raw/customers.csv\")"
   ]
  },
  {
   "cell_type": "code",
   "execution_count": 8,
   "id": "b21452e9-6819-4772-be2a-5b3bd197c697",
   "metadata": {
    "execution": {
     "iopub.execute_input": "2025-08-09T17:45:49.879482Z",
     "iopub.status.busy": "2025-08-09T17:45:49.878828Z",
     "iopub.status.idle": "2025-08-09T17:45:49.888952Z",
     "shell.execute_reply": "2025-08-09T17:45:49.888264Z",
     "shell.execute_reply.started": "2025-08-09T17:45:49.879453Z"
    }
   },
   "outputs": [
    {
     "data": {
      "text/html": [
       "<div>\n",
       "<style scoped>\n",
       "    .dataframe tbody tr th:only-of-type {\n",
       "        vertical-align: middle;\n",
       "    }\n",
       "\n",
       "    .dataframe tbody tr th {\n",
       "        vertical-align: top;\n",
       "    }\n",
       "\n",
       "    .dataframe thead th {\n",
       "        text-align: right;\n",
       "    }\n",
       "</style>\n",
       "<table border=\"1\" class=\"dataframe\">\n",
       "  <thead>\n",
       "    <tr style=\"text-align: right;\">\n",
       "      <th></th>\n",
       "      <th>Unnamed: 0</th>\n",
       "      <th>customer_id</th>\n",
       "      <th>name</th>\n",
       "      <th>sex</th>\n",
       "      <th>state</th>\n",
       "      <th>age</th>\n",
       "      <th>is_married</th>\n",
       "      <th>active_since</th>\n",
       "      <th>event_time</th>\n",
       "    </tr>\n",
       "  </thead>\n",
       "  <tbody>\n",
       "    <tr>\n",
       "      <th>0</th>\n",
       "      <td>0</td>\n",
       "      <td>C1</td>\n",
       "      <td>brooke williams</td>\n",
       "      <td>F</td>\n",
       "      <td>alabama</td>\n",
       "      <td>76</td>\n",
       "      <td>True</td>\n",
       "      <td>2019-03-09 14:43:26</td>\n",
       "      <td>2024-05-02T05:39:10.965Z</td>\n",
       "    </tr>\n",
       "    <tr>\n",
       "      <th>1</th>\n",
       "      <td>1</td>\n",
       "      <td>C2</td>\n",
       "      <td>jim reese</td>\n",
       "      <td>M</td>\n",
       "      <td>oregon</td>\n",
       "      <td>76</td>\n",
       "      <td>True</td>\n",
       "      <td>2016-07-24 05:21:59</td>\n",
       "      <td>2024-05-02T05:39:10.966Z</td>\n",
       "    </tr>\n",
       "    <tr>\n",
       "      <th>2</th>\n",
       "      <td>2</td>\n",
       "      <td>C3</td>\n",
       "      <td>adam walker phd</td>\n",
       "      <td>M</td>\n",
       "      <td>north dakota</td>\n",
       "      <td>40</td>\n",
       "      <td>True</td>\n",
       "      <td>2017-11-21 01:14:51</td>\n",
       "      <td>2024-05-02T05:39:10.967Z</td>\n",
       "    </tr>\n",
       "    <tr>\n",
       "      <th>3</th>\n",
       "      <td>3</td>\n",
       "      <td>C4</td>\n",
       "      <td>nathan roberts</td>\n",
       "      <td>M</td>\n",
       "      <td>louisiana</td>\n",
       "      <td>68</td>\n",
       "      <td>False</td>\n",
       "      <td>2016-11-16 04:44:55</td>\n",
       "      <td>2024-05-02T05:39:10.967Z</td>\n",
       "    </tr>\n",
       "    <tr>\n",
       "      <th>4</th>\n",
       "      <td>4</td>\n",
       "      <td>C5</td>\n",
       "      <td>richard adkins</td>\n",
       "      <td>M</td>\n",
       "      <td>idaho</td>\n",
       "      <td>62</td>\n",
       "      <td>False</td>\n",
       "      <td>2017-03-27 21:09:31</td>\n",
       "      <td>2024-05-02T05:39:10.968Z</td>\n",
       "    </tr>\n",
       "  </tbody>\n",
       "</table>\n",
       "</div>"
      ],
      "text/plain": [
       "   Unnamed: 0 customer_id             name sex         state  age  is_married  \\\n",
       "0           0          C1  brooke williams   F       alabama   76        True   \n",
       "1           1          C2        jim reese   M        oregon   76        True   \n",
       "2           2          C3  adam walker phd   M  north dakota   40        True   \n",
       "3           3          C4   nathan roberts   M     louisiana   68       False   \n",
       "4           4          C5   richard adkins   M         idaho   62       False   \n",
       "\n",
       "          active_since                event_time  \n",
       "0  2019-03-09 14:43:26  2024-05-02T05:39:10.965Z  \n",
       "1  2016-07-24 05:21:59  2024-05-02T05:39:10.966Z  \n",
       "2  2017-11-21 01:14:51  2024-05-02T05:39:10.967Z  \n",
       "3  2016-11-16 04:44:55  2024-05-02T05:39:10.967Z  \n",
       "4  2017-03-27 21:09:31  2024-05-02T05:39:10.968Z  "
      ]
     },
     "execution_count": 8,
     "metadata": {},
     "output_type": "execute_result"
    }
   ],
   "source": [
    "customers_df.head()"
   ]
  },
  {
   "cell_type": "code",
   "execution_count": 9,
   "id": "8dcc6372-9a97-4e06-999c-47e0e6e197b0",
   "metadata": {
    "execution": {
     "iopub.execute_input": "2025-08-09T17:45:54.564534Z",
     "iopub.status.busy": "2025-08-09T17:45:54.564238Z",
     "iopub.status.idle": "2025-08-09T17:45:54.568130Z",
     "shell.execute_reply": "2025-08-09T17:45:54.567415Z",
     "shell.execute_reply.started": "2025-08-09T17:45:54.564513Z"
    }
   },
   "outputs": [],
   "source": [
    "label_encoder = LabelEncoder()\n",
    "min_max_scaler = MinMaxScaler()"
   ]
  },
  {
   "cell_type": "code",
   "execution_count": 10,
   "id": "28f6bbf9-52cf-4bc4-b962-21c14326ac73",
   "metadata": {
    "execution": {
     "iopub.execute_input": "2025-08-09T17:45:58.566312Z",
     "iopub.status.busy": "2025-08-09T17:45:58.566022Z",
     "iopub.status.idle": "2025-08-09T17:45:58.571197Z",
     "shell.execute_reply": "2025-08-09T17:45:58.570606Z",
     "shell.execute_reply.started": "2025-08-09T17:45:58.566292Z"
    }
   },
   "outputs": [],
   "source": [
    "customers_df.drop(columns = ['name','state'], inplace=True)"
   ]
  },
  {
   "cell_type": "code",
   "execution_count": 11,
   "id": "54dab15e-23d5-41f6-9027-a482dafc2238",
   "metadata": {
    "execution": {
     "iopub.execute_input": "2025-08-09T17:46:01.351812Z",
     "iopub.status.busy": "2025-08-09T17:46:01.351407Z",
     "iopub.status.idle": "2025-08-09T17:46:01.364813Z",
     "shell.execute_reply": "2025-08-09T17:46:01.364010Z",
     "shell.execute_reply.started": "2025-08-09T17:46:01.351786Z"
    }
   },
   "outputs": [
    {
     "name": "stdout",
     "output_type": "stream",
     "text": [
      "<class 'pandas.core.frame.DataFrame'>\n",
      "RangeIndex: 10000 entries, 0 to 9999\n",
      "Data columns (total 7 columns):\n",
      " #   Column        Non-Null Count  Dtype \n",
      "---  ------        --------------  ----- \n",
      " 0   Unnamed: 0    10000 non-null  int64 \n",
      " 1   customer_id   10000 non-null  object\n",
      " 2   sex           10000 non-null  object\n",
      " 3   age           10000 non-null  int64 \n",
      " 4   is_married    10000 non-null  bool  \n",
      " 5   active_since  10000 non-null  object\n",
      " 6   event_time    10000 non-null  object\n",
      "dtypes: bool(1), int64(2), object(4)\n",
      "memory usage: 478.6+ KB\n"
     ]
    }
   ],
   "source": [
    "customers_df.info()"
   ]
  },
  {
   "cell_type": "code",
   "execution_count": 12,
   "id": "719dbacc-7ded-4f28-81fa-e85460961572",
   "metadata": {
    "execution": {
     "iopub.execute_input": "2025-08-09T17:46:09.449287Z",
     "iopub.status.busy": "2025-08-09T17:46:09.447728Z",
     "iopub.status.idle": "2025-08-09T17:46:09.456840Z",
     "shell.execute_reply": "2025-08-09T17:46:09.455789Z",
     "shell.execute_reply.started": "2025-08-09T17:46:09.449249Z"
    }
   },
   "outputs": [],
   "source": [
    "bins = [18, 30, 40, 50, 60, 70, 90]\n",
    "labels = ['18-29', '30-39', '40-49', '50-59', '60-69', '70-plus']\n",
    "customers_df['age_range'] = pd.cut(customers_df['age'], bins, labels=labels, include_lowest=True)"
   ]
  },
  {
   "cell_type": "code",
   "execution_count": 13,
   "id": "18b5d304-ba1e-46ec-b603-3537f1bd2b87",
   "metadata": {
    "execution": {
     "iopub.execute_input": "2025-08-09T17:46:12.153591Z",
     "iopub.status.busy": "2025-08-09T17:46:12.152867Z",
     "iopub.status.idle": "2025-08-09T17:46:12.162963Z",
     "shell.execute_reply": "2025-08-09T17:46:12.162196Z",
     "shell.execute_reply.started": "2025-08-09T17:46:12.153561Z"
    }
   },
   "outputs": [
    {
     "data": {
      "text/html": [
       "<div>\n",
       "<style scoped>\n",
       "    .dataframe tbody tr th:only-of-type {\n",
       "        vertical-align: middle;\n",
       "    }\n",
       "\n",
       "    .dataframe tbody tr th {\n",
       "        vertical-align: top;\n",
       "    }\n",
       "\n",
       "    .dataframe thead th {\n",
       "        text-align: right;\n",
       "    }\n",
       "</style>\n",
       "<table border=\"1\" class=\"dataframe\">\n",
       "  <thead>\n",
       "    <tr style=\"text-align: right;\">\n",
       "      <th></th>\n",
       "      <th>Unnamed: 0</th>\n",
       "      <th>customer_id</th>\n",
       "      <th>sex</th>\n",
       "      <th>age</th>\n",
       "      <th>is_married</th>\n",
       "      <th>active_since</th>\n",
       "      <th>event_time</th>\n",
       "      <th>age_range</th>\n",
       "    </tr>\n",
       "  </thead>\n",
       "  <tbody>\n",
       "    <tr>\n",
       "      <th>0</th>\n",
       "      <td>0</td>\n",
       "      <td>C1</td>\n",
       "      <td>F</td>\n",
       "      <td>76</td>\n",
       "      <td>True</td>\n",
       "      <td>2019-03-09 14:43:26</td>\n",
       "      <td>2024-05-02T05:39:10.965Z</td>\n",
       "      <td>70-plus</td>\n",
       "    </tr>\n",
       "    <tr>\n",
       "      <th>1</th>\n",
       "      <td>1</td>\n",
       "      <td>C2</td>\n",
       "      <td>M</td>\n",
       "      <td>76</td>\n",
       "      <td>True</td>\n",
       "      <td>2016-07-24 05:21:59</td>\n",
       "      <td>2024-05-02T05:39:10.966Z</td>\n",
       "      <td>70-plus</td>\n",
       "    </tr>\n",
       "    <tr>\n",
       "      <th>2</th>\n",
       "      <td>2</td>\n",
       "      <td>C3</td>\n",
       "      <td>M</td>\n",
       "      <td>40</td>\n",
       "      <td>True</td>\n",
       "      <td>2017-11-21 01:14:51</td>\n",
       "      <td>2024-05-02T05:39:10.967Z</td>\n",
       "      <td>30-39</td>\n",
       "    </tr>\n",
       "    <tr>\n",
       "      <th>3</th>\n",
       "      <td>3</td>\n",
       "      <td>C4</td>\n",
       "      <td>M</td>\n",
       "      <td>68</td>\n",
       "      <td>False</td>\n",
       "      <td>2016-11-16 04:44:55</td>\n",
       "      <td>2024-05-02T05:39:10.967Z</td>\n",
       "      <td>60-69</td>\n",
       "    </tr>\n",
       "    <tr>\n",
       "      <th>4</th>\n",
       "      <td>4</td>\n",
       "      <td>C5</td>\n",
       "      <td>M</td>\n",
       "      <td>62</td>\n",
       "      <td>False</td>\n",
       "      <td>2017-03-27 21:09:31</td>\n",
       "      <td>2024-05-02T05:39:10.968Z</td>\n",
       "      <td>60-69</td>\n",
       "    </tr>\n",
       "  </tbody>\n",
       "</table>\n",
       "</div>"
      ],
      "text/plain": [
       "   Unnamed: 0 customer_id sex  age  is_married         active_since  \\\n",
       "0           0          C1   F   76        True  2019-03-09 14:43:26   \n",
       "1           1          C2   M   76        True  2016-07-24 05:21:59   \n",
       "2           2          C3   M   40        True  2017-11-21 01:14:51   \n",
       "3           3          C4   M   68       False  2016-11-16 04:44:55   \n",
       "4           4          C5   M   62       False  2017-03-27 21:09:31   \n",
       "\n",
       "                 event_time age_range  \n",
       "0  2024-05-02T05:39:10.965Z   70-plus  \n",
       "1  2024-05-02T05:39:10.966Z   70-plus  \n",
       "2  2024-05-02T05:39:10.967Z     30-39  \n",
       "3  2024-05-02T05:39:10.967Z     60-69  \n",
       "4  2024-05-02T05:39:10.968Z     60-69  "
      ]
     },
     "execution_count": 13,
     "metadata": {},
     "output_type": "execute_result"
    }
   ],
   "source": [
    "customers_df.head()"
   ]
  },
  {
   "cell_type": "code",
   "execution_count": 14,
   "id": "aceee52d-8642-4501-95a3-8babb19c0d12",
   "metadata": {
    "execution": {
     "iopub.execute_input": "2025-08-09T17:46:15.017540Z",
     "iopub.status.busy": "2025-08-09T17:46:15.017158Z",
     "iopub.status.idle": "2025-08-09T17:46:15.022745Z",
     "shell.execute_reply": "2025-08-09T17:46:15.022035Z",
     "shell.execute_reply.started": "2025-08-09T17:46:15.017514Z"
    }
   },
   "outputs": [],
   "source": [
    "df_age_group = pd.get_dummies(customers_df['age_range'],prefix=\"age\", dtype='int')"
   ]
  },
  {
   "cell_type": "code",
   "execution_count": 15,
   "id": "db648784-b713-49bc-91d6-57bdf034331a",
   "metadata": {
    "execution": {
     "iopub.execute_input": "2025-08-09T17:46:17.051343Z",
     "iopub.status.busy": "2025-08-09T17:46:17.051054Z",
     "iopub.status.idle": "2025-08-09T17:46:17.059324Z",
     "shell.execute_reply": "2025-08-09T17:46:17.058563Z",
     "shell.execute_reply.started": "2025-08-09T17:46:17.051320Z"
    }
   },
   "outputs": [
    {
     "data": {
      "text/html": [
       "<div>\n",
       "<style scoped>\n",
       "    .dataframe tbody tr th:only-of-type {\n",
       "        vertical-align: middle;\n",
       "    }\n",
       "\n",
       "    .dataframe tbody tr th {\n",
       "        vertical-align: top;\n",
       "    }\n",
       "\n",
       "    .dataframe thead th {\n",
       "        text-align: right;\n",
       "    }\n",
       "</style>\n",
       "<table border=\"1\" class=\"dataframe\">\n",
       "  <thead>\n",
       "    <tr style=\"text-align: right;\">\n",
       "      <th></th>\n",
       "      <th>age_18-29</th>\n",
       "      <th>age_30-39</th>\n",
       "      <th>age_40-49</th>\n",
       "      <th>age_50-59</th>\n",
       "      <th>age_60-69</th>\n",
       "      <th>age_70-plus</th>\n",
       "    </tr>\n",
       "  </thead>\n",
       "  <tbody>\n",
       "    <tr>\n",
       "      <th>0</th>\n",
       "      <td>0</td>\n",
       "      <td>0</td>\n",
       "      <td>0</td>\n",
       "      <td>0</td>\n",
       "      <td>0</td>\n",
       "      <td>1</td>\n",
       "    </tr>\n",
       "    <tr>\n",
       "      <th>1</th>\n",
       "      <td>0</td>\n",
       "      <td>0</td>\n",
       "      <td>0</td>\n",
       "      <td>0</td>\n",
       "      <td>0</td>\n",
       "      <td>1</td>\n",
       "    </tr>\n",
       "    <tr>\n",
       "      <th>2</th>\n",
       "      <td>0</td>\n",
       "      <td>1</td>\n",
       "      <td>0</td>\n",
       "      <td>0</td>\n",
       "      <td>0</td>\n",
       "      <td>0</td>\n",
       "    </tr>\n",
       "    <tr>\n",
       "      <th>3</th>\n",
       "      <td>0</td>\n",
       "      <td>0</td>\n",
       "      <td>0</td>\n",
       "      <td>0</td>\n",
       "      <td>1</td>\n",
       "      <td>0</td>\n",
       "    </tr>\n",
       "    <tr>\n",
       "      <th>4</th>\n",
       "      <td>0</td>\n",
       "      <td>0</td>\n",
       "      <td>0</td>\n",
       "      <td>0</td>\n",
       "      <td>1</td>\n",
       "      <td>0</td>\n",
       "    </tr>\n",
       "  </tbody>\n",
       "</table>\n",
       "</div>"
      ],
      "text/plain": [
       "   age_18-29  age_30-39  age_40-49  age_50-59  age_60-69  age_70-plus\n",
       "0          0          0          0          0          0            1\n",
       "1          0          0          0          0          0            1\n",
       "2          0          1          0          0          0            0\n",
       "3          0          0          0          0          1            0\n",
       "4          0          0          0          0          1            0"
      ]
     },
     "execution_count": 15,
     "metadata": {},
     "output_type": "execute_result"
    }
   ],
   "source": [
    "df_age_group.head()"
   ]
  },
  {
   "cell_type": "code",
   "execution_count": 16,
   "id": "ca27ce58-ce72-49ea-aa97-ab4c5717e706",
   "metadata": {
    "execution": {
     "iopub.execute_input": "2025-08-09T17:46:20.365005Z",
     "iopub.status.busy": "2025-08-09T17:46:20.364316Z",
     "iopub.status.idle": "2025-08-09T17:46:20.377404Z",
     "shell.execute_reply": "2025-08-09T17:46:20.376729Z",
     "shell.execute_reply.started": "2025-08-09T17:46:20.364982Z"
    }
   },
   "outputs": [
    {
     "data": {
      "text/html": [
       "<div>\n",
       "<style scoped>\n",
       "    .dataframe tbody tr th:only-of-type {\n",
       "        vertical-align: middle;\n",
       "    }\n",
       "\n",
       "    .dataframe tbody tr th {\n",
       "        vertical-align: top;\n",
       "    }\n",
       "\n",
       "    .dataframe thead th {\n",
       "        text-align: right;\n",
       "    }\n",
       "</style>\n",
       "<table border=\"1\" class=\"dataframe\">\n",
       "  <thead>\n",
       "    <tr style=\"text-align: right;\">\n",
       "      <th></th>\n",
       "      <th>Unnamed: 0</th>\n",
       "      <th>customer_id</th>\n",
       "      <th>sex</th>\n",
       "      <th>age</th>\n",
       "      <th>is_married</th>\n",
       "      <th>active_since</th>\n",
       "      <th>event_time</th>\n",
       "      <th>age_range</th>\n",
       "      <th>age_18-29</th>\n",
       "      <th>age_30-39</th>\n",
       "      <th>age_40-49</th>\n",
       "      <th>age_50-59</th>\n",
       "      <th>age_60-69</th>\n",
       "      <th>age_70-plus</th>\n",
       "    </tr>\n",
       "  </thead>\n",
       "  <tbody>\n",
       "    <tr>\n",
       "      <th>0</th>\n",
       "      <td>0</td>\n",
       "      <td>C1</td>\n",
       "      <td>F</td>\n",
       "      <td>76</td>\n",
       "      <td>True</td>\n",
       "      <td>2019-03-09 14:43:26</td>\n",
       "      <td>2024-05-02T05:39:10.965Z</td>\n",
       "      <td>70-plus</td>\n",
       "      <td>0</td>\n",
       "      <td>0</td>\n",
       "      <td>0</td>\n",
       "      <td>0</td>\n",
       "      <td>0</td>\n",
       "      <td>1</td>\n",
       "    </tr>\n",
       "    <tr>\n",
       "      <th>1</th>\n",
       "      <td>1</td>\n",
       "      <td>C2</td>\n",
       "      <td>M</td>\n",
       "      <td>76</td>\n",
       "      <td>True</td>\n",
       "      <td>2016-07-24 05:21:59</td>\n",
       "      <td>2024-05-02T05:39:10.966Z</td>\n",
       "      <td>70-plus</td>\n",
       "      <td>0</td>\n",
       "      <td>0</td>\n",
       "      <td>0</td>\n",
       "      <td>0</td>\n",
       "      <td>0</td>\n",
       "      <td>1</td>\n",
       "    </tr>\n",
       "    <tr>\n",
       "      <th>2</th>\n",
       "      <td>2</td>\n",
       "      <td>C3</td>\n",
       "      <td>M</td>\n",
       "      <td>40</td>\n",
       "      <td>True</td>\n",
       "      <td>2017-11-21 01:14:51</td>\n",
       "      <td>2024-05-02T05:39:10.967Z</td>\n",
       "      <td>30-39</td>\n",
       "      <td>0</td>\n",
       "      <td>1</td>\n",
       "      <td>0</td>\n",
       "      <td>0</td>\n",
       "      <td>0</td>\n",
       "      <td>0</td>\n",
       "    </tr>\n",
       "    <tr>\n",
       "      <th>3</th>\n",
       "      <td>3</td>\n",
       "      <td>C4</td>\n",
       "      <td>M</td>\n",
       "      <td>68</td>\n",
       "      <td>False</td>\n",
       "      <td>2016-11-16 04:44:55</td>\n",
       "      <td>2024-05-02T05:39:10.967Z</td>\n",
       "      <td>60-69</td>\n",
       "      <td>0</td>\n",
       "      <td>0</td>\n",
       "      <td>0</td>\n",
       "      <td>0</td>\n",
       "      <td>1</td>\n",
       "      <td>0</td>\n",
       "    </tr>\n",
       "    <tr>\n",
       "      <th>4</th>\n",
       "      <td>4</td>\n",
       "      <td>C5</td>\n",
       "      <td>M</td>\n",
       "      <td>62</td>\n",
       "      <td>False</td>\n",
       "      <td>2017-03-27 21:09:31</td>\n",
       "      <td>2024-05-02T05:39:10.968Z</td>\n",
       "      <td>60-69</td>\n",
       "      <td>0</td>\n",
       "      <td>0</td>\n",
       "      <td>0</td>\n",
       "      <td>0</td>\n",
       "      <td>1</td>\n",
       "      <td>0</td>\n",
       "    </tr>\n",
       "  </tbody>\n",
       "</table>\n",
       "</div>"
      ],
      "text/plain": [
       "   Unnamed: 0 customer_id sex  age  is_married         active_since  \\\n",
       "0           0          C1   F   76        True  2019-03-09 14:43:26   \n",
       "1           1          C2   M   76        True  2016-07-24 05:21:59   \n",
       "2           2          C3   M   40        True  2017-11-21 01:14:51   \n",
       "3           3          C4   M   68       False  2016-11-16 04:44:55   \n",
       "4           4          C5   M   62       False  2017-03-27 21:09:31   \n",
       "\n",
       "                 event_time age_range  age_18-29  age_30-39  age_40-49  \\\n",
       "0  2024-05-02T05:39:10.965Z   70-plus          0          0          0   \n",
       "1  2024-05-02T05:39:10.966Z   70-plus          0          0          0   \n",
       "2  2024-05-02T05:39:10.967Z     30-39          0          1          0   \n",
       "3  2024-05-02T05:39:10.967Z     60-69          0          0          0   \n",
       "4  2024-05-02T05:39:10.968Z     60-69          0          0          0   \n",
       "\n",
       "   age_50-59  age_60-69  age_70-plus  \n",
       "0          0          0            1  \n",
       "1          0          0            1  \n",
       "2          0          0            0  \n",
       "3          0          1            0  \n",
       "4          0          1            0  "
      ]
     },
     "execution_count": 16,
     "metadata": {},
     "output_type": "execute_result"
    }
   ],
   "source": [
    "customers_df = pd.concat([customers_df,df_age_group],axis=1)\n",
    "customers_df.head()"
   ]
  },
  {
   "cell_type": "code",
   "execution_count": 17,
   "id": "bb72e3ee-e433-4176-b6c4-d76948823356",
   "metadata": {
    "execution": {
     "iopub.execute_input": "2025-08-09T17:46:22.693744Z",
     "iopub.status.busy": "2025-08-09T17:46:22.692904Z",
     "iopub.status.idle": "2025-08-09T17:46:22.698761Z",
     "shell.execute_reply": "2025-08-09T17:46:22.698091Z",
     "shell.execute_reply.started": "2025-08-09T17:46:22.693704Z"
    }
   },
   "outputs": [],
   "source": [
    "customers_df.drop(columns=['age','age_range'], inplace=True)"
   ]
  },
  {
   "cell_type": "code",
   "execution_count": 18,
   "id": "6bd06ad1-8b46-4ee2-9073-5b870044a8fb",
   "metadata": {
    "execution": {
     "iopub.execute_input": "2025-08-09T17:46:24.023077Z",
     "iopub.status.busy": "2025-08-09T17:46:24.022776Z",
     "iopub.status.idle": "2025-08-09T17:46:24.034255Z",
     "shell.execute_reply": "2025-08-09T17:46:24.033483Z",
     "shell.execute_reply.started": "2025-08-09T17:46:24.023053Z"
    }
   },
   "outputs": [
    {
     "data": {
      "text/html": [
       "<div>\n",
       "<style scoped>\n",
       "    .dataframe tbody tr th:only-of-type {\n",
       "        vertical-align: middle;\n",
       "    }\n",
       "\n",
       "    .dataframe tbody tr th {\n",
       "        vertical-align: top;\n",
       "    }\n",
       "\n",
       "    .dataframe thead th {\n",
       "        text-align: right;\n",
       "    }\n",
       "</style>\n",
       "<table border=\"1\" class=\"dataframe\">\n",
       "  <thead>\n",
       "    <tr style=\"text-align: right;\">\n",
       "      <th></th>\n",
       "      <th>Unnamed: 0</th>\n",
       "      <th>customer_id</th>\n",
       "      <th>sex</th>\n",
       "      <th>is_married</th>\n",
       "      <th>active_since</th>\n",
       "      <th>event_time</th>\n",
       "      <th>age_18-29</th>\n",
       "      <th>age_30-39</th>\n",
       "      <th>age_40-49</th>\n",
       "      <th>age_50-59</th>\n",
       "      <th>age_60-69</th>\n",
       "      <th>age_70-plus</th>\n",
       "    </tr>\n",
       "  </thead>\n",
       "  <tbody>\n",
       "    <tr>\n",
       "      <th>0</th>\n",
       "      <td>0</td>\n",
       "      <td>C1</td>\n",
       "      <td>F</td>\n",
       "      <td>True</td>\n",
       "      <td>2019-03-09 14:43:26</td>\n",
       "      <td>2024-05-02T05:39:10.965Z</td>\n",
       "      <td>0</td>\n",
       "      <td>0</td>\n",
       "      <td>0</td>\n",
       "      <td>0</td>\n",
       "      <td>0</td>\n",
       "      <td>1</td>\n",
       "    </tr>\n",
       "    <tr>\n",
       "      <th>1</th>\n",
       "      <td>1</td>\n",
       "      <td>C2</td>\n",
       "      <td>M</td>\n",
       "      <td>True</td>\n",
       "      <td>2016-07-24 05:21:59</td>\n",
       "      <td>2024-05-02T05:39:10.966Z</td>\n",
       "      <td>0</td>\n",
       "      <td>0</td>\n",
       "      <td>0</td>\n",
       "      <td>0</td>\n",
       "      <td>0</td>\n",
       "      <td>1</td>\n",
       "    </tr>\n",
       "    <tr>\n",
       "      <th>2</th>\n",
       "      <td>2</td>\n",
       "      <td>C3</td>\n",
       "      <td>M</td>\n",
       "      <td>True</td>\n",
       "      <td>2017-11-21 01:14:51</td>\n",
       "      <td>2024-05-02T05:39:10.967Z</td>\n",
       "      <td>0</td>\n",
       "      <td>1</td>\n",
       "      <td>0</td>\n",
       "      <td>0</td>\n",
       "      <td>0</td>\n",
       "      <td>0</td>\n",
       "    </tr>\n",
       "    <tr>\n",
       "      <th>3</th>\n",
       "      <td>3</td>\n",
       "      <td>C4</td>\n",
       "      <td>M</td>\n",
       "      <td>False</td>\n",
       "      <td>2016-11-16 04:44:55</td>\n",
       "      <td>2024-05-02T05:39:10.967Z</td>\n",
       "      <td>0</td>\n",
       "      <td>0</td>\n",
       "      <td>0</td>\n",
       "      <td>0</td>\n",
       "      <td>1</td>\n",
       "      <td>0</td>\n",
       "    </tr>\n",
       "    <tr>\n",
       "      <th>4</th>\n",
       "      <td>4</td>\n",
       "      <td>C5</td>\n",
       "      <td>M</td>\n",
       "      <td>False</td>\n",
       "      <td>2017-03-27 21:09:31</td>\n",
       "      <td>2024-05-02T05:39:10.968Z</td>\n",
       "      <td>0</td>\n",
       "      <td>0</td>\n",
       "      <td>0</td>\n",
       "      <td>0</td>\n",
       "      <td>1</td>\n",
       "      <td>0</td>\n",
       "    </tr>\n",
       "  </tbody>\n",
       "</table>\n",
       "</div>"
      ],
      "text/plain": [
       "   Unnamed: 0 customer_id sex  is_married         active_since  \\\n",
       "0           0          C1   F        True  2019-03-09 14:43:26   \n",
       "1           1          C2   M        True  2016-07-24 05:21:59   \n",
       "2           2          C3   M        True  2017-11-21 01:14:51   \n",
       "3           3          C4   M       False  2016-11-16 04:44:55   \n",
       "4           4          C5   M       False  2017-03-27 21:09:31   \n",
       "\n",
       "                 event_time  age_18-29  age_30-39  age_40-49  age_50-59  \\\n",
       "0  2024-05-02T05:39:10.965Z          0          0          0          0   \n",
       "1  2024-05-02T05:39:10.966Z          0          0          0          0   \n",
       "2  2024-05-02T05:39:10.967Z          0          1          0          0   \n",
       "3  2024-05-02T05:39:10.967Z          0          0          0          0   \n",
       "4  2024-05-02T05:39:10.968Z          0          0          0          0   \n",
       "\n",
       "   age_60-69  age_70-plus  \n",
       "0          0            1  \n",
       "1          0            1  \n",
       "2          0            0  \n",
       "3          1            0  \n",
       "4          1            0  "
      ]
     },
     "execution_count": 18,
     "metadata": {},
     "output_type": "execute_result"
    }
   ],
   "source": [
    "customers_df.head()"
   ]
  },
  {
   "cell_type": "code",
   "execution_count": 19,
   "id": "a34bc8ad-0e7a-448f-81d9-0d44fcab897c",
   "metadata": {
    "execution": {
     "iopub.execute_input": "2025-08-09T17:46:26.926280Z",
     "iopub.status.busy": "2025-08-09T17:46:26.925864Z",
     "iopub.status.idle": "2025-08-09T17:46:26.931465Z",
     "shell.execute_reply": "2025-08-09T17:46:26.930786Z",
     "shell.execute_reply.started": "2025-08-09T17:46:26.926256Z"
    }
   },
   "outputs": [],
   "source": [
    "customers_df['sex'] = customers_df['sex'].map({\"F\":0,\"M\":1})"
   ]
  },
  {
   "cell_type": "code",
   "execution_count": 20,
   "id": "9f13181f-93c0-4c56-a976-77a8ab5c524a",
   "metadata": {
    "execution": {
     "iopub.execute_input": "2025-08-09T17:46:28.274190Z",
     "iopub.status.busy": "2025-08-09T17:46:28.273553Z",
     "iopub.status.idle": "2025-08-09T17:46:28.284317Z",
     "shell.execute_reply": "2025-08-09T17:46:28.283599Z",
     "shell.execute_reply.started": "2025-08-09T17:46:28.274163Z"
    }
   },
   "outputs": [
    {
     "data": {
      "text/html": [
       "<div>\n",
       "<style scoped>\n",
       "    .dataframe tbody tr th:only-of-type {\n",
       "        vertical-align: middle;\n",
       "    }\n",
       "\n",
       "    .dataframe tbody tr th {\n",
       "        vertical-align: top;\n",
       "    }\n",
       "\n",
       "    .dataframe thead th {\n",
       "        text-align: right;\n",
       "    }\n",
       "</style>\n",
       "<table border=\"1\" class=\"dataframe\">\n",
       "  <thead>\n",
       "    <tr style=\"text-align: right;\">\n",
       "      <th></th>\n",
       "      <th>Unnamed: 0</th>\n",
       "      <th>customer_id</th>\n",
       "      <th>sex</th>\n",
       "      <th>is_married</th>\n",
       "      <th>active_since</th>\n",
       "      <th>event_time</th>\n",
       "      <th>age_18-29</th>\n",
       "      <th>age_30-39</th>\n",
       "      <th>age_40-49</th>\n",
       "      <th>age_50-59</th>\n",
       "      <th>age_60-69</th>\n",
       "      <th>age_70-plus</th>\n",
       "    </tr>\n",
       "  </thead>\n",
       "  <tbody>\n",
       "    <tr>\n",
       "      <th>0</th>\n",
       "      <td>0</td>\n",
       "      <td>C1</td>\n",
       "      <td>0</td>\n",
       "      <td>True</td>\n",
       "      <td>2019-03-09 14:43:26</td>\n",
       "      <td>2024-05-02T05:39:10.965Z</td>\n",
       "      <td>0</td>\n",
       "      <td>0</td>\n",
       "      <td>0</td>\n",
       "      <td>0</td>\n",
       "      <td>0</td>\n",
       "      <td>1</td>\n",
       "    </tr>\n",
       "    <tr>\n",
       "      <th>1</th>\n",
       "      <td>1</td>\n",
       "      <td>C2</td>\n",
       "      <td>1</td>\n",
       "      <td>True</td>\n",
       "      <td>2016-07-24 05:21:59</td>\n",
       "      <td>2024-05-02T05:39:10.966Z</td>\n",
       "      <td>0</td>\n",
       "      <td>0</td>\n",
       "      <td>0</td>\n",
       "      <td>0</td>\n",
       "      <td>0</td>\n",
       "      <td>1</td>\n",
       "    </tr>\n",
       "    <tr>\n",
       "      <th>2</th>\n",
       "      <td>2</td>\n",
       "      <td>C3</td>\n",
       "      <td>1</td>\n",
       "      <td>True</td>\n",
       "      <td>2017-11-21 01:14:51</td>\n",
       "      <td>2024-05-02T05:39:10.967Z</td>\n",
       "      <td>0</td>\n",
       "      <td>1</td>\n",
       "      <td>0</td>\n",
       "      <td>0</td>\n",
       "      <td>0</td>\n",
       "      <td>0</td>\n",
       "    </tr>\n",
       "    <tr>\n",
       "      <th>3</th>\n",
       "      <td>3</td>\n",
       "      <td>C4</td>\n",
       "      <td>1</td>\n",
       "      <td>False</td>\n",
       "      <td>2016-11-16 04:44:55</td>\n",
       "      <td>2024-05-02T05:39:10.967Z</td>\n",
       "      <td>0</td>\n",
       "      <td>0</td>\n",
       "      <td>0</td>\n",
       "      <td>0</td>\n",
       "      <td>1</td>\n",
       "      <td>0</td>\n",
       "    </tr>\n",
       "    <tr>\n",
       "      <th>4</th>\n",
       "      <td>4</td>\n",
       "      <td>C5</td>\n",
       "      <td>1</td>\n",
       "      <td>False</td>\n",
       "      <td>2017-03-27 21:09:31</td>\n",
       "      <td>2024-05-02T05:39:10.968Z</td>\n",
       "      <td>0</td>\n",
       "      <td>0</td>\n",
       "      <td>0</td>\n",
       "      <td>0</td>\n",
       "      <td>1</td>\n",
       "      <td>0</td>\n",
       "    </tr>\n",
       "  </tbody>\n",
       "</table>\n",
       "</div>"
      ],
      "text/plain": [
       "   Unnamed: 0 customer_id  sex  is_married         active_since  \\\n",
       "0           0          C1    0        True  2019-03-09 14:43:26   \n",
       "1           1          C2    1        True  2016-07-24 05:21:59   \n",
       "2           2          C3    1        True  2017-11-21 01:14:51   \n",
       "3           3          C4    1       False  2016-11-16 04:44:55   \n",
       "4           4          C5    1       False  2017-03-27 21:09:31   \n",
       "\n",
       "                 event_time  age_18-29  age_30-39  age_40-49  age_50-59  \\\n",
       "0  2024-05-02T05:39:10.965Z          0          0          0          0   \n",
       "1  2024-05-02T05:39:10.966Z          0          0          0          0   \n",
       "2  2024-05-02T05:39:10.967Z          0          1          0          0   \n",
       "3  2024-05-02T05:39:10.967Z          0          0          0          0   \n",
       "4  2024-05-02T05:39:10.968Z          0          0          0          0   \n",
       "\n",
       "   age_60-69  age_70-plus  \n",
       "0          0            1  \n",
       "1          0            1  \n",
       "2          0            0  \n",
       "3          1            0  \n",
       "4          1            0  "
      ]
     },
     "execution_count": 20,
     "metadata": {},
     "output_type": "execute_result"
    }
   ],
   "source": [
    "customers_df.head()"
   ]
  },
  {
   "cell_type": "code",
   "execution_count": 21,
   "id": "906c0ad6-776d-45a0-b4d8-36fbe4c12b51",
   "metadata": {
    "execution": {
     "iopub.execute_input": "2025-08-09T17:46:31.283503Z",
     "iopub.status.busy": "2025-08-09T17:46:31.282626Z",
     "iopub.status.idle": "2025-08-09T17:46:31.287521Z",
     "shell.execute_reply": "2025-08-09T17:46:31.286736Z",
     "shell.execute_reply.started": "2025-08-09T17:46:31.283469Z"
    }
   },
   "outputs": [],
   "source": [
    "customers_df['is_married'] = customers_df['is_married'].astype('int')"
   ]
  },
  {
   "cell_type": "code",
   "execution_count": 22,
   "id": "39daccad-52c1-454a-ae97-229c3de7d5a9",
   "metadata": {
    "execution": {
     "iopub.execute_input": "2025-08-09T17:46:33.117326Z",
     "iopub.status.busy": "2025-08-09T17:46:33.116631Z",
     "iopub.status.idle": "2025-08-09T17:46:33.126769Z",
     "shell.execute_reply": "2025-08-09T17:46:33.126098Z",
     "shell.execute_reply.started": "2025-08-09T17:46:33.117295Z"
    }
   },
   "outputs": [
    {
     "data": {
      "text/html": [
       "<div>\n",
       "<style scoped>\n",
       "    .dataframe tbody tr th:only-of-type {\n",
       "        vertical-align: middle;\n",
       "    }\n",
       "\n",
       "    .dataframe tbody tr th {\n",
       "        vertical-align: top;\n",
       "    }\n",
       "\n",
       "    .dataframe thead th {\n",
       "        text-align: right;\n",
       "    }\n",
       "</style>\n",
       "<table border=\"1\" class=\"dataframe\">\n",
       "  <thead>\n",
       "    <tr style=\"text-align: right;\">\n",
       "      <th></th>\n",
       "      <th>Unnamed: 0</th>\n",
       "      <th>customer_id</th>\n",
       "      <th>sex</th>\n",
       "      <th>is_married</th>\n",
       "      <th>active_since</th>\n",
       "      <th>event_time</th>\n",
       "      <th>age_18-29</th>\n",
       "      <th>age_30-39</th>\n",
       "      <th>age_40-49</th>\n",
       "      <th>age_50-59</th>\n",
       "      <th>age_60-69</th>\n",
       "      <th>age_70-plus</th>\n",
       "    </tr>\n",
       "  </thead>\n",
       "  <tbody>\n",
       "    <tr>\n",
       "      <th>0</th>\n",
       "      <td>0</td>\n",
       "      <td>C1</td>\n",
       "      <td>0</td>\n",
       "      <td>1</td>\n",
       "      <td>2019-03-09 14:43:26</td>\n",
       "      <td>2024-05-02T05:39:10.965Z</td>\n",
       "      <td>0</td>\n",
       "      <td>0</td>\n",
       "      <td>0</td>\n",
       "      <td>0</td>\n",
       "      <td>0</td>\n",
       "      <td>1</td>\n",
       "    </tr>\n",
       "    <tr>\n",
       "      <th>1</th>\n",
       "      <td>1</td>\n",
       "      <td>C2</td>\n",
       "      <td>1</td>\n",
       "      <td>1</td>\n",
       "      <td>2016-07-24 05:21:59</td>\n",
       "      <td>2024-05-02T05:39:10.966Z</td>\n",
       "      <td>0</td>\n",
       "      <td>0</td>\n",
       "      <td>0</td>\n",
       "      <td>0</td>\n",
       "      <td>0</td>\n",
       "      <td>1</td>\n",
       "    </tr>\n",
       "    <tr>\n",
       "      <th>2</th>\n",
       "      <td>2</td>\n",
       "      <td>C3</td>\n",
       "      <td>1</td>\n",
       "      <td>1</td>\n",
       "      <td>2017-11-21 01:14:51</td>\n",
       "      <td>2024-05-02T05:39:10.967Z</td>\n",
       "      <td>0</td>\n",
       "      <td>1</td>\n",
       "      <td>0</td>\n",
       "      <td>0</td>\n",
       "      <td>0</td>\n",
       "      <td>0</td>\n",
       "    </tr>\n",
       "    <tr>\n",
       "      <th>3</th>\n",
       "      <td>3</td>\n",
       "      <td>C4</td>\n",
       "      <td>1</td>\n",
       "      <td>0</td>\n",
       "      <td>2016-11-16 04:44:55</td>\n",
       "      <td>2024-05-02T05:39:10.967Z</td>\n",
       "      <td>0</td>\n",
       "      <td>0</td>\n",
       "      <td>0</td>\n",
       "      <td>0</td>\n",
       "      <td>1</td>\n",
       "      <td>0</td>\n",
       "    </tr>\n",
       "    <tr>\n",
       "      <th>4</th>\n",
       "      <td>4</td>\n",
       "      <td>C5</td>\n",
       "      <td>1</td>\n",
       "      <td>0</td>\n",
       "      <td>2017-03-27 21:09:31</td>\n",
       "      <td>2024-05-02T05:39:10.968Z</td>\n",
       "      <td>0</td>\n",
       "      <td>0</td>\n",
       "      <td>0</td>\n",
       "      <td>0</td>\n",
       "      <td>1</td>\n",
       "      <td>0</td>\n",
       "    </tr>\n",
       "  </tbody>\n",
       "</table>\n",
       "</div>"
      ],
      "text/plain": [
       "   Unnamed: 0 customer_id  sex  is_married         active_since  \\\n",
       "0           0          C1    0           1  2019-03-09 14:43:26   \n",
       "1           1          C2    1           1  2016-07-24 05:21:59   \n",
       "2           2          C3    1           1  2017-11-21 01:14:51   \n",
       "3           3          C4    1           0  2016-11-16 04:44:55   \n",
       "4           4          C5    1           0  2017-03-27 21:09:31   \n",
       "\n",
       "                 event_time  age_18-29  age_30-39  age_40-49  age_50-59  \\\n",
       "0  2024-05-02T05:39:10.965Z          0          0          0          0   \n",
       "1  2024-05-02T05:39:10.966Z          0          0          0          0   \n",
       "2  2024-05-02T05:39:10.967Z          0          1          0          0   \n",
       "3  2024-05-02T05:39:10.967Z          0          0          0          0   \n",
       "4  2024-05-02T05:39:10.968Z          0          0          0          0   \n",
       "\n",
       "   age_60-69  age_70-plus  \n",
       "0          0            1  \n",
       "1          0            1  \n",
       "2          0            0  \n",
       "3          1            0  \n",
       "4          1            0  "
      ]
     },
     "execution_count": 22,
     "metadata": {},
     "output_type": "execute_result"
    }
   ],
   "source": [
    "customers_df.head()"
   ]
  },
  {
   "cell_type": "code",
   "execution_count": 23,
   "id": "81a5715a-aa00-466d-b92e-c9456e5a29e1",
   "metadata": {
    "execution": {
     "iopub.execute_input": "2025-08-09T17:46:36.583982Z",
     "iopub.status.busy": "2025-08-09T17:46:36.583209Z",
     "iopub.status.idle": "2025-08-09T17:46:36.591680Z",
     "shell.execute_reply": "2025-08-09T17:46:36.590682Z",
     "shell.execute_reply.started": "2025-08-09T17:46:36.583947Z"
    }
   },
   "outputs": [],
   "source": [
    "customers_df['active_since'] = pd.to_datetime(customers_df['active_since'], format=\"%Y-%m-%d %H:%M:%S\")"
   ]
  },
  {
   "cell_type": "code",
   "execution_count": 24,
   "id": "546e1ea9-e867-4bb6-a438-20356c14da14",
   "metadata": {
    "execution": {
     "iopub.execute_input": "2025-08-09T17:46:37.973669Z",
     "iopub.status.busy": "2025-08-09T17:46:37.973382Z",
     "iopub.status.idle": "2025-08-09T17:46:37.983931Z",
     "shell.execute_reply": "2025-08-09T17:46:37.983183Z",
     "shell.execute_reply.started": "2025-08-09T17:46:37.973648Z"
    }
   },
   "outputs": [
    {
     "name": "stdout",
     "output_type": "stream",
     "text": [
      "<class 'pandas.core.frame.DataFrame'>\n",
      "RangeIndex: 10000 entries, 0 to 9999\n",
      "Data columns (total 12 columns):\n",
      " #   Column        Non-Null Count  Dtype         \n",
      "---  ------        --------------  -----         \n",
      " 0   Unnamed: 0    10000 non-null  int64         \n",
      " 1   customer_id   10000 non-null  object        \n",
      " 2   sex           10000 non-null  int64         \n",
      " 3   is_married    10000 non-null  int64         \n",
      " 4   active_since  10000 non-null  datetime64[ns]\n",
      " 5   event_time    10000 non-null  object        \n",
      " 6   age_18-29     10000 non-null  int64         \n",
      " 7   age_30-39     10000 non-null  int64         \n",
      " 8   age_40-49     10000 non-null  int64         \n",
      " 9   age_50-59     10000 non-null  int64         \n",
      " 10  age_60-69     10000 non-null  int64         \n",
      " 11  age_70-plus   10000 non-null  int64         \n",
      "dtypes: datetime64[ns](1), int64(9), object(2)\n",
      "memory usage: 937.6+ KB\n"
     ]
    }
   ],
   "source": [
    "customers_df.info()"
   ]
  },
  {
   "cell_type": "code",
   "execution_count": 25,
   "id": "5ff367d1-b560-44a7-a42e-bff50c84dbdb",
   "metadata": {
    "execution": {
     "iopub.execute_input": "2025-08-09T17:46:40.955825Z",
     "iopub.status.busy": "2025-08-09T17:46:40.955253Z",
     "iopub.status.idle": "2025-08-09T17:46:40.959271Z",
     "shell.execute_reply": "2025-08-09T17:46:40.958571Z",
     "shell.execute_reply.started": "2025-08-09T17:46:40.955797Z"
    }
   },
   "outputs": [],
   "source": [
    "def get_delta_days(datetime) -> int :\n",
    "    today = date.today()\n",
    "    delta = today - datetime.date()\n",
    "    return delta.days"
   ]
  },
  {
   "cell_type": "code",
   "execution_count": 26,
   "id": "21e701d6-c07f-4e0e-a750-6aa8c8316653",
   "metadata": {
    "execution": {
     "iopub.execute_input": "2025-08-09T17:46:42.254061Z",
     "iopub.status.busy": "2025-08-09T17:46:42.253229Z",
     "iopub.status.idle": "2025-08-09T17:46:42.282601Z",
     "shell.execute_reply": "2025-08-09T17:46:42.281870Z",
     "shell.execute_reply.started": "2025-08-09T17:46:42.254027Z"
    }
   },
   "outputs": [],
   "source": [
    "customers_df['n_days_active'] = customers_df['active_since'].apply(lambda x: get_delta_days(x))"
   ]
  },
  {
   "cell_type": "code",
   "execution_count": 27,
   "id": "57facaf7-edee-420c-a2eb-83a0a776f979",
   "metadata": {
    "execution": {
     "iopub.execute_input": "2025-08-09T17:46:43.919947Z",
     "iopub.status.busy": "2025-08-09T17:46:43.919351Z",
     "iopub.status.idle": "2025-08-09T17:46:43.930153Z",
     "shell.execute_reply": "2025-08-09T17:46:43.929559Z",
     "shell.execute_reply.started": "2025-08-09T17:46:43.919915Z"
    }
   },
   "outputs": [
    {
     "data": {
      "text/html": [
       "<div>\n",
       "<style scoped>\n",
       "    .dataframe tbody tr th:only-of-type {\n",
       "        vertical-align: middle;\n",
       "    }\n",
       "\n",
       "    .dataframe tbody tr th {\n",
       "        vertical-align: top;\n",
       "    }\n",
       "\n",
       "    .dataframe thead th {\n",
       "        text-align: right;\n",
       "    }\n",
       "</style>\n",
       "<table border=\"1\" class=\"dataframe\">\n",
       "  <thead>\n",
       "    <tr style=\"text-align: right;\">\n",
       "      <th></th>\n",
       "      <th>Unnamed: 0</th>\n",
       "      <th>customer_id</th>\n",
       "      <th>sex</th>\n",
       "      <th>is_married</th>\n",
       "      <th>active_since</th>\n",
       "      <th>event_time</th>\n",
       "      <th>age_18-29</th>\n",
       "      <th>age_30-39</th>\n",
       "      <th>age_40-49</th>\n",
       "      <th>age_50-59</th>\n",
       "      <th>age_60-69</th>\n",
       "      <th>age_70-plus</th>\n",
       "      <th>n_days_active</th>\n",
       "    </tr>\n",
       "  </thead>\n",
       "  <tbody>\n",
       "    <tr>\n",
       "      <th>0</th>\n",
       "      <td>0</td>\n",
       "      <td>C1</td>\n",
       "      <td>0</td>\n",
       "      <td>1</td>\n",
       "      <td>2019-03-09 14:43:26</td>\n",
       "      <td>2024-05-02T05:39:10.965Z</td>\n",
       "      <td>0</td>\n",
       "      <td>0</td>\n",
       "      <td>0</td>\n",
       "      <td>0</td>\n",
       "      <td>0</td>\n",
       "      <td>1</td>\n",
       "      <td>2345</td>\n",
       "    </tr>\n",
       "    <tr>\n",
       "      <th>1</th>\n",
       "      <td>1</td>\n",
       "      <td>C2</td>\n",
       "      <td>1</td>\n",
       "      <td>1</td>\n",
       "      <td>2016-07-24 05:21:59</td>\n",
       "      <td>2024-05-02T05:39:10.966Z</td>\n",
       "      <td>0</td>\n",
       "      <td>0</td>\n",
       "      <td>0</td>\n",
       "      <td>0</td>\n",
       "      <td>0</td>\n",
       "      <td>1</td>\n",
       "      <td>3303</td>\n",
       "    </tr>\n",
       "    <tr>\n",
       "      <th>2</th>\n",
       "      <td>2</td>\n",
       "      <td>C3</td>\n",
       "      <td>1</td>\n",
       "      <td>1</td>\n",
       "      <td>2017-11-21 01:14:51</td>\n",
       "      <td>2024-05-02T05:39:10.967Z</td>\n",
       "      <td>0</td>\n",
       "      <td>1</td>\n",
       "      <td>0</td>\n",
       "      <td>0</td>\n",
       "      <td>0</td>\n",
       "      <td>0</td>\n",
       "      <td>2818</td>\n",
       "    </tr>\n",
       "    <tr>\n",
       "      <th>3</th>\n",
       "      <td>3</td>\n",
       "      <td>C4</td>\n",
       "      <td>1</td>\n",
       "      <td>0</td>\n",
       "      <td>2016-11-16 04:44:55</td>\n",
       "      <td>2024-05-02T05:39:10.967Z</td>\n",
       "      <td>0</td>\n",
       "      <td>0</td>\n",
       "      <td>0</td>\n",
       "      <td>0</td>\n",
       "      <td>1</td>\n",
       "      <td>0</td>\n",
       "      <td>3188</td>\n",
       "    </tr>\n",
       "    <tr>\n",
       "      <th>4</th>\n",
       "      <td>4</td>\n",
       "      <td>C5</td>\n",
       "      <td>1</td>\n",
       "      <td>0</td>\n",
       "      <td>2017-03-27 21:09:31</td>\n",
       "      <td>2024-05-02T05:39:10.968Z</td>\n",
       "      <td>0</td>\n",
       "      <td>0</td>\n",
       "      <td>0</td>\n",
       "      <td>0</td>\n",
       "      <td>1</td>\n",
       "      <td>0</td>\n",
       "      <td>3057</td>\n",
       "    </tr>\n",
       "  </tbody>\n",
       "</table>\n",
       "</div>"
      ],
      "text/plain": [
       "   Unnamed: 0 customer_id  sex  is_married        active_since  \\\n",
       "0           0          C1    0           1 2019-03-09 14:43:26   \n",
       "1           1          C2    1           1 2016-07-24 05:21:59   \n",
       "2           2          C3    1           1 2017-11-21 01:14:51   \n",
       "3           3          C4    1           0 2016-11-16 04:44:55   \n",
       "4           4          C5    1           0 2017-03-27 21:09:31   \n",
       "\n",
       "                 event_time  age_18-29  age_30-39  age_40-49  age_50-59  \\\n",
       "0  2024-05-02T05:39:10.965Z          0          0          0          0   \n",
       "1  2024-05-02T05:39:10.966Z          0          0          0          0   \n",
       "2  2024-05-02T05:39:10.967Z          0          1          0          0   \n",
       "3  2024-05-02T05:39:10.967Z          0          0          0          0   \n",
       "4  2024-05-02T05:39:10.968Z          0          0          0          0   \n",
       "\n",
       "   age_60-69  age_70-plus  n_days_active  \n",
       "0          0            1           2345  \n",
       "1          0            1           3303  \n",
       "2          0            0           2818  \n",
       "3          1            0           3188  \n",
       "4          1            0           3057  "
      ]
     },
     "execution_count": 27,
     "metadata": {},
     "output_type": "execute_result"
    }
   ],
   "source": [
    "customers_df.head()"
   ]
  },
  {
   "cell_type": "code",
   "execution_count": 28,
   "id": "d3cea5e1-9698-4953-825d-cf1f04b99e0f",
   "metadata": {
    "execution": {
     "iopub.execute_input": "2025-08-09T17:46:46.644273Z",
     "iopub.status.busy": "2025-08-09T17:46:46.643024Z",
     "iopub.status.idle": "2025-08-09T17:46:46.653314Z",
     "shell.execute_reply": "2025-08-09T17:46:46.652525Z",
     "shell.execute_reply.started": "2025-08-09T17:46:46.644239Z"
    }
   },
   "outputs": [],
   "source": [
    "customers_df['n_days_active'] = min_max_scaler.fit_transform(customers_df[['n_days_active']])\n",
    "customers_df.drop(\"active_since\",axis=1, inplace=True)"
   ]
  },
  {
   "cell_type": "code",
   "execution_count": 88,
   "id": "0d907075-d98f-4d7d-90ad-df704d4b0dda",
   "metadata": {
    "execution": {
     "iopub.execute_input": "2025-08-09T19:19:30.352757Z",
     "iopub.status.busy": "2025-08-09T19:19:30.352362Z",
     "iopub.status.idle": "2025-08-09T19:19:30.363221Z",
     "shell.execute_reply": "2025-08-09T19:19:30.362599Z",
     "shell.execute_reply.started": "2025-08-09T19:19:30.352733Z"
    }
   },
   "outputs": [
    {
     "data": {
      "text/html": [
       "<div>\n",
       "<style scoped>\n",
       "    .dataframe tbody tr th:only-of-type {\n",
       "        vertical-align: middle;\n",
       "    }\n",
       "\n",
       "    .dataframe tbody tr th {\n",
       "        vertical-align: top;\n",
       "    }\n",
       "\n",
       "    .dataframe thead th {\n",
       "        text-align: right;\n",
       "    }\n",
       "</style>\n",
       "<table border=\"1\" class=\"dataframe\">\n",
       "  <thead>\n",
       "    <tr style=\"text-align: right;\">\n",
       "      <th></th>\n",
       "      <th>Unnamed: 0</th>\n",
       "      <th>customer_id</th>\n",
       "      <th>sex</th>\n",
       "      <th>is_married</th>\n",
       "      <th>event_time</th>\n",
       "      <th>age_18-29</th>\n",
       "      <th>age_30-39</th>\n",
       "      <th>age_40-49</th>\n",
       "      <th>age_50-59</th>\n",
       "      <th>age_60-69</th>\n",
       "      <th>age_70-plus</th>\n",
       "      <th>n_days_active</th>\n",
       "    </tr>\n",
       "  </thead>\n",
       "  <tbody>\n",
       "    <tr>\n",
       "      <th>0</th>\n",
       "      <td>0</td>\n",
       "      <td>C1</td>\n",
       "      <td>0</td>\n",
       "      <td>1</td>\n",
       "      <td>2024-05-02T05:39:10.965Z</td>\n",
       "      <td>0</td>\n",
       "      <td>0</td>\n",
       "      <td>0</td>\n",
       "      <td>0</td>\n",
       "      <td>0</td>\n",
       "      <td>1</td>\n",
       "      <td>0.203425</td>\n",
       "    </tr>\n",
       "    <tr>\n",
       "      <th>1</th>\n",
       "      <td>1</td>\n",
       "      <td>C2</td>\n",
       "      <td>1</td>\n",
       "      <td>1</td>\n",
       "      <td>2024-05-02T05:39:10.966Z</td>\n",
       "      <td>0</td>\n",
       "      <td>0</td>\n",
       "      <td>0</td>\n",
       "      <td>0</td>\n",
       "      <td>0</td>\n",
       "      <td>1</td>\n",
       "      <td>0.859589</td>\n",
       "    </tr>\n",
       "    <tr>\n",
       "      <th>2</th>\n",
       "      <td>2</td>\n",
       "      <td>C3</td>\n",
       "      <td>1</td>\n",
       "      <td>1</td>\n",
       "      <td>2024-05-02T05:39:10.967Z</td>\n",
       "      <td>0</td>\n",
       "      <td>1</td>\n",
       "      <td>0</td>\n",
       "      <td>0</td>\n",
       "      <td>0</td>\n",
       "      <td>0</td>\n",
       "      <td>0.527397</td>\n",
       "    </tr>\n",
       "    <tr>\n",
       "      <th>3</th>\n",
       "      <td>3</td>\n",
       "      <td>C4</td>\n",
       "      <td>1</td>\n",
       "      <td>0</td>\n",
       "      <td>2024-05-02T05:39:10.967Z</td>\n",
       "      <td>0</td>\n",
       "      <td>0</td>\n",
       "      <td>0</td>\n",
       "      <td>0</td>\n",
       "      <td>1</td>\n",
       "      <td>0</td>\n",
       "      <td>0.780822</td>\n",
       "    </tr>\n",
       "    <tr>\n",
       "      <th>4</th>\n",
       "      <td>4</td>\n",
       "      <td>C5</td>\n",
       "      <td>1</td>\n",
       "      <td>0</td>\n",
       "      <td>2024-05-02T05:39:10.968Z</td>\n",
       "      <td>0</td>\n",
       "      <td>0</td>\n",
       "      <td>0</td>\n",
       "      <td>0</td>\n",
       "      <td>1</td>\n",
       "      <td>0</td>\n",
       "      <td>0.691096</td>\n",
       "    </tr>\n",
       "  </tbody>\n",
       "</table>\n",
       "</div>"
      ],
      "text/plain": [
       "   Unnamed: 0 customer_id  sex  is_married                event_time  \\\n",
       "0           0          C1    0           1  2024-05-02T05:39:10.965Z   \n",
       "1           1          C2    1           1  2024-05-02T05:39:10.966Z   \n",
       "2           2          C3    1           1  2024-05-02T05:39:10.967Z   \n",
       "3           3          C4    1           0  2024-05-02T05:39:10.967Z   \n",
       "4           4          C5    1           0  2024-05-02T05:39:10.968Z   \n",
       "\n",
       "   age_18-29  age_30-39  age_40-49  age_50-59  age_60-69  age_70-plus  \\\n",
       "0          0          0          0          0          0            1   \n",
       "1          0          0          0          0          0            1   \n",
       "2          0          1          0          0          0            0   \n",
       "3          0          0          0          0          1            0   \n",
       "4          0          0          0          0          1            0   \n",
       "\n",
       "   n_days_active  \n",
       "0       0.203425  \n",
       "1       0.859589  \n",
       "2       0.527397  \n",
       "3       0.780822  \n",
       "4       0.691096  "
      ]
     },
     "execution_count": 88,
     "metadata": {},
     "output_type": "execute_result"
    }
   ],
   "source": [
    "customers_df.head()"
   ]
  },
  {
   "cell_type": "code",
   "execution_count": 91,
   "id": "9a8713e7-f6b5-47b4-b40a-481f8256e728",
   "metadata": {
    "execution": {
     "iopub.execute_input": "2025-08-09T19:21:32.695655Z",
     "iopub.status.busy": "2025-08-09T19:21:32.695364Z",
     "iopub.status.idle": "2025-08-09T19:21:32.708219Z",
     "shell.execute_reply": "2025-08-09T19:21:32.707389Z",
     "shell.execute_reply.started": "2025-08-09T19:21:32.695635Z"
    }
   },
   "outputs": [
    {
     "data": {
      "text/html": [
       "<div>\n",
       "<style scoped>\n",
       "    .dataframe tbody tr th:only-of-type {\n",
       "        vertical-align: middle;\n",
       "    }\n",
       "\n",
       "    .dataframe tbody tr th {\n",
       "        vertical-align: top;\n",
       "    }\n",
       "\n",
       "    .dataframe thead th {\n",
       "        text-align: right;\n",
       "    }\n",
       "</style>\n",
       "<table border=\"1\" class=\"dataframe\">\n",
       "  <thead>\n",
       "    <tr style=\"text-align: right;\">\n",
       "      <th></th>\n",
       "      <th>customer_id</th>\n",
       "      <th>sex</th>\n",
       "      <th>is_married</th>\n",
       "      <th>event_time</th>\n",
       "      <th>age_18-29</th>\n",
       "      <th>age_30-39</th>\n",
       "      <th>age_40-49</th>\n",
       "      <th>age_50-59</th>\n",
       "      <th>age_60-69</th>\n",
       "      <th>age_70-plus</th>\n",
       "      <th>n_days_active</th>\n",
       "    </tr>\n",
       "  </thead>\n",
       "  <tbody>\n",
       "    <tr>\n",
       "      <th>0</th>\n",
       "      <td>C1</td>\n",
       "      <td>0</td>\n",
       "      <td>1</td>\n",
       "      <td>2024-05-02T05:39:10.965Z</td>\n",
       "      <td>0</td>\n",
       "      <td>0</td>\n",
       "      <td>0</td>\n",
       "      <td>0</td>\n",
       "      <td>0</td>\n",
       "      <td>1</td>\n",
       "      <td>0.203425</td>\n",
       "    </tr>\n",
       "    <tr>\n",
       "      <th>1</th>\n",
       "      <td>C2</td>\n",
       "      <td>1</td>\n",
       "      <td>1</td>\n",
       "      <td>2024-05-02T05:39:10.966Z</td>\n",
       "      <td>0</td>\n",
       "      <td>0</td>\n",
       "      <td>0</td>\n",
       "      <td>0</td>\n",
       "      <td>0</td>\n",
       "      <td>1</td>\n",
       "      <td>0.859589</td>\n",
       "    </tr>\n",
       "    <tr>\n",
       "      <th>2</th>\n",
       "      <td>C3</td>\n",
       "      <td>1</td>\n",
       "      <td>1</td>\n",
       "      <td>2024-05-02T05:39:10.967Z</td>\n",
       "      <td>0</td>\n",
       "      <td>1</td>\n",
       "      <td>0</td>\n",
       "      <td>0</td>\n",
       "      <td>0</td>\n",
       "      <td>0</td>\n",
       "      <td>0.527397</td>\n",
       "    </tr>\n",
       "    <tr>\n",
       "      <th>3</th>\n",
       "      <td>C4</td>\n",
       "      <td>1</td>\n",
       "      <td>0</td>\n",
       "      <td>2024-05-02T05:39:10.967Z</td>\n",
       "      <td>0</td>\n",
       "      <td>0</td>\n",
       "      <td>0</td>\n",
       "      <td>0</td>\n",
       "      <td>1</td>\n",
       "      <td>0</td>\n",
       "      <td>0.780822</td>\n",
       "    </tr>\n",
       "    <tr>\n",
       "      <th>4</th>\n",
       "      <td>C5</td>\n",
       "      <td>1</td>\n",
       "      <td>0</td>\n",
       "      <td>2024-05-02T05:39:10.968Z</td>\n",
       "      <td>0</td>\n",
       "      <td>0</td>\n",
       "      <td>0</td>\n",
       "      <td>0</td>\n",
       "      <td>1</td>\n",
       "      <td>0</td>\n",
       "      <td>0.691096</td>\n",
       "    </tr>\n",
       "  </tbody>\n",
       "</table>\n",
       "</div>"
      ],
      "text/plain": [
       "  customer_id  sex  is_married                event_time  age_18-29  \\\n",
       "0          C1    0           1  2024-05-02T05:39:10.965Z          0   \n",
       "1          C2    1           1  2024-05-02T05:39:10.966Z          0   \n",
       "2          C3    1           1  2024-05-02T05:39:10.967Z          0   \n",
       "3          C4    1           0  2024-05-02T05:39:10.967Z          0   \n",
       "4          C5    1           0  2024-05-02T05:39:10.968Z          0   \n",
       "\n",
       "   age_30-39  age_40-49  age_50-59  age_60-69  age_70-plus  n_days_active  \n",
       "0          0          0          0          0            1       0.203425  \n",
       "1          0          0          0          0            1       0.859589  \n",
       "2          1          0          0          0            0       0.527397  \n",
       "3          0          0          0          1            0       0.780822  \n",
       "4          0          0          0          1            0       0.691096  "
      ]
     },
     "execution_count": 91,
     "metadata": {},
     "output_type": "execute_result"
    }
   ],
   "source": [
    "customers_df.head()"
   ]
  },
  {
   "cell_type": "code",
   "execution_count": null,
   "id": "6e22738c-c8ca-4c07-ab70-42d619e43163",
   "metadata": {},
   "outputs": [],
   "source": []
  },
  {
   "cell_type": "code",
   "execution_count": 93,
   "id": "799c964e-cb82-43b0-b411-34362bd63c70",
   "metadata": {
    "execution": {
     "iopub.execute_input": "2025-08-09T19:22:11.762711Z",
     "iopub.status.busy": "2025-08-09T19:22:11.762044Z",
     "iopub.status.idle": "2025-08-09T19:22:11.767417Z",
     "shell.execute_reply": "2025-08-09T19:22:11.766845Z",
     "shell.execute_reply.started": "2025-08-09T19:22:11.762684Z"
    }
   },
   "outputs": [],
   "source": [
    "customers_df = customers_df.drop(columns=['Unnamed: 0'], errors='ignore')"
   ]
  },
  {
   "cell_type": "code",
   "execution_count": null,
   "id": "88b4fc74-b50f-4a3a-9269-97b944b13292",
   "metadata": {},
   "outputs": [],
   "source": []
  },
  {
   "cell_type": "code",
   "execution_count": 92,
   "id": "d43f11a9-3762-4c1d-bf39-7c3f92f649bf",
   "metadata": {
    "execution": {
     "iopub.execute_input": "2025-08-09T19:21:36.797761Z",
     "iopub.status.busy": "2025-08-09T19:21:36.797133Z",
     "iopub.status.idle": "2025-08-09T19:21:36.840893Z",
     "shell.execute_reply": "2025-08-09T19:21:36.840091Z",
     "shell.execute_reply.started": "2025-08-09T19:21:36.797731Z"
    }
   },
   "outputs": [],
   "source": [
    "customers_df.to_csv(\"transformed/customers.csv\", index=False)"
   ]
  },
  {
   "cell_type": "markdown",
   "id": "ae8821c1-23a7-49df-b39f-ab3cc004081b",
   "metadata": {},
   "source": [
    "## Step 2: Transform Orders Data"
   ]
  },
  {
   "cell_type": "code",
   "execution_count": 112,
   "id": "809cb998-718c-46ff-808a-9a1f853d3279",
   "metadata": {
    "execution": {
     "iopub.execute_input": "2025-08-09T19:26:42.219725Z",
     "iopub.status.busy": "2025-08-09T19:26:42.219169Z",
     "iopub.status.idle": "2025-08-09T19:26:42.413269Z",
     "shell.execute_reply": "2025-08-09T19:26:42.412559Z",
     "shell.execute_reply.started": "2025-08-09T19:26:42.219700Z"
    }
   },
   "outputs": [],
   "source": [
    "orders_df = pd.read_csv(\"raw/orders.csv\")"
   ]
  },
  {
   "cell_type": "code",
   "execution_count": 113,
   "id": "9f940152-ddf1-4f3f-aa46-685da9223b70",
   "metadata": {
    "execution": {
     "iopub.execute_input": "2025-08-09T19:26:43.470697Z",
     "iopub.status.busy": "2025-08-09T19:26:43.470045Z",
     "iopub.status.idle": "2025-08-09T19:26:43.480574Z",
     "shell.execute_reply": "2025-08-09T19:26:43.479916Z",
     "shell.execute_reply.started": "2025-08-09T19:26:43.470669Z"
    }
   },
   "outputs": [
    {
     "data": {
      "text/html": [
       "<div>\n",
       "<style scoped>\n",
       "    .dataframe tbody tr th:only-of-type {\n",
       "        vertical-align: middle;\n",
       "    }\n",
       "\n",
       "    .dataframe tbody tr th {\n",
       "        vertical-align: top;\n",
       "    }\n",
       "\n",
       "    .dataframe thead th {\n",
       "        text-align: right;\n",
       "    }\n",
       "</style>\n",
       "<table border=\"1\" class=\"dataframe\">\n",
       "  <thead>\n",
       "    <tr style=\"text-align: right;\">\n",
       "      <th></th>\n",
       "      <th>Unnamed: 0</th>\n",
       "      <th>order_id</th>\n",
       "      <th>customer_id</th>\n",
       "      <th>product_id</th>\n",
       "      <th>purchase_amount</th>\n",
       "      <th>is_reordered</th>\n",
       "      <th>purchased_on</th>\n",
       "      <th>event_time</th>\n",
       "    </tr>\n",
       "  </thead>\n",
       "  <tbody>\n",
       "    <tr>\n",
       "      <th>0</th>\n",
       "      <td>0</td>\n",
       "      <td>O1</td>\n",
       "      <td>C9765</td>\n",
       "      <td>P11660</td>\n",
       "      <td>58.84</td>\n",
       "      <td>0</td>\n",
       "      <td>2021-01-10 10:31:27</td>\n",
       "      <td>2024-05-02T05:39:17.172Z</td>\n",
       "    </tr>\n",
       "    <tr>\n",
       "      <th>1</th>\n",
       "      <td>1</td>\n",
       "      <td>O2</td>\n",
       "      <td>C3674</td>\n",
       "      <td>P6868</td>\n",
       "      <td>71.08</td>\n",
       "      <td>0</td>\n",
       "      <td>2020-03-20 16:47:36</td>\n",
       "      <td>2024-05-02T05:39:17.172Z</td>\n",
       "    </tr>\n",
       "    <tr>\n",
       "      <th>2</th>\n",
       "      <td>2</td>\n",
       "      <td>O3</td>\n",
       "      <td>C2139</td>\n",
       "      <td>P4749</td>\n",
       "      <td>57.17</td>\n",
       "      <td>1</td>\n",
       "      <td>2020-11-01 22:09:22</td>\n",
       "      <td>2024-05-02T05:39:17.172Z</td>\n",
       "    </tr>\n",
       "    <tr>\n",
       "      <th>3</th>\n",
       "      <td>3</td>\n",
       "      <td>O4</td>\n",
       "      <td>C7794</td>\n",
       "      <td>P542</td>\n",
       "      <td>5.35</td>\n",
       "      <td>1</td>\n",
       "      <td>2020-03-22 10:10:38</td>\n",
       "      <td>2024-05-02T05:39:17.172Z</td>\n",
       "    </tr>\n",
       "    <tr>\n",
       "      <th>4</th>\n",
       "      <td>4</td>\n",
       "      <td>O5</td>\n",
       "      <td>C2229</td>\n",
       "      <td>P7605</td>\n",
       "      <td>47.85</td>\n",
       "      <td>1</td>\n",
       "      <td>2021-01-14 01:08:56</td>\n",
       "      <td>2024-05-02T05:39:17.172Z</td>\n",
       "    </tr>\n",
       "  </tbody>\n",
       "</table>\n",
       "</div>"
      ],
      "text/plain": [
       "   Unnamed: 0 order_id customer_id product_id  purchase_amount  is_reordered  \\\n",
       "0           0       O1       C9765     P11660            58.84             0   \n",
       "1           1       O2       C3674      P6868            71.08             0   \n",
       "2           2       O3       C2139      P4749            57.17             1   \n",
       "3           3       O4       C7794       P542             5.35             1   \n",
       "4           4       O5       C2229      P7605            47.85             1   \n",
       "\n",
       "          purchased_on                event_time  \n",
       "0  2021-01-10 10:31:27  2024-05-02T05:39:17.172Z  \n",
       "1  2020-03-20 16:47:36  2024-05-02T05:39:17.172Z  \n",
       "2  2020-11-01 22:09:22  2024-05-02T05:39:17.172Z  \n",
       "3  2020-03-22 10:10:38  2024-05-02T05:39:17.172Z  \n",
       "4  2021-01-14 01:08:56  2024-05-02T05:39:17.172Z  "
      ]
     },
     "execution_count": 113,
     "metadata": {},
     "output_type": "execute_result"
    }
   ],
   "source": [
    "orders_df.head()"
   ]
  },
  {
   "cell_type": "code",
   "execution_count": 114,
   "id": "b81e8abe-1cf5-4269-8c42-89a44d0c1416",
   "metadata": {
    "execution": {
     "iopub.execute_input": "2025-08-09T19:26:45.112223Z",
     "iopub.status.busy": "2025-08-09T19:26:45.111229Z",
     "iopub.status.idle": "2025-08-09T19:26:45.376913Z",
     "shell.execute_reply": "2025-08-09T19:26:45.376170Z",
     "shell.execute_reply.started": "2025-08-09T19:26:45.112189Z"
    }
   },
   "outputs": [],
   "source": [
    "orders_df['purchased_on'] =  pd.to_datetime(orders_df['purchased_on'], format='%Y-%m-%d %H:%M:%S')\n",
    "orders_df['n_days_since_last_purchase'] = orders_df['purchased_on'].apply(lambda x: get_delta_days(x))"
   ]
  },
  {
   "cell_type": "code",
   "execution_count": 115,
   "id": "8e8c6616-82c1-48b7-80f7-0f25891f2cb4",
   "metadata": {
    "execution": {
     "iopub.execute_input": "2025-08-09T19:26:46.986532Z",
     "iopub.status.busy": "2025-08-09T19:26:46.986155Z",
     "iopub.status.idle": "2025-08-09T19:26:46.996598Z",
     "shell.execute_reply": "2025-08-09T19:26:46.996026Z",
     "shell.execute_reply.started": "2025-08-09T19:26:46.986508Z"
    }
   },
   "outputs": [
    {
     "data": {
      "text/html": [
       "<div>\n",
       "<style scoped>\n",
       "    .dataframe tbody tr th:only-of-type {\n",
       "        vertical-align: middle;\n",
       "    }\n",
       "\n",
       "    .dataframe tbody tr th {\n",
       "        vertical-align: top;\n",
       "    }\n",
       "\n",
       "    .dataframe thead th {\n",
       "        text-align: right;\n",
       "    }\n",
       "</style>\n",
       "<table border=\"1\" class=\"dataframe\">\n",
       "  <thead>\n",
       "    <tr style=\"text-align: right;\">\n",
       "      <th></th>\n",
       "      <th>Unnamed: 0</th>\n",
       "      <th>order_id</th>\n",
       "      <th>customer_id</th>\n",
       "      <th>product_id</th>\n",
       "      <th>purchase_amount</th>\n",
       "      <th>is_reordered</th>\n",
       "      <th>purchased_on</th>\n",
       "      <th>event_time</th>\n",
       "      <th>n_days_since_last_purchase</th>\n",
       "    </tr>\n",
       "  </thead>\n",
       "  <tbody>\n",
       "    <tr>\n",
       "      <th>0</th>\n",
       "      <td>0</td>\n",
       "      <td>O1</td>\n",
       "      <td>C9765</td>\n",
       "      <td>P11660</td>\n",
       "      <td>58.84</td>\n",
       "      <td>0</td>\n",
       "      <td>2021-01-10 10:31:27</td>\n",
       "      <td>2024-05-02T05:39:17.172Z</td>\n",
       "      <td>1672</td>\n",
       "    </tr>\n",
       "    <tr>\n",
       "      <th>1</th>\n",
       "      <td>1</td>\n",
       "      <td>O2</td>\n",
       "      <td>C3674</td>\n",
       "      <td>P6868</td>\n",
       "      <td>71.08</td>\n",
       "      <td>0</td>\n",
       "      <td>2020-03-20 16:47:36</td>\n",
       "      <td>2024-05-02T05:39:17.172Z</td>\n",
       "      <td>1968</td>\n",
       "    </tr>\n",
       "    <tr>\n",
       "      <th>2</th>\n",
       "      <td>2</td>\n",
       "      <td>O3</td>\n",
       "      <td>C2139</td>\n",
       "      <td>P4749</td>\n",
       "      <td>57.17</td>\n",
       "      <td>1</td>\n",
       "      <td>2020-11-01 22:09:22</td>\n",
       "      <td>2024-05-02T05:39:17.172Z</td>\n",
       "      <td>1742</td>\n",
       "    </tr>\n",
       "    <tr>\n",
       "      <th>3</th>\n",
       "      <td>3</td>\n",
       "      <td>O4</td>\n",
       "      <td>C7794</td>\n",
       "      <td>P542</td>\n",
       "      <td>5.35</td>\n",
       "      <td>1</td>\n",
       "      <td>2020-03-22 10:10:38</td>\n",
       "      <td>2024-05-02T05:39:17.172Z</td>\n",
       "      <td>1966</td>\n",
       "    </tr>\n",
       "    <tr>\n",
       "      <th>4</th>\n",
       "      <td>4</td>\n",
       "      <td>O5</td>\n",
       "      <td>C2229</td>\n",
       "      <td>P7605</td>\n",
       "      <td>47.85</td>\n",
       "      <td>1</td>\n",
       "      <td>2021-01-14 01:08:56</td>\n",
       "      <td>2024-05-02T05:39:17.172Z</td>\n",
       "      <td>1668</td>\n",
       "    </tr>\n",
       "  </tbody>\n",
       "</table>\n",
       "</div>"
      ],
      "text/plain": [
       "   Unnamed: 0 order_id customer_id product_id  purchase_amount  is_reordered  \\\n",
       "0           0       O1       C9765     P11660            58.84             0   \n",
       "1           1       O2       C3674      P6868            71.08             0   \n",
       "2           2       O3       C2139      P4749            57.17             1   \n",
       "3           3       O4       C7794       P542             5.35             1   \n",
       "4           4       O5       C2229      P7605            47.85             1   \n",
       "\n",
       "         purchased_on                event_time  n_days_since_last_purchase  \n",
       "0 2021-01-10 10:31:27  2024-05-02T05:39:17.172Z                        1672  \n",
       "1 2020-03-20 16:47:36  2024-05-02T05:39:17.172Z                        1968  \n",
       "2 2020-11-01 22:09:22  2024-05-02T05:39:17.172Z                        1742  \n",
       "3 2020-03-22 10:10:38  2024-05-02T05:39:17.172Z                        1966  \n",
       "4 2021-01-14 01:08:56  2024-05-02T05:39:17.172Z                        1668  "
      ]
     },
     "execution_count": 115,
     "metadata": {},
     "output_type": "execute_result"
    }
   ],
   "source": [
    "orders_df.head()"
   ]
  },
  {
   "cell_type": "code",
   "execution_count": 116,
   "id": "c026fae8-3456-4136-ac36-78371c971dfb",
   "metadata": {
    "execution": {
     "iopub.execute_input": "2025-08-09T19:26:53.763836Z",
     "iopub.status.busy": "2025-08-09T19:26:53.763528Z",
     "iopub.status.idle": "2025-08-09T19:26:53.778708Z",
     "shell.execute_reply": "2025-08-09T19:26:53.778011Z",
     "shell.execute_reply.started": "2025-08-09T19:26:53.763814Z"
    }
   },
   "outputs": [
    {
     "data": {
      "text/html": [
       "<div>\n",
       "<style scoped>\n",
       "    .dataframe tbody tr th:only-of-type {\n",
       "        vertical-align: middle;\n",
       "    }\n",
       "\n",
       "    .dataframe tbody tr th {\n",
       "        vertical-align: top;\n",
       "    }\n",
       "\n",
       "    .dataframe thead th {\n",
       "        text-align: right;\n",
       "    }\n",
       "</style>\n",
       "<table border=\"1\" class=\"dataframe\">\n",
       "  <thead>\n",
       "    <tr style=\"text-align: right;\">\n",
       "      <th></th>\n",
       "      <th>Unnamed: 0</th>\n",
       "      <th>order_id</th>\n",
       "      <th>customer_id</th>\n",
       "      <th>product_id</th>\n",
       "      <th>purchase_amount</th>\n",
       "      <th>is_reordered</th>\n",
       "      <th>purchased_on</th>\n",
       "      <th>event_time</th>\n",
       "      <th>n_days_since_last_purchase</th>\n",
       "    </tr>\n",
       "  </thead>\n",
       "  <tbody>\n",
       "    <tr>\n",
       "      <th>0</th>\n",
       "      <td>0</td>\n",
       "      <td>O1</td>\n",
       "      <td>C9765</td>\n",
       "      <td>P11660</td>\n",
       "      <td>58.84</td>\n",
       "      <td>0</td>\n",
       "      <td>2021-01-10 10:31:27</td>\n",
       "      <td>2024-05-02T05:39:17.172Z</td>\n",
       "      <td>0.273256</td>\n",
       "    </tr>\n",
       "    <tr>\n",
       "      <th>1</th>\n",
       "      <td>1</td>\n",
       "      <td>O2</td>\n",
       "      <td>C3674</td>\n",
       "      <td>P6868</td>\n",
       "      <td>71.08</td>\n",
       "      <td>0</td>\n",
       "      <td>2020-03-20 16:47:36</td>\n",
       "      <td>2024-05-02T05:39:17.172Z</td>\n",
       "      <td>0.846899</td>\n",
       "    </tr>\n",
       "    <tr>\n",
       "      <th>2</th>\n",
       "      <td>2</td>\n",
       "      <td>O3</td>\n",
       "      <td>C2139</td>\n",
       "      <td>P4749</td>\n",
       "      <td>57.17</td>\n",
       "      <td>1</td>\n",
       "      <td>2020-11-01 22:09:22</td>\n",
       "      <td>2024-05-02T05:39:17.172Z</td>\n",
       "      <td>0.408915</td>\n",
       "    </tr>\n",
       "    <tr>\n",
       "      <th>3</th>\n",
       "      <td>3</td>\n",
       "      <td>O4</td>\n",
       "      <td>C7794</td>\n",
       "      <td>P542</td>\n",
       "      <td>5.35</td>\n",
       "      <td>1</td>\n",
       "      <td>2020-03-22 10:10:38</td>\n",
       "      <td>2024-05-02T05:39:17.172Z</td>\n",
       "      <td>0.843023</td>\n",
       "    </tr>\n",
       "    <tr>\n",
       "      <th>4</th>\n",
       "      <td>4</td>\n",
       "      <td>O5</td>\n",
       "      <td>C2229</td>\n",
       "      <td>P7605</td>\n",
       "      <td>47.85</td>\n",
       "      <td>1</td>\n",
       "      <td>2021-01-14 01:08:56</td>\n",
       "      <td>2024-05-02T05:39:17.172Z</td>\n",
       "      <td>0.265504</td>\n",
       "    </tr>\n",
       "  </tbody>\n",
       "</table>\n",
       "</div>"
      ],
      "text/plain": [
       "   Unnamed: 0 order_id customer_id product_id  purchase_amount  is_reordered  \\\n",
       "0           0       O1       C9765     P11660            58.84             0   \n",
       "1           1       O2       C3674      P6868            71.08             0   \n",
       "2           2       O3       C2139      P4749            57.17             1   \n",
       "3           3       O4       C7794       P542             5.35             1   \n",
       "4           4       O5       C2229      P7605            47.85             1   \n",
       "\n",
       "         purchased_on                event_time  n_days_since_last_purchase  \n",
       "0 2021-01-10 10:31:27  2024-05-02T05:39:17.172Z                    0.273256  \n",
       "1 2020-03-20 16:47:36  2024-05-02T05:39:17.172Z                    0.846899  \n",
       "2 2020-11-01 22:09:22  2024-05-02T05:39:17.172Z                    0.408915  \n",
       "3 2020-03-22 10:10:38  2024-05-02T05:39:17.172Z                    0.843023  \n",
       "4 2021-01-14 01:08:56  2024-05-02T05:39:17.172Z                    0.265504  "
      ]
     },
     "execution_count": 116,
     "metadata": {},
     "output_type": "execute_result"
    }
   ],
   "source": [
    "orders_df['n_days_since_last_purchase'] = min_max_scaler.fit_transform(orders_df[['n_days_since_last_purchase']])\n",
    "orders_df.head()"
   ]
  },
  {
   "cell_type": "code",
   "execution_count": 117,
   "id": "816fbb32-d6c3-4220-8615-728188ca0f4a",
   "metadata": {
    "execution": {
     "iopub.execute_input": "2025-08-09T19:26:53.780608Z",
     "iopub.status.busy": "2025-08-09T19:26:53.780030Z",
     "iopub.status.idle": "2025-08-09T19:26:53.787107Z",
     "shell.execute_reply": "2025-08-09T19:26:53.786522Z",
     "shell.execute_reply.started": "2025-08-09T19:26:53.780586Z"
    }
   },
   "outputs": [],
   "source": [
    "orders_df['purchase_amount'] = min_max_scaler.fit_transform(orders_df[['purchase_amount']])"
   ]
  },
  {
   "cell_type": "code",
   "execution_count": 118,
   "id": "392f97c1-4899-4b08-bae4-614d555fb760",
   "metadata": {
    "execution": {
     "iopub.execute_input": "2025-08-09T19:26:53.788718Z",
     "iopub.status.busy": "2025-08-09T19:26:53.787936Z",
     "iopub.status.idle": "2025-08-09T19:26:53.816362Z",
     "shell.execute_reply": "2025-08-09T19:26:53.815587Z",
     "shell.execute_reply.started": "2025-08-09T19:26:53.788685Z"
    }
   },
   "outputs": [
    {
     "name": "stdout",
     "output_type": "stream",
     "text": [
      "<class 'pandas.core.frame.DataFrame'>\n",
      "RangeIndex: 100000 entries, 0 to 99999\n",
      "Data columns (total 9 columns):\n",
      " #   Column                      Non-Null Count   Dtype         \n",
      "---  ------                      --------------   -----         \n",
      " 0   Unnamed: 0                  100000 non-null  int64         \n",
      " 1   order_id                    100000 non-null  object        \n",
      " 2   customer_id                 100000 non-null  object        \n",
      " 3   product_id                  100000 non-null  object        \n",
      " 4   purchase_amount             100000 non-null  float64       \n",
      " 5   is_reordered                100000 non-null  int64         \n",
      " 6   purchased_on                100000 non-null  datetime64[ns]\n",
      " 7   event_time                  100000 non-null  object        \n",
      " 8   n_days_since_last_purchase  100000 non-null  float64       \n",
      "dtypes: datetime64[ns](1), float64(2), int64(2), object(4)\n",
      "memory usage: 6.9+ MB\n"
     ]
    }
   ],
   "source": [
    "orders_df.info()"
   ]
  },
  {
   "cell_type": "code",
   "execution_count": 119,
   "id": "72b3589c-f058-4326-8a4d-6177de1ee778",
   "metadata": {
    "execution": {
     "iopub.execute_input": "2025-08-09T19:26:53.817390Z",
     "iopub.status.busy": "2025-08-09T19:26:53.817055Z",
     "iopub.status.idle": "2025-08-09T19:26:53.823231Z",
     "shell.execute_reply": "2025-08-09T19:26:53.822640Z",
     "shell.execute_reply.started": "2025-08-09T19:26:53.817371Z"
    }
   },
   "outputs": [
    {
     "data": {
      "text/plain": [
       "is_reordered\n",
       "1    66509\n",
       "0    33491\n",
       "Name: count, dtype: int64"
      ]
     },
     "execution_count": 119,
     "metadata": {},
     "output_type": "execute_result"
    }
   ],
   "source": [
    "orders_df['is_reordered'].value_counts()"
   ]
  },
  {
   "cell_type": "code",
   "execution_count": 120,
   "id": "789f5dfd-b4df-4229-b3c2-acf14fbfe896",
   "metadata": {
    "execution": {
     "iopub.execute_input": "2025-08-09T19:26:53.825210Z",
     "iopub.status.busy": "2025-08-09T19:26:53.824725Z",
     "iopub.status.idle": "2025-08-09T19:26:53.835459Z",
     "shell.execute_reply": "2025-08-09T19:26:53.834890Z",
     "shell.execute_reply.started": "2025-08-09T19:26:53.825190Z"
    }
   },
   "outputs": [
    {
     "data": {
      "text/html": [
       "<div>\n",
       "<style scoped>\n",
       "    .dataframe tbody tr th:only-of-type {\n",
       "        vertical-align: middle;\n",
       "    }\n",
       "\n",
       "    .dataframe tbody tr th {\n",
       "        vertical-align: top;\n",
       "    }\n",
       "\n",
       "    .dataframe thead th {\n",
       "        text-align: right;\n",
       "    }\n",
       "</style>\n",
       "<table border=\"1\" class=\"dataframe\">\n",
       "  <thead>\n",
       "    <tr style=\"text-align: right;\">\n",
       "      <th></th>\n",
       "      <th>Unnamed: 0</th>\n",
       "      <th>order_id</th>\n",
       "      <th>customer_id</th>\n",
       "      <th>product_id</th>\n",
       "      <th>purchase_amount</th>\n",
       "      <th>is_reordered</th>\n",
       "      <th>purchased_on</th>\n",
       "      <th>event_time</th>\n",
       "      <th>n_days_since_last_purchase</th>\n",
       "    </tr>\n",
       "  </thead>\n",
       "  <tbody>\n",
       "    <tr>\n",
       "      <th>0</th>\n",
       "      <td>0</td>\n",
       "      <td>O1</td>\n",
       "      <td>C9765</td>\n",
       "      <td>P11660</td>\n",
       "      <td>0.572673</td>\n",
       "      <td>0</td>\n",
       "      <td>2021-01-10 10:31:27</td>\n",
       "      <td>2024-05-02T05:39:17.172Z</td>\n",
       "      <td>0.273256</td>\n",
       "    </tr>\n",
       "    <tr>\n",
       "      <th>1</th>\n",
       "      <td>1</td>\n",
       "      <td>O2</td>\n",
       "      <td>C3674</td>\n",
       "      <td>P6868</td>\n",
       "      <td>0.693861</td>\n",
       "      <td>0</td>\n",
       "      <td>2020-03-20 16:47:36</td>\n",
       "      <td>2024-05-02T05:39:17.172Z</td>\n",
       "      <td>0.846899</td>\n",
       "    </tr>\n",
       "    <tr>\n",
       "      <th>2</th>\n",
       "      <td>2</td>\n",
       "      <td>O3</td>\n",
       "      <td>C2139</td>\n",
       "      <td>P4749</td>\n",
       "      <td>0.556139</td>\n",
       "      <td>1</td>\n",
       "      <td>2020-11-01 22:09:22</td>\n",
       "      <td>2024-05-02T05:39:17.172Z</td>\n",
       "      <td>0.408915</td>\n",
       "    </tr>\n",
       "    <tr>\n",
       "      <th>3</th>\n",
       "      <td>3</td>\n",
       "      <td>O4</td>\n",
       "      <td>C7794</td>\n",
       "      <td>P542</td>\n",
       "      <td>0.043069</td>\n",
       "      <td>1</td>\n",
       "      <td>2020-03-22 10:10:38</td>\n",
       "      <td>2024-05-02T05:39:17.172Z</td>\n",
       "      <td>0.843023</td>\n",
       "    </tr>\n",
       "    <tr>\n",
       "      <th>4</th>\n",
       "      <td>4</td>\n",
       "      <td>O5</td>\n",
       "      <td>C2229</td>\n",
       "      <td>P7605</td>\n",
       "      <td>0.463861</td>\n",
       "      <td>1</td>\n",
       "      <td>2021-01-14 01:08:56</td>\n",
       "      <td>2024-05-02T05:39:17.172Z</td>\n",
       "      <td>0.265504</td>\n",
       "    </tr>\n",
       "  </tbody>\n",
       "</table>\n",
       "</div>"
      ],
      "text/plain": [
       "   Unnamed: 0 order_id customer_id product_id  purchase_amount  is_reordered  \\\n",
       "0           0       O1       C9765     P11660         0.572673             0   \n",
       "1           1       O2       C3674      P6868         0.693861             0   \n",
       "2           2       O3       C2139      P4749         0.556139             1   \n",
       "3           3       O4       C7794       P542         0.043069             1   \n",
       "4           4       O5       C2229      P7605         0.463861             1   \n",
       "\n",
       "         purchased_on                event_time  n_days_since_last_purchase  \n",
       "0 2021-01-10 10:31:27  2024-05-02T05:39:17.172Z                    0.273256  \n",
       "1 2020-03-20 16:47:36  2024-05-02T05:39:17.172Z                    0.846899  \n",
       "2 2020-11-01 22:09:22  2024-05-02T05:39:17.172Z                    0.408915  \n",
       "3 2020-03-22 10:10:38  2024-05-02T05:39:17.172Z                    0.843023  \n",
       "4 2021-01-14 01:08:56  2024-05-02T05:39:17.172Z                    0.265504  "
      ]
     },
     "execution_count": 120,
     "metadata": {},
     "output_type": "execute_result"
    }
   ],
   "source": [
    "orders_df.head()"
   ]
  },
  {
   "cell_type": "code",
   "execution_count": 121,
   "id": "b4e8a376-e4ae-429d-9a2f-b8354cc68deb",
   "metadata": {
    "execution": {
     "iopub.execute_input": "2025-08-09T19:26:53.836386Z",
     "iopub.status.busy": "2025-08-09T19:26:53.836159Z",
     "iopub.status.idle": "2025-08-09T19:26:53.854091Z",
     "shell.execute_reply": "2025-08-09T19:26:53.853219Z",
     "shell.execute_reply.started": "2025-08-09T19:26:53.836361Z"
    }
   },
   "outputs": [],
   "source": [
    "orders_df.drop(columns=\"purchased_on\", inplace=True)\n",
    "orders_df = orders_df.drop(columns=['Unnamed: 0'], errors='ignore')"
   ]
  },
  {
   "cell_type": "code",
   "execution_count": 122,
   "id": "6e08a00f-1747-455b-b1e3-e37fd51d20b7",
   "metadata": {
    "execution": {
     "iopub.execute_input": "2025-08-09T19:26:53.855582Z",
     "iopub.status.busy": "2025-08-09T19:26:53.854932Z",
     "iopub.status.idle": "2025-08-09T19:26:53.864615Z",
     "shell.execute_reply": "2025-08-09T19:26:53.864053Z",
     "shell.execute_reply.started": "2025-08-09T19:26:53.855554Z"
    }
   },
   "outputs": [
    {
     "data": {
      "text/html": [
       "<div>\n",
       "<style scoped>\n",
       "    .dataframe tbody tr th:only-of-type {\n",
       "        vertical-align: middle;\n",
       "    }\n",
       "\n",
       "    .dataframe tbody tr th {\n",
       "        vertical-align: top;\n",
       "    }\n",
       "\n",
       "    .dataframe thead th {\n",
       "        text-align: right;\n",
       "    }\n",
       "</style>\n",
       "<table border=\"1\" class=\"dataframe\">\n",
       "  <thead>\n",
       "    <tr style=\"text-align: right;\">\n",
       "      <th></th>\n",
       "      <th>order_id</th>\n",
       "      <th>customer_id</th>\n",
       "      <th>product_id</th>\n",
       "      <th>purchase_amount</th>\n",
       "      <th>is_reordered</th>\n",
       "      <th>event_time</th>\n",
       "      <th>n_days_since_last_purchase</th>\n",
       "    </tr>\n",
       "  </thead>\n",
       "  <tbody>\n",
       "    <tr>\n",
       "      <th>0</th>\n",
       "      <td>O1</td>\n",
       "      <td>C9765</td>\n",
       "      <td>P11660</td>\n",
       "      <td>0.572673</td>\n",
       "      <td>0</td>\n",
       "      <td>2024-05-02T05:39:17.172Z</td>\n",
       "      <td>0.273256</td>\n",
       "    </tr>\n",
       "    <tr>\n",
       "      <th>1</th>\n",
       "      <td>O2</td>\n",
       "      <td>C3674</td>\n",
       "      <td>P6868</td>\n",
       "      <td>0.693861</td>\n",
       "      <td>0</td>\n",
       "      <td>2024-05-02T05:39:17.172Z</td>\n",
       "      <td>0.846899</td>\n",
       "    </tr>\n",
       "    <tr>\n",
       "      <th>2</th>\n",
       "      <td>O3</td>\n",
       "      <td>C2139</td>\n",
       "      <td>P4749</td>\n",
       "      <td>0.556139</td>\n",
       "      <td>1</td>\n",
       "      <td>2024-05-02T05:39:17.172Z</td>\n",
       "      <td>0.408915</td>\n",
       "    </tr>\n",
       "    <tr>\n",
       "      <th>3</th>\n",
       "      <td>O4</td>\n",
       "      <td>C7794</td>\n",
       "      <td>P542</td>\n",
       "      <td>0.043069</td>\n",
       "      <td>1</td>\n",
       "      <td>2024-05-02T05:39:17.172Z</td>\n",
       "      <td>0.843023</td>\n",
       "    </tr>\n",
       "    <tr>\n",
       "      <th>4</th>\n",
       "      <td>O5</td>\n",
       "      <td>C2229</td>\n",
       "      <td>P7605</td>\n",
       "      <td>0.463861</td>\n",
       "      <td>1</td>\n",
       "      <td>2024-05-02T05:39:17.172Z</td>\n",
       "      <td>0.265504</td>\n",
       "    </tr>\n",
       "  </tbody>\n",
       "</table>\n",
       "</div>"
      ],
      "text/plain": [
       "  order_id customer_id product_id  purchase_amount  is_reordered  \\\n",
       "0       O1       C9765     P11660         0.572673             0   \n",
       "1       O2       C3674      P6868         0.693861             0   \n",
       "2       O3       C2139      P4749         0.556139             1   \n",
       "3       O4       C7794       P542         0.043069             1   \n",
       "4       O5       C2229      P7605         0.463861             1   \n",
       "\n",
       "                 event_time  n_days_since_last_purchase  \n",
       "0  2024-05-02T05:39:17.172Z                    0.273256  \n",
       "1  2024-05-02T05:39:17.172Z                    0.846899  \n",
       "2  2024-05-02T05:39:17.172Z                    0.408915  \n",
       "3  2024-05-02T05:39:17.172Z                    0.843023  \n",
       "4  2024-05-02T05:39:17.172Z                    0.265504  "
      ]
     },
     "execution_count": 122,
     "metadata": {},
     "output_type": "execute_result"
    }
   ],
   "source": [
    "orders_df.head()"
   ]
  },
  {
   "cell_type": "code",
   "execution_count": 123,
   "id": "fe46c0b8-cff3-4a9a-9bf0-9fb1b3b8ae04",
   "metadata": {
    "execution": {
     "iopub.execute_input": "2025-08-09T19:26:53.865843Z",
     "iopub.status.busy": "2025-08-09T19:26:53.865365Z",
     "iopub.status.idle": "2025-08-09T19:26:54.362551Z",
     "shell.execute_reply": "2025-08-09T19:26:54.361772Z",
     "shell.execute_reply.started": "2025-08-09T19:26:53.865815Z"
    }
   },
   "outputs": [],
   "source": [
    "orders_df.to_csv(\"transformed/orders.csv\", index=False)"
   ]
  },
  {
   "cell_type": "markdown",
   "id": "fb9078b9-bc36-403c-9073-5248c81c199d",
   "metadata": {
    "jp-MarkdownHeadingCollapsed": true
   },
   "source": [
    "## Step 3: Prepare Environment"
   ]
  },
  {
   "cell_type": "code",
   "execution_count": 124,
   "id": "cbf62daf-3ef6-4c84-ac23-876575cfe238",
   "metadata": {
    "execution": {
     "iopub.execute_input": "2025-08-09T19:26:54.363783Z",
     "iopub.status.busy": "2025-08-09T19:26:54.363333Z",
     "iopub.status.idle": "2025-08-09T19:26:54.367458Z",
     "shell.execute_reply": "2025-08-09T19:26:54.366844Z",
     "shell.execute_reply.started": "2025-08-09T19:26:54.363756Z"
    }
   },
   "outputs": [],
   "source": [
    "import sagemaker\n",
    "import boto3\n",
    "import sys\n",
    "import pandas as pd\n",
    "import numpy as np \n",
    "import io \n",
    "from sagemaker.session import Session\n",
    "from sagemaker import get_execution_role"
   ]
  },
  {
   "cell_type": "code",
   "execution_count": 125,
   "id": "58e0f853-6783-44e8-bbfe-c15fa4f6d157",
   "metadata": {
    "execution": {
     "iopub.execute_input": "2025-08-09T19:26:54.368577Z",
     "iopub.status.busy": "2025-08-09T19:26:54.368364Z",
     "iopub.status.idle": "2025-08-09T19:26:54.880541Z",
     "shell.execute_reply": "2025-08-09T19:26:54.879791Z",
     "shell.execute_reply.started": "2025-08-09T19:26:54.368559Z"
    }
   },
   "outputs": [],
   "source": [
    "prefix = \"customer-feature-store\"\n",
    "role = get_execution_role()\n",
    "sagemaker_session = Session() \n",
    "region = sagemaker_session.boto_region_name\n",
    "s3_bucket_name = sagemaker_session.default_bucket()"
   ]
  },
  {
   "cell_type": "markdown",
   "id": "2cfb2743-4ca5-496e-af16-2f2896dd1d0d",
   "metadata": {
    "jp-MarkdownHeadingCollapsed": true
   },
   "source": [
    "## Step 4: Load Transformed Data"
   ]
  },
  {
   "cell_type": "code",
   "execution_count": 126,
   "id": "9c81f142-9311-424f-bc4b-d219b8a3e59c",
   "metadata": {
    "execution": {
     "iopub.execute_input": "2025-08-09T19:26:54.881475Z",
     "iopub.status.busy": "2025-08-09T19:26:54.881250Z",
     "iopub.status.idle": "2025-08-09T19:26:55.078175Z",
     "shell.execute_reply": "2025-08-09T19:26:55.077332Z",
     "shell.execute_reply.started": "2025-08-09T19:26:54.881457Z"
    }
   },
   "outputs": [],
   "source": [
    "# Load the Data \n",
    "customer_data = pd.read_csv(\"transformed/customers.csv\") \n",
    "orders_data = pd.read_csv(\"transformed/orders.csv\")"
   ]
  },
  {
   "cell_type": "code",
   "execution_count": 127,
   "id": "93339478-fb6e-4c37-9cc2-bc99a7df33b1",
   "metadata": {
    "execution": {
     "iopub.execute_input": "2025-08-09T19:26:55.080652Z",
     "iopub.status.busy": "2025-08-09T19:26:55.080039Z",
     "iopub.status.idle": "2025-08-09T19:26:55.090931Z",
     "shell.execute_reply": "2025-08-09T19:26:55.090131Z",
     "shell.execute_reply.started": "2025-08-09T19:26:55.080630Z"
    }
   },
   "outputs": [
    {
     "data": {
      "text/html": [
       "<div>\n",
       "<style scoped>\n",
       "    .dataframe tbody tr th:only-of-type {\n",
       "        vertical-align: middle;\n",
       "    }\n",
       "\n",
       "    .dataframe tbody tr th {\n",
       "        vertical-align: top;\n",
       "    }\n",
       "\n",
       "    .dataframe thead th {\n",
       "        text-align: right;\n",
       "    }\n",
       "</style>\n",
       "<table border=\"1\" class=\"dataframe\">\n",
       "  <thead>\n",
       "    <tr style=\"text-align: right;\">\n",
       "      <th></th>\n",
       "      <th>customer_id</th>\n",
       "      <th>sex</th>\n",
       "      <th>is_married</th>\n",
       "      <th>event_time</th>\n",
       "      <th>age_18-29</th>\n",
       "      <th>age_30-39</th>\n",
       "      <th>age_40-49</th>\n",
       "      <th>age_50-59</th>\n",
       "      <th>age_60-69</th>\n",
       "      <th>age_70-plus</th>\n",
       "      <th>n_days_active</th>\n",
       "    </tr>\n",
       "  </thead>\n",
       "  <tbody>\n",
       "    <tr>\n",
       "      <th>0</th>\n",
       "      <td>C1</td>\n",
       "      <td>0</td>\n",
       "      <td>1</td>\n",
       "      <td>2024-05-02T05:39:10.965Z</td>\n",
       "      <td>0</td>\n",
       "      <td>0</td>\n",
       "      <td>0</td>\n",
       "      <td>0</td>\n",
       "      <td>0</td>\n",
       "      <td>1</td>\n",
       "      <td>0.203425</td>\n",
       "    </tr>\n",
       "    <tr>\n",
       "      <th>1</th>\n",
       "      <td>C2</td>\n",
       "      <td>1</td>\n",
       "      <td>1</td>\n",
       "      <td>2024-05-02T05:39:10.966Z</td>\n",
       "      <td>0</td>\n",
       "      <td>0</td>\n",
       "      <td>0</td>\n",
       "      <td>0</td>\n",
       "      <td>0</td>\n",
       "      <td>1</td>\n",
       "      <td>0.859589</td>\n",
       "    </tr>\n",
       "    <tr>\n",
       "      <th>2</th>\n",
       "      <td>C3</td>\n",
       "      <td>1</td>\n",
       "      <td>1</td>\n",
       "      <td>2024-05-02T05:39:10.967Z</td>\n",
       "      <td>0</td>\n",
       "      <td>1</td>\n",
       "      <td>0</td>\n",
       "      <td>0</td>\n",
       "      <td>0</td>\n",
       "      <td>0</td>\n",
       "      <td>0.527397</td>\n",
       "    </tr>\n",
       "    <tr>\n",
       "      <th>3</th>\n",
       "      <td>C4</td>\n",
       "      <td>1</td>\n",
       "      <td>0</td>\n",
       "      <td>2024-05-02T05:39:10.967Z</td>\n",
       "      <td>0</td>\n",
       "      <td>0</td>\n",
       "      <td>0</td>\n",
       "      <td>0</td>\n",
       "      <td>1</td>\n",
       "      <td>0</td>\n",
       "      <td>0.780822</td>\n",
       "    </tr>\n",
       "    <tr>\n",
       "      <th>4</th>\n",
       "      <td>C5</td>\n",
       "      <td>1</td>\n",
       "      <td>0</td>\n",
       "      <td>2024-05-02T05:39:10.968Z</td>\n",
       "      <td>0</td>\n",
       "      <td>0</td>\n",
       "      <td>0</td>\n",
       "      <td>0</td>\n",
       "      <td>1</td>\n",
       "      <td>0</td>\n",
       "      <td>0.691096</td>\n",
       "    </tr>\n",
       "  </tbody>\n",
       "</table>\n",
       "</div>"
      ],
      "text/plain": [
       "  customer_id  sex  is_married                event_time  age_18-29  \\\n",
       "0          C1    0           1  2024-05-02T05:39:10.965Z          0   \n",
       "1          C2    1           1  2024-05-02T05:39:10.966Z          0   \n",
       "2          C3    1           1  2024-05-02T05:39:10.967Z          0   \n",
       "3          C4    1           0  2024-05-02T05:39:10.967Z          0   \n",
       "4          C5    1           0  2024-05-02T05:39:10.968Z          0   \n",
       "\n",
       "   age_30-39  age_40-49  age_50-59  age_60-69  age_70-plus  n_days_active  \n",
       "0          0          0          0          0            1       0.203425  \n",
       "1          0          0          0          0            1       0.859589  \n",
       "2          1          0          0          0            0       0.527397  \n",
       "3          0          0          0          1            0       0.780822  \n",
       "4          0          0          0          1            0       0.691096  "
      ]
     },
     "execution_count": 127,
     "metadata": {},
     "output_type": "execute_result"
    }
   ],
   "source": [
    "customer_data.head()"
   ]
  },
  {
   "cell_type": "code",
   "execution_count": 128,
   "id": "edcd6a63-cfc5-4a6e-a40f-7818186e492e",
   "metadata": {
    "execution": {
     "iopub.execute_input": "2025-08-09T19:26:55.092032Z",
     "iopub.status.busy": "2025-08-09T19:26:55.091699Z",
     "iopub.status.idle": "2025-08-09T19:26:55.102020Z",
     "shell.execute_reply": "2025-08-09T19:26:55.101289Z",
     "shell.execute_reply.started": "2025-08-09T19:26:55.092007Z"
    }
   },
   "outputs": [
    {
     "data": {
      "text/html": [
       "<div>\n",
       "<style scoped>\n",
       "    .dataframe tbody tr th:only-of-type {\n",
       "        vertical-align: middle;\n",
       "    }\n",
       "\n",
       "    .dataframe tbody tr th {\n",
       "        vertical-align: top;\n",
       "    }\n",
       "\n",
       "    .dataframe thead th {\n",
       "        text-align: right;\n",
       "    }\n",
       "</style>\n",
       "<table border=\"1\" class=\"dataframe\">\n",
       "  <thead>\n",
       "    <tr style=\"text-align: right;\">\n",
       "      <th></th>\n",
       "      <th>order_id</th>\n",
       "      <th>customer_id</th>\n",
       "      <th>product_id</th>\n",
       "      <th>purchase_amount</th>\n",
       "      <th>is_reordered</th>\n",
       "      <th>event_time</th>\n",
       "      <th>n_days_since_last_purchase</th>\n",
       "    </tr>\n",
       "  </thead>\n",
       "  <tbody>\n",
       "    <tr>\n",
       "      <th>0</th>\n",
       "      <td>O1</td>\n",
       "      <td>C9765</td>\n",
       "      <td>P11660</td>\n",
       "      <td>0.572673</td>\n",
       "      <td>0</td>\n",
       "      <td>2024-05-02T05:39:17.172Z</td>\n",
       "      <td>0.273256</td>\n",
       "    </tr>\n",
       "    <tr>\n",
       "      <th>1</th>\n",
       "      <td>O2</td>\n",
       "      <td>C3674</td>\n",
       "      <td>P6868</td>\n",
       "      <td>0.693861</td>\n",
       "      <td>0</td>\n",
       "      <td>2024-05-02T05:39:17.172Z</td>\n",
       "      <td>0.846899</td>\n",
       "    </tr>\n",
       "    <tr>\n",
       "      <th>2</th>\n",
       "      <td>O3</td>\n",
       "      <td>C2139</td>\n",
       "      <td>P4749</td>\n",
       "      <td>0.556139</td>\n",
       "      <td>1</td>\n",
       "      <td>2024-05-02T05:39:17.172Z</td>\n",
       "      <td>0.408915</td>\n",
       "    </tr>\n",
       "    <tr>\n",
       "      <th>3</th>\n",
       "      <td>O4</td>\n",
       "      <td>C7794</td>\n",
       "      <td>P542</td>\n",
       "      <td>0.043069</td>\n",
       "      <td>1</td>\n",
       "      <td>2024-05-02T05:39:17.172Z</td>\n",
       "      <td>0.843023</td>\n",
       "    </tr>\n",
       "    <tr>\n",
       "      <th>4</th>\n",
       "      <td>O5</td>\n",
       "      <td>C2229</td>\n",
       "      <td>P7605</td>\n",
       "      <td>0.463861</td>\n",
       "      <td>1</td>\n",
       "      <td>2024-05-02T05:39:17.172Z</td>\n",
       "      <td>0.265504</td>\n",
       "    </tr>\n",
       "  </tbody>\n",
       "</table>\n",
       "</div>"
      ],
      "text/plain": [
       "  order_id customer_id product_id  purchase_amount  is_reordered  \\\n",
       "0       O1       C9765     P11660         0.572673             0   \n",
       "1       O2       C3674      P6868         0.693861             0   \n",
       "2       O3       C2139      P4749         0.556139             1   \n",
       "3       O4       C7794       P542         0.043069             1   \n",
       "4       O5       C2229      P7605         0.463861             1   \n",
       "\n",
       "                 event_time  n_days_since_last_purchase  \n",
       "0  2024-05-02T05:39:17.172Z                    0.273256  \n",
       "1  2024-05-02T05:39:17.172Z                    0.846899  \n",
       "2  2024-05-02T05:39:17.172Z                    0.408915  \n",
       "3  2024-05-02T05:39:17.172Z                    0.843023  \n",
       "4  2024-05-02T05:39:17.172Z                    0.265504  "
      ]
     },
     "execution_count": 128,
     "metadata": {},
     "output_type": "execute_result"
    }
   ],
   "source": [
    "orders_data.head()"
   ]
  },
  {
   "cell_type": "markdown",
   "id": "e3b586a5-cfcd-4cef-942e-9758196112be",
   "metadata": {
    "execution": {
     "iopub.execute_input": "2025-08-09T18:56:52.573546Z",
     "iopub.status.busy": "2025-08-09T18:56:52.573271Z",
     "iopub.status.idle": "2025-08-09T18:56:52.577091Z",
     "shell.execute_reply": "2025-08-09T18:56:52.576317Z",
     "shell.execute_reply.started": "2025-08-09T18:56:52.573525Z"
    }
   },
   "source": [
    "## Step 5: Create feature group"
   ]
  },
  {
   "cell_type": "code",
   "execution_count": 129,
   "id": "10c502be-ec6b-4f5f-a85d-f875f0f47a8a",
   "metadata": {
    "execution": {
     "iopub.execute_input": "2025-08-09T19:26:55.104290Z",
     "iopub.status.busy": "2025-08-09T19:26:55.104031Z",
     "iopub.status.idle": "2025-08-09T19:26:55.108433Z",
     "shell.execute_reply": "2025-08-09T19:26:55.107732Z",
     "shell.execute_reply.started": "2025-08-09T19:26:55.104270Z"
    }
   },
   "outputs": [
    {
     "name": "stdout",
     "output_type": "stream",
     "text": [
      "Customer Feature Group Name: customers-fg-09-19-26-55\n",
      "Orders Feature Group Name: orders-fg-09-19-26-55\n"
     ]
    }
   ],
   "source": [
    "# Create feature group\n",
    "from time import gmtime, strftime, sleep\n",
    "\n",
    "customers_feature_group_name = \"customers-fg-\"+strftime(\"%d-%H-%M-%S\", gmtime()) \n",
    "orders_feature_group_name = \"orders-fg-\"+strftime(\"%d-%H-%M-%S\", gmtime()) \n",
    "print(f\"Customer Feature Group Name: {customers_feature_group_name}\")\n",
    "print(f\"Orders Feature Group Name: {orders_feature_group_name}\")"
   ]
  },
  {
   "cell_type": "code",
   "execution_count": 130,
   "id": "3a5fffb0-fe46-4a34-b22a-380383140a57",
   "metadata": {
    "execution": {
     "iopub.execute_input": "2025-08-09T19:26:55.109902Z",
     "iopub.status.busy": "2025-08-09T19:26:55.109305Z",
     "iopub.status.idle": "2025-08-09T19:26:55.114178Z",
     "shell.execute_reply": "2025-08-09T19:26:55.113313Z",
     "shell.execute_reply.started": "2025-08-09T19:26:55.109877Z"
    }
   },
   "outputs": [],
   "source": [
    "from sagemaker.feature_store.feature_group import FeatureGroup\n",
    "\n",
    "customers_feature_group = FeatureGroup(name=customers_feature_group_name , \n",
    "                                       sagemaker_session = sagemaker_session)\n",
    "\n",
    "orders_feature_group = FeatureGroup(name=orders_feature_group_name , \n",
    "                                       sagemaker_session = sagemaker_session)"
   ]
  },
  {
   "cell_type": "code",
   "execution_count": 131,
   "id": "dc904b7c-1c2e-4e13-b760-cfee4e0c5bdf",
   "metadata": {
    "execution": {
     "iopub.execute_input": "2025-08-09T19:26:55.115056Z",
     "iopub.status.busy": "2025-08-09T19:26:55.114846Z",
     "iopub.status.idle": "2025-08-09T19:26:55.119689Z",
     "shell.execute_reply": "2025-08-09T19:26:55.118722Z",
     "shell.execute_reply.started": "2025-08-09T19:26:55.115038Z"
    }
   },
   "outputs": [],
   "source": [
    "record_identifier_feature_name = \"customer_id\""
   ]
  },
  {
   "cell_type": "code",
   "execution_count": 132,
   "id": "364aa74c-9d84-48fd-aba4-b8b7e8fb5645",
   "metadata": {
    "execution": {
     "iopub.execute_input": "2025-08-09T19:26:55.120819Z",
     "iopub.status.busy": "2025-08-09T19:26:55.120580Z",
     "iopub.status.idle": "2025-08-09T19:26:55.130596Z",
     "shell.execute_reply": "2025-08-09T19:26:55.129974Z",
     "shell.execute_reply.started": "2025-08-09T19:26:55.120800Z"
    }
   },
   "outputs": [
    {
     "name": "stdout",
     "output_type": "stream",
     "text": [
      "<class 'pandas.core.frame.DataFrame'>\n",
      "RangeIndex: 10000 entries, 0 to 9999\n",
      "Data columns (total 11 columns):\n",
      " #   Column         Non-Null Count  Dtype  \n",
      "---  ------         --------------  -----  \n",
      " 0   customer_id    10000 non-null  object \n",
      " 1   sex            10000 non-null  int64  \n",
      " 2   is_married     10000 non-null  int64  \n",
      " 3   event_time     10000 non-null  object \n",
      " 4   age_18-29      10000 non-null  int64  \n",
      " 5   age_30-39      10000 non-null  int64  \n",
      " 6   age_40-49      10000 non-null  int64  \n",
      " 7   age_50-59      10000 non-null  int64  \n",
      " 8   age_60-69      10000 non-null  int64  \n",
      " 9   age_70-plus    10000 non-null  int64  \n",
      " 10  n_days_active  10000 non-null  float64\n",
      "dtypes: float64(1), int64(8), object(2)\n",
      "memory usage: 859.5+ KB\n"
     ]
    }
   ],
   "source": [
    "customer_data.info()"
   ]
  },
  {
   "cell_type": "code",
   "execution_count": 133,
   "id": "ec1a845c-50a6-4e14-b9e0-cba8615ca97e",
   "metadata": {
    "execution": {
     "iopub.execute_input": "2025-08-09T19:26:55.131678Z",
     "iopub.status.busy": "2025-08-09T19:26:55.131282Z",
     "iopub.status.idle": "2025-08-09T19:26:55.157280Z",
     "shell.execute_reply": "2025-08-09T19:26:55.156580Z",
     "shell.execute_reply.started": "2025-08-09T19:26:55.131657Z"
    }
   },
   "outputs": [
    {
     "name": "stdout",
     "output_type": "stream",
     "text": [
      "<class 'pandas.core.frame.DataFrame'>\n",
      "RangeIndex: 100000 entries, 0 to 99999\n",
      "Data columns (total 7 columns):\n",
      " #   Column                      Non-Null Count   Dtype  \n",
      "---  ------                      --------------   -----  \n",
      " 0   order_id                    100000 non-null  object \n",
      " 1   customer_id                 100000 non-null  object \n",
      " 2   product_id                  100000 non-null  object \n",
      " 3   purchase_amount             100000 non-null  float64\n",
      " 4   is_reordered                100000 non-null  int64  \n",
      " 5   event_time                  100000 non-null  object \n",
      " 6   n_days_since_last_purchase  100000 non-null  float64\n",
      "dtypes: float64(2), int64(1), object(4)\n",
      "memory usage: 5.3+ MB\n"
     ]
    }
   ],
   "source": [
    "orders_data.info()"
   ]
  },
  {
   "cell_type": "code",
   "execution_count": 134,
   "id": "41ec5c33-cb00-4b71-894e-e98a930bdc0b",
   "metadata": {
    "execution": {
     "iopub.execute_input": "2025-08-09T19:26:55.158285Z",
     "iopub.status.busy": "2025-08-09T19:26:55.158020Z",
     "iopub.status.idle": "2025-08-09T19:26:55.163924Z",
     "shell.execute_reply": "2025-08-09T19:26:55.163161Z",
     "shell.execute_reply.started": "2025-08-09T19:26:55.158265Z"
    }
   },
   "outputs": [
    {
     "data": {
      "text/plain": [
       "[FeatureDefinition(feature_name='customer_id', feature_type=<FeatureTypeEnum.STRING: 'String'>, collection_type=None),\n",
       " FeatureDefinition(feature_name='sex', feature_type=<FeatureTypeEnum.INTEGRAL: 'Integral'>, collection_type=None),\n",
       " FeatureDefinition(feature_name='is_married', feature_type=<FeatureTypeEnum.INTEGRAL: 'Integral'>, collection_type=None),\n",
       " FeatureDefinition(feature_name='event_time', feature_type=<FeatureTypeEnum.STRING: 'String'>, collection_type=None),\n",
       " FeatureDefinition(feature_name='age_18-29', feature_type=<FeatureTypeEnum.INTEGRAL: 'Integral'>, collection_type=None),\n",
       " FeatureDefinition(feature_name='age_30-39', feature_type=<FeatureTypeEnum.INTEGRAL: 'Integral'>, collection_type=None),\n",
       " FeatureDefinition(feature_name='age_40-49', feature_type=<FeatureTypeEnum.INTEGRAL: 'Integral'>, collection_type=None),\n",
       " FeatureDefinition(feature_name='age_50-59', feature_type=<FeatureTypeEnum.INTEGRAL: 'Integral'>, collection_type=None),\n",
       " FeatureDefinition(feature_name='age_60-69', feature_type=<FeatureTypeEnum.INTEGRAL: 'Integral'>, collection_type=None),\n",
       " FeatureDefinition(feature_name='age_70-plus', feature_type=<FeatureTypeEnum.INTEGRAL: 'Integral'>, collection_type=None),\n",
       " FeatureDefinition(feature_name='n_days_active', feature_type=<FeatureTypeEnum.FRACTIONAL: 'Fractional'>, collection_type=None)]"
      ]
     },
     "execution_count": 134,
     "metadata": {},
     "output_type": "execute_result"
    }
   ],
   "source": [
    "# Load Customer Feature definitions\n",
    "customers_feature_group.load_feature_definitions(data_frame = customer_data)"
   ]
  },
  {
   "cell_type": "code",
   "execution_count": 135,
   "id": "46d3d2fc-30c9-43f2-b80f-bb03f413649c",
   "metadata": {
    "execution": {
     "iopub.execute_input": "2025-08-09T19:26:55.164946Z",
     "iopub.status.busy": "2025-08-09T19:26:55.164718Z",
     "iopub.status.idle": "2025-08-09T19:26:55.170529Z",
     "shell.execute_reply": "2025-08-09T19:26:55.169777Z",
     "shell.execute_reply.started": "2025-08-09T19:26:55.164928Z"
    }
   },
   "outputs": [
    {
     "data": {
      "text/plain": [
       "[FeatureDefinition(feature_name='order_id', feature_type=<FeatureTypeEnum.STRING: 'String'>, collection_type=None),\n",
       " FeatureDefinition(feature_name='customer_id', feature_type=<FeatureTypeEnum.STRING: 'String'>, collection_type=None),\n",
       " FeatureDefinition(feature_name='product_id', feature_type=<FeatureTypeEnum.STRING: 'String'>, collection_type=None),\n",
       " FeatureDefinition(feature_name='purchase_amount', feature_type=<FeatureTypeEnum.FRACTIONAL: 'Fractional'>, collection_type=None),\n",
       " FeatureDefinition(feature_name='is_reordered', feature_type=<FeatureTypeEnum.INTEGRAL: 'Integral'>, collection_type=None),\n",
       " FeatureDefinition(feature_name='event_time', feature_type=<FeatureTypeEnum.STRING: 'String'>, collection_type=None),\n",
       " FeatureDefinition(feature_name='n_days_since_last_purchase', feature_type=<FeatureTypeEnum.FRACTIONAL: 'Fractional'>, collection_type=None)]"
      ]
     },
     "execution_count": 135,
     "metadata": {},
     "output_type": "execute_result"
    }
   ],
   "source": [
    "# Load Order Feature definitions\n",
    "orders_feature_group.load_feature_definitions(data_frame = orders_data)"
   ]
  },
  {
   "cell_type": "code",
   "execution_count": 136,
   "id": "905e8674-977c-4fed-a501-1cdfd414f301",
   "metadata": {
    "execution": {
     "iopub.execute_input": "2025-08-09T19:26:55.171545Z",
     "iopub.status.busy": "2025-08-09T19:26:55.171316Z",
     "iopub.status.idle": "2025-08-09T19:26:55.875422Z",
     "shell.execute_reply": "2025-08-09T19:26:55.874783Z",
     "shell.execute_reply.started": "2025-08-09T19:26:55.171526Z"
    }
   },
   "outputs": [
    {
     "data": {
      "text/plain": [
       "{'FeatureGroupArn': 'arn:aws:sagemaker:us-east-1:590183953604:feature-group/customers-fg-09-19-26-55',\n",
       " 'ResponseMetadata': {'RequestId': 'cba1131c-295a-4edd-85ca-d8af773e6dd9',\n",
       "  'HTTPStatusCode': 200,\n",
       "  'HTTPHeaders': {'x-amzn-requestid': 'cba1131c-295a-4edd-85ca-d8af773e6dd9',\n",
       "   'content-type': 'application/x-amz-json-1.1',\n",
       "   'content-length': '101',\n",
       "   'date': 'Sat, 09 Aug 2025 19:26:55 GMT'},\n",
       "  'RetryAttempts': 0}}"
      ]
     },
     "execution_count": 136,
     "metadata": {},
     "output_type": "execute_result"
    }
   ],
   "source": [
    "customers_feature_group.create(s3_uri = f\"s3://{s3_bucket_name}/{prefix}\",\n",
    "                               record_identifier_name=record_identifier_feature_name, event_time_feature_name=\"event_time\",\n",
    "                               role_arn=role,\n",
    "                               enable_online_store=True)"
   ]
  },
  {
   "cell_type": "code",
   "execution_count": null,
   "id": "d111f16d-983f-46e3-bb3b-7cb29104abce",
   "metadata": {},
   "outputs": [],
   "source": []
  }
 ],
 "metadata": {
  "kernelspec": {
   "display_name": "Python 3 (ipykernel)",
   "language": "python",
   "name": "python3"
  },
  "language_info": {
   "codemirror_mode": {
    "name": "ipython",
    "version": 3
   },
   "file_extension": ".py",
   "mimetype": "text/x-python",
   "name": "python",
   "nbconvert_exporter": "python",
   "pygments_lexer": "ipython3",
   "version": "3.12.9"
  }
 },
 "nbformat": 4,
 "nbformat_minor": 5
}
