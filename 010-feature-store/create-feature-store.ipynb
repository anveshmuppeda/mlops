{
 "cells": [
  {
   "cell_type": "markdown",
   "id": "4a626e46-c0cc-4de1-9fbf-c52ec33a9eac",
   "metadata": {},
   "source": [
    "# Amazon SageMaker Feature Store Demo\n",
    "## Complete Guide: Data Transformation, Feature Store Creation, and Data Ingestion\n",
    "\n",
    "This comprehensive demo shows how to:\n",
    "1. Transform raw customer and order data for ML use cases\n",
    "2. Create feature groups in Amazon SageMaker Feature Store\n",
    "3. Add metadata and descriptions to features\n",
    "4. Ingest data into the feature store (both online and offline stores)\n",
    "5. Validate and retrieve data from the feature store\n",
    "\n",
    "Prerequisites:\n",
    "- AWS account with SageMaker permissions\n",
    "- SageMaker notebook instance or SageMaker Studio\n",
    "- Raw CSV files: customers.csv and orders.csv"
   ]
  },
  {
   "cell_type": "markdown",
   "id": "f91770f9-96d3-44ec-b3ac-976b52bcb8c2",
   "metadata": {
    "jp-MarkdownHeadingCollapsed": true
   },
   "source": [
    "## Step 1: Transform Customers Data"
   ]
  },
  {
   "cell_type": "code",
   "execution_count": 151,
   "id": "55446b5f-4e13-40a8-ad76-f2d09823c2d7",
   "metadata": {
    "execution": {
     "iopub.execute_input": "2025-08-09T20:00:50.711528Z",
     "iopub.status.busy": "2025-08-09T20:00:50.711115Z",
     "iopub.status.idle": "2025-08-09T20:00:50.715420Z",
     "shell.execute_reply": "2025-08-09T20:00:50.714664Z",
     "shell.execute_reply.started": "2025-08-09T20:00:50.711503Z"
    }
   },
   "outputs": [],
   "source": [
    "import pandas as pd\n",
    "from sklearn.preprocessing import  LabelEncoder,MinMaxScaler\n",
    "from datetime import datetime,date,timezone"
   ]
  },
  {
   "cell_type": "code",
   "execution_count": 152,
   "id": "99dff352-c93c-4600-91fb-1e2643c1e958",
   "metadata": {
    "execution": {
     "iopub.execute_input": "2025-08-09T20:00:50.716886Z",
     "iopub.status.busy": "2025-08-09T20:00:50.716654Z",
     "iopub.status.idle": "2025-08-09T20:00:50.745790Z",
     "shell.execute_reply": "2025-08-09T20:00:50.745068Z",
     "shell.execute_reply.started": "2025-08-09T20:00:50.716867Z"
    }
   },
   "outputs": [],
   "source": [
    "customers_df = pd.read_csv(\"raw/customers.csv\")"
   ]
  },
  {
   "cell_type": "code",
   "execution_count": 153,
   "id": "b21452e9-6819-4772-be2a-5b3bd197c697",
   "metadata": {
    "execution": {
     "iopub.execute_input": "2025-08-09T20:00:50.747296Z",
     "iopub.status.busy": "2025-08-09T20:00:50.746779Z",
     "iopub.status.idle": "2025-08-09T20:00:50.757416Z",
     "shell.execute_reply": "2025-08-09T20:00:50.756701Z",
     "shell.execute_reply.started": "2025-08-09T20:00:50.747272Z"
    }
   },
   "outputs": [
    {
     "data": {
      "text/html": [
       "<div>\n",
       "<style scoped>\n",
       "    .dataframe tbody tr th:only-of-type {\n",
       "        vertical-align: middle;\n",
       "    }\n",
       "\n",
       "    .dataframe tbody tr th {\n",
       "        vertical-align: top;\n",
       "    }\n",
       "\n",
       "    .dataframe thead th {\n",
       "        text-align: right;\n",
       "    }\n",
       "</style>\n",
       "<table border=\"1\" class=\"dataframe\">\n",
       "  <thead>\n",
       "    <tr style=\"text-align: right;\">\n",
       "      <th></th>\n",
       "      <th>Unnamed: 0</th>\n",
       "      <th>customer_id</th>\n",
       "      <th>name</th>\n",
       "      <th>sex</th>\n",
       "      <th>state</th>\n",
       "      <th>age</th>\n",
       "      <th>is_married</th>\n",
       "      <th>active_since</th>\n",
       "      <th>event_time</th>\n",
       "    </tr>\n",
       "  </thead>\n",
       "  <tbody>\n",
       "    <tr>\n",
       "      <th>0</th>\n",
       "      <td>0</td>\n",
       "      <td>C1</td>\n",
       "      <td>brooke williams</td>\n",
       "      <td>F</td>\n",
       "      <td>alabama</td>\n",
       "      <td>76</td>\n",
       "      <td>True</td>\n",
       "      <td>2019-03-09 14:43:26</td>\n",
       "      <td>2024-05-02T05:39:10.965Z</td>\n",
       "    </tr>\n",
       "    <tr>\n",
       "      <th>1</th>\n",
       "      <td>1</td>\n",
       "      <td>C2</td>\n",
       "      <td>jim reese</td>\n",
       "      <td>M</td>\n",
       "      <td>oregon</td>\n",
       "      <td>76</td>\n",
       "      <td>True</td>\n",
       "      <td>2016-07-24 05:21:59</td>\n",
       "      <td>2024-05-02T05:39:10.966Z</td>\n",
       "    </tr>\n",
       "    <tr>\n",
       "      <th>2</th>\n",
       "      <td>2</td>\n",
       "      <td>C3</td>\n",
       "      <td>adam walker phd</td>\n",
       "      <td>M</td>\n",
       "      <td>north dakota</td>\n",
       "      <td>40</td>\n",
       "      <td>True</td>\n",
       "      <td>2017-11-21 01:14:51</td>\n",
       "      <td>2024-05-02T05:39:10.967Z</td>\n",
       "    </tr>\n",
       "    <tr>\n",
       "      <th>3</th>\n",
       "      <td>3</td>\n",
       "      <td>C4</td>\n",
       "      <td>nathan roberts</td>\n",
       "      <td>M</td>\n",
       "      <td>louisiana</td>\n",
       "      <td>68</td>\n",
       "      <td>False</td>\n",
       "      <td>2016-11-16 04:44:55</td>\n",
       "      <td>2024-05-02T05:39:10.967Z</td>\n",
       "    </tr>\n",
       "    <tr>\n",
       "      <th>4</th>\n",
       "      <td>4</td>\n",
       "      <td>C5</td>\n",
       "      <td>richard adkins</td>\n",
       "      <td>M</td>\n",
       "      <td>idaho</td>\n",
       "      <td>62</td>\n",
       "      <td>False</td>\n",
       "      <td>2017-03-27 21:09:31</td>\n",
       "      <td>2024-05-02T05:39:10.968Z</td>\n",
       "    </tr>\n",
       "  </tbody>\n",
       "</table>\n",
       "</div>"
      ],
      "text/plain": [
       "   Unnamed: 0 customer_id             name sex         state  age  is_married  \\\n",
       "0           0          C1  brooke williams   F       alabama   76        True   \n",
       "1           1          C2        jim reese   M        oregon   76        True   \n",
       "2           2          C3  adam walker phd   M  north dakota   40        True   \n",
       "3           3          C4   nathan roberts   M     louisiana   68       False   \n",
       "4           4          C5   richard adkins   M         idaho   62       False   \n",
       "\n",
       "          active_since                event_time  \n",
       "0  2019-03-09 14:43:26  2024-05-02T05:39:10.965Z  \n",
       "1  2016-07-24 05:21:59  2024-05-02T05:39:10.966Z  \n",
       "2  2017-11-21 01:14:51  2024-05-02T05:39:10.967Z  \n",
       "3  2016-11-16 04:44:55  2024-05-02T05:39:10.967Z  \n",
       "4  2017-03-27 21:09:31  2024-05-02T05:39:10.968Z  "
      ]
     },
     "execution_count": 153,
     "metadata": {},
     "output_type": "execute_result"
    }
   ],
   "source": [
    "customers_df.head()"
   ]
  },
  {
   "cell_type": "code",
   "execution_count": 154,
   "id": "8dcc6372-9a97-4e06-999c-47e0e6e197b0",
   "metadata": {
    "execution": {
     "iopub.execute_input": "2025-08-09T20:00:50.758545Z",
     "iopub.status.busy": "2025-08-09T20:00:50.758317Z",
     "iopub.status.idle": "2025-08-09T20:00:50.761954Z",
     "shell.execute_reply": "2025-08-09T20:00:50.761295Z",
     "shell.execute_reply.started": "2025-08-09T20:00:50.758525Z"
    }
   },
   "outputs": [],
   "source": [
    "label_encoder = LabelEncoder()\n",
    "min_max_scaler = MinMaxScaler()"
   ]
  },
  {
   "cell_type": "code",
   "execution_count": 155,
   "id": "28f6bbf9-52cf-4bc4-b962-21c14326ac73",
   "metadata": {
    "execution": {
     "iopub.execute_input": "2025-08-09T20:00:50.763761Z",
     "iopub.status.busy": "2025-08-09T20:00:50.763209Z",
     "iopub.status.idle": "2025-08-09T20:00:50.768501Z",
     "shell.execute_reply": "2025-08-09T20:00:50.767818Z",
     "shell.execute_reply.started": "2025-08-09T20:00:50.763736Z"
    }
   },
   "outputs": [],
   "source": [
    "customers_df.drop(columns = ['name','state'], inplace=True)"
   ]
  },
  {
   "cell_type": "code",
   "execution_count": 156,
   "id": "54dab15e-23d5-41f6-9027-a482dafc2238",
   "metadata": {
    "execution": {
     "iopub.execute_input": "2025-08-09T20:00:50.769600Z",
     "iopub.status.busy": "2025-08-09T20:00:50.769381Z",
     "iopub.status.idle": "2025-08-09T20:00:50.781301Z",
     "shell.execute_reply": "2025-08-09T20:00:50.780704Z",
     "shell.execute_reply.started": "2025-08-09T20:00:50.769581Z"
    }
   },
   "outputs": [
    {
     "name": "stdout",
     "output_type": "stream",
     "text": [
      "<class 'pandas.core.frame.DataFrame'>\n",
      "RangeIndex: 10000 entries, 0 to 9999\n",
      "Data columns (total 7 columns):\n",
      " #   Column        Non-Null Count  Dtype \n",
      "---  ------        --------------  ----- \n",
      " 0   Unnamed: 0    10000 non-null  int64 \n",
      " 1   customer_id   10000 non-null  object\n",
      " 2   sex           10000 non-null  object\n",
      " 3   age           10000 non-null  int64 \n",
      " 4   is_married    10000 non-null  bool  \n",
      " 5   active_since  10000 non-null  object\n",
      " 6   event_time    10000 non-null  object\n",
      "dtypes: bool(1), int64(2), object(4)\n",
      "memory usage: 478.6+ KB\n"
     ]
    }
   ],
   "source": [
    "customers_df.info()"
   ]
  },
  {
   "cell_type": "code",
   "execution_count": 157,
   "id": "719dbacc-7ded-4f28-81fa-e85460961572",
   "metadata": {
    "execution": {
     "iopub.execute_input": "2025-08-09T20:00:50.782241Z",
     "iopub.status.busy": "2025-08-09T20:00:50.782026Z",
     "iopub.status.idle": "2025-08-09T20:00:50.788716Z",
     "shell.execute_reply": "2025-08-09T20:00:50.788067Z",
     "shell.execute_reply.started": "2025-08-09T20:00:50.782221Z"
    }
   },
   "outputs": [],
   "source": [
    "bins = [18, 30, 40, 50, 60, 70, 90]\n",
    "labels = ['18-29', '30-39', '40-49', '50-59', '60-69', '70-plus']\n",
    "customers_df['age_range'] = pd.cut(customers_df['age'], bins, labels=labels, include_lowest=True)"
   ]
  },
  {
   "cell_type": "code",
   "execution_count": 158,
   "id": "18b5d304-ba1e-46ec-b603-3537f1bd2b87",
   "metadata": {
    "execution": {
     "iopub.execute_input": "2025-08-09T20:00:50.789748Z",
     "iopub.status.busy": "2025-08-09T20:00:50.789519Z",
     "iopub.status.idle": "2025-08-09T20:00:50.802910Z",
     "shell.execute_reply": "2025-08-09T20:00:50.802258Z",
     "shell.execute_reply.started": "2025-08-09T20:00:50.789729Z"
    }
   },
   "outputs": [
    {
     "data": {
      "text/html": [
       "<div>\n",
       "<style scoped>\n",
       "    .dataframe tbody tr th:only-of-type {\n",
       "        vertical-align: middle;\n",
       "    }\n",
       "\n",
       "    .dataframe tbody tr th {\n",
       "        vertical-align: top;\n",
       "    }\n",
       "\n",
       "    .dataframe thead th {\n",
       "        text-align: right;\n",
       "    }\n",
       "</style>\n",
       "<table border=\"1\" class=\"dataframe\">\n",
       "  <thead>\n",
       "    <tr style=\"text-align: right;\">\n",
       "      <th></th>\n",
       "      <th>Unnamed: 0</th>\n",
       "      <th>customer_id</th>\n",
       "      <th>sex</th>\n",
       "      <th>age</th>\n",
       "      <th>is_married</th>\n",
       "      <th>active_since</th>\n",
       "      <th>event_time</th>\n",
       "      <th>age_range</th>\n",
       "    </tr>\n",
       "  </thead>\n",
       "  <tbody>\n",
       "    <tr>\n",
       "      <th>0</th>\n",
       "      <td>0</td>\n",
       "      <td>C1</td>\n",
       "      <td>F</td>\n",
       "      <td>76</td>\n",
       "      <td>True</td>\n",
       "      <td>2019-03-09 14:43:26</td>\n",
       "      <td>2024-05-02T05:39:10.965Z</td>\n",
       "      <td>70-plus</td>\n",
       "    </tr>\n",
       "    <tr>\n",
       "      <th>1</th>\n",
       "      <td>1</td>\n",
       "      <td>C2</td>\n",
       "      <td>M</td>\n",
       "      <td>76</td>\n",
       "      <td>True</td>\n",
       "      <td>2016-07-24 05:21:59</td>\n",
       "      <td>2024-05-02T05:39:10.966Z</td>\n",
       "      <td>70-plus</td>\n",
       "    </tr>\n",
       "    <tr>\n",
       "      <th>2</th>\n",
       "      <td>2</td>\n",
       "      <td>C3</td>\n",
       "      <td>M</td>\n",
       "      <td>40</td>\n",
       "      <td>True</td>\n",
       "      <td>2017-11-21 01:14:51</td>\n",
       "      <td>2024-05-02T05:39:10.967Z</td>\n",
       "      <td>30-39</td>\n",
       "    </tr>\n",
       "    <tr>\n",
       "      <th>3</th>\n",
       "      <td>3</td>\n",
       "      <td>C4</td>\n",
       "      <td>M</td>\n",
       "      <td>68</td>\n",
       "      <td>False</td>\n",
       "      <td>2016-11-16 04:44:55</td>\n",
       "      <td>2024-05-02T05:39:10.967Z</td>\n",
       "      <td>60-69</td>\n",
       "    </tr>\n",
       "    <tr>\n",
       "      <th>4</th>\n",
       "      <td>4</td>\n",
       "      <td>C5</td>\n",
       "      <td>M</td>\n",
       "      <td>62</td>\n",
       "      <td>False</td>\n",
       "      <td>2017-03-27 21:09:31</td>\n",
       "      <td>2024-05-02T05:39:10.968Z</td>\n",
       "      <td>60-69</td>\n",
       "    </tr>\n",
       "  </tbody>\n",
       "</table>\n",
       "</div>"
      ],
      "text/plain": [
       "   Unnamed: 0 customer_id sex  age  is_married         active_since  \\\n",
       "0           0          C1   F   76        True  2019-03-09 14:43:26   \n",
       "1           1          C2   M   76        True  2016-07-24 05:21:59   \n",
       "2           2          C3   M   40        True  2017-11-21 01:14:51   \n",
       "3           3          C4   M   68       False  2016-11-16 04:44:55   \n",
       "4           4          C5   M   62       False  2017-03-27 21:09:31   \n",
       "\n",
       "                 event_time age_range  \n",
       "0  2024-05-02T05:39:10.965Z   70-plus  \n",
       "1  2024-05-02T05:39:10.966Z   70-plus  \n",
       "2  2024-05-02T05:39:10.967Z     30-39  \n",
       "3  2024-05-02T05:39:10.967Z     60-69  \n",
       "4  2024-05-02T05:39:10.968Z     60-69  "
      ]
     },
     "execution_count": 158,
     "metadata": {},
     "output_type": "execute_result"
    }
   ],
   "source": [
    "customers_df.head()"
   ]
  },
  {
   "cell_type": "code",
   "execution_count": 159,
   "id": "aceee52d-8642-4501-95a3-8babb19c0d12",
   "metadata": {
    "execution": {
     "iopub.execute_input": "2025-08-09T20:00:50.804089Z",
     "iopub.status.busy": "2025-08-09T20:00:50.803675Z",
     "iopub.status.idle": "2025-08-09T20:00:50.808600Z",
     "shell.execute_reply": "2025-08-09T20:00:50.807957Z",
     "shell.execute_reply.started": "2025-08-09T20:00:50.804068Z"
    }
   },
   "outputs": [],
   "source": [
    "df_age_group = pd.get_dummies(customers_df['age_range'],prefix=\"age\", dtype='int')"
   ]
  },
  {
   "cell_type": "code",
   "execution_count": 160,
   "id": "db648784-b713-49bc-91d6-57bdf034331a",
   "metadata": {
    "execution": {
     "iopub.execute_input": "2025-08-09T20:00:50.809747Z",
     "iopub.status.busy": "2025-08-09T20:00:50.809331Z",
     "iopub.status.idle": "2025-08-09T20:00:50.817710Z",
     "shell.execute_reply": "2025-08-09T20:00:50.817038Z",
     "shell.execute_reply.started": "2025-08-09T20:00:50.809716Z"
    }
   },
   "outputs": [
    {
     "data": {
      "text/html": [
       "<div>\n",
       "<style scoped>\n",
       "    .dataframe tbody tr th:only-of-type {\n",
       "        vertical-align: middle;\n",
       "    }\n",
       "\n",
       "    .dataframe tbody tr th {\n",
       "        vertical-align: top;\n",
       "    }\n",
       "\n",
       "    .dataframe thead th {\n",
       "        text-align: right;\n",
       "    }\n",
       "</style>\n",
       "<table border=\"1\" class=\"dataframe\">\n",
       "  <thead>\n",
       "    <tr style=\"text-align: right;\">\n",
       "      <th></th>\n",
       "      <th>age_18-29</th>\n",
       "      <th>age_30-39</th>\n",
       "      <th>age_40-49</th>\n",
       "      <th>age_50-59</th>\n",
       "      <th>age_60-69</th>\n",
       "      <th>age_70-plus</th>\n",
       "    </tr>\n",
       "  </thead>\n",
       "  <tbody>\n",
       "    <tr>\n",
       "      <th>0</th>\n",
       "      <td>0</td>\n",
       "      <td>0</td>\n",
       "      <td>0</td>\n",
       "      <td>0</td>\n",
       "      <td>0</td>\n",
       "      <td>1</td>\n",
       "    </tr>\n",
       "    <tr>\n",
       "      <th>1</th>\n",
       "      <td>0</td>\n",
       "      <td>0</td>\n",
       "      <td>0</td>\n",
       "      <td>0</td>\n",
       "      <td>0</td>\n",
       "      <td>1</td>\n",
       "    </tr>\n",
       "    <tr>\n",
       "      <th>2</th>\n",
       "      <td>0</td>\n",
       "      <td>1</td>\n",
       "      <td>0</td>\n",
       "      <td>0</td>\n",
       "      <td>0</td>\n",
       "      <td>0</td>\n",
       "    </tr>\n",
       "    <tr>\n",
       "      <th>3</th>\n",
       "      <td>0</td>\n",
       "      <td>0</td>\n",
       "      <td>0</td>\n",
       "      <td>0</td>\n",
       "      <td>1</td>\n",
       "      <td>0</td>\n",
       "    </tr>\n",
       "    <tr>\n",
       "      <th>4</th>\n",
       "      <td>0</td>\n",
       "      <td>0</td>\n",
       "      <td>0</td>\n",
       "      <td>0</td>\n",
       "      <td>1</td>\n",
       "      <td>0</td>\n",
       "    </tr>\n",
       "  </tbody>\n",
       "</table>\n",
       "</div>"
      ],
      "text/plain": [
       "   age_18-29  age_30-39  age_40-49  age_50-59  age_60-69  age_70-plus\n",
       "0          0          0          0          0          0            1\n",
       "1          0          0          0          0          0            1\n",
       "2          0          1          0          0          0            0\n",
       "3          0          0          0          0          1            0\n",
       "4          0          0          0          0          1            0"
      ]
     },
     "execution_count": 160,
     "metadata": {},
     "output_type": "execute_result"
    }
   ],
   "source": [
    "df_age_group.head()"
   ]
  },
  {
   "cell_type": "code",
   "execution_count": 161,
   "id": "ca27ce58-ce72-49ea-aa97-ab4c5717e706",
   "metadata": {
    "execution": {
     "iopub.execute_input": "2025-08-09T20:00:50.821015Z",
     "iopub.status.busy": "2025-08-09T20:00:50.820539Z",
     "iopub.status.idle": "2025-08-09T20:00:50.833859Z",
     "shell.execute_reply": "2025-08-09T20:00:50.833180Z",
     "shell.execute_reply.started": "2025-08-09T20:00:50.820989Z"
    }
   },
   "outputs": [
    {
     "data": {
      "text/html": [
       "<div>\n",
       "<style scoped>\n",
       "    .dataframe tbody tr th:only-of-type {\n",
       "        vertical-align: middle;\n",
       "    }\n",
       "\n",
       "    .dataframe tbody tr th {\n",
       "        vertical-align: top;\n",
       "    }\n",
       "\n",
       "    .dataframe thead th {\n",
       "        text-align: right;\n",
       "    }\n",
       "</style>\n",
       "<table border=\"1\" class=\"dataframe\">\n",
       "  <thead>\n",
       "    <tr style=\"text-align: right;\">\n",
       "      <th></th>\n",
       "      <th>Unnamed: 0</th>\n",
       "      <th>customer_id</th>\n",
       "      <th>sex</th>\n",
       "      <th>age</th>\n",
       "      <th>is_married</th>\n",
       "      <th>active_since</th>\n",
       "      <th>event_time</th>\n",
       "      <th>age_range</th>\n",
       "      <th>age_18-29</th>\n",
       "      <th>age_30-39</th>\n",
       "      <th>age_40-49</th>\n",
       "      <th>age_50-59</th>\n",
       "      <th>age_60-69</th>\n",
       "      <th>age_70-plus</th>\n",
       "    </tr>\n",
       "  </thead>\n",
       "  <tbody>\n",
       "    <tr>\n",
       "      <th>0</th>\n",
       "      <td>0</td>\n",
       "      <td>C1</td>\n",
       "      <td>F</td>\n",
       "      <td>76</td>\n",
       "      <td>True</td>\n",
       "      <td>2019-03-09 14:43:26</td>\n",
       "      <td>2024-05-02T05:39:10.965Z</td>\n",
       "      <td>70-plus</td>\n",
       "      <td>0</td>\n",
       "      <td>0</td>\n",
       "      <td>0</td>\n",
       "      <td>0</td>\n",
       "      <td>0</td>\n",
       "      <td>1</td>\n",
       "    </tr>\n",
       "    <tr>\n",
       "      <th>1</th>\n",
       "      <td>1</td>\n",
       "      <td>C2</td>\n",
       "      <td>M</td>\n",
       "      <td>76</td>\n",
       "      <td>True</td>\n",
       "      <td>2016-07-24 05:21:59</td>\n",
       "      <td>2024-05-02T05:39:10.966Z</td>\n",
       "      <td>70-plus</td>\n",
       "      <td>0</td>\n",
       "      <td>0</td>\n",
       "      <td>0</td>\n",
       "      <td>0</td>\n",
       "      <td>0</td>\n",
       "      <td>1</td>\n",
       "    </tr>\n",
       "    <tr>\n",
       "      <th>2</th>\n",
       "      <td>2</td>\n",
       "      <td>C3</td>\n",
       "      <td>M</td>\n",
       "      <td>40</td>\n",
       "      <td>True</td>\n",
       "      <td>2017-11-21 01:14:51</td>\n",
       "      <td>2024-05-02T05:39:10.967Z</td>\n",
       "      <td>30-39</td>\n",
       "      <td>0</td>\n",
       "      <td>1</td>\n",
       "      <td>0</td>\n",
       "      <td>0</td>\n",
       "      <td>0</td>\n",
       "      <td>0</td>\n",
       "    </tr>\n",
       "    <tr>\n",
       "      <th>3</th>\n",
       "      <td>3</td>\n",
       "      <td>C4</td>\n",
       "      <td>M</td>\n",
       "      <td>68</td>\n",
       "      <td>False</td>\n",
       "      <td>2016-11-16 04:44:55</td>\n",
       "      <td>2024-05-02T05:39:10.967Z</td>\n",
       "      <td>60-69</td>\n",
       "      <td>0</td>\n",
       "      <td>0</td>\n",
       "      <td>0</td>\n",
       "      <td>0</td>\n",
       "      <td>1</td>\n",
       "      <td>0</td>\n",
       "    </tr>\n",
       "    <tr>\n",
       "      <th>4</th>\n",
       "      <td>4</td>\n",
       "      <td>C5</td>\n",
       "      <td>M</td>\n",
       "      <td>62</td>\n",
       "      <td>False</td>\n",
       "      <td>2017-03-27 21:09:31</td>\n",
       "      <td>2024-05-02T05:39:10.968Z</td>\n",
       "      <td>60-69</td>\n",
       "      <td>0</td>\n",
       "      <td>0</td>\n",
       "      <td>0</td>\n",
       "      <td>0</td>\n",
       "      <td>1</td>\n",
       "      <td>0</td>\n",
       "    </tr>\n",
       "  </tbody>\n",
       "</table>\n",
       "</div>"
      ],
      "text/plain": [
       "   Unnamed: 0 customer_id sex  age  is_married         active_since  \\\n",
       "0           0          C1   F   76        True  2019-03-09 14:43:26   \n",
       "1           1          C2   M   76        True  2016-07-24 05:21:59   \n",
       "2           2          C3   M   40        True  2017-11-21 01:14:51   \n",
       "3           3          C4   M   68       False  2016-11-16 04:44:55   \n",
       "4           4          C5   M   62       False  2017-03-27 21:09:31   \n",
       "\n",
       "                 event_time age_range  age_18-29  age_30-39  age_40-49  \\\n",
       "0  2024-05-02T05:39:10.965Z   70-plus          0          0          0   \n",
       "1  2024-05-02T05:39:10.966Z   70-plus          0          0          0   \n",
       "2  2024-05-02T05:39:10.967Z     30-39          0          1          0   \n",
       "3  2024-05-02T05:39:10.967Z     60-69          0          0          0   \n",
       "4  2024-05-02T05:39:10.968Z     60-69          0          0          0   \n",
       "\n",
       "   age_50-59  age_60-69  age_70-plus  \n",
       "0          0          0            1  \n",
       "1          0          0            1  \n",
       "2          0          0            0  \n",
       "3          0          1            0  \n",
       "4          0          1            0  "
      ]
     },
     "execution_count": 161,
     "metadata": {},
     "output_type": "execute_result"
    }
   ],
   "source": [
    "customers_df = pd.concat([customers_df,df_age_group],axis=1)\n",
    "customers_df.head()"
   ]
  },
  {
   "cell_type": "code",
   "execution_count": 162,
   "id": "bb72e3ee-e433-4176-b6c4-d76948823356",
   "metadata": {
    "execution": {
     "iopub.execute_input": "2025-08-09T20:00:50.834749Z",
     "iopub.status.busy": "2025-08-09T20:00:50.834533Z",
     "iopub.status.idle": "2025-08-09T20:00:50.839796Z",
     "shell.execute_reply": "2025-08-09T20:00:50.839111Z",
     "shell.execute_reply.started": "2025-08-09T20:00:50.834730Z"
    }
   },
   "outputs": [],
   "source": [
    "customers_df.drop(columns=['age','age_range'], inplace=True)"
   ]
  },
  {
   "cell_type": "code",
   "execution_count": 163,
   "id": "6bd06ad1-8b46-4ee2-9073-5b870044a8fb",
   "metadata": {
    "execution": {
     "iopub.execute_input": "2025-08-09T20:00:50.841085Z",
     "iopub.status.busy": "2025-08-09T20:00:50.840764Z",
     "iopub.status.idle": "2025-08-09T20:00:50.851443Z",
     "shell.execute_reply": "2025-08-09T20:00:50.850732Z",
     "shell.execute_reply.started": "2025-08-09T20:00:50.841064Z"
    }
   },
   "outputs": [
    {
     "data": {
      "text/html": [
       "<div>\n",
       "<style scoped>\n",
       "    .dataframe tbody tr th:only-of-type {\n",
       "        vertical-align: middle;\n",
       "    }\n",
       "\n",
       "    .dataframe tbody tr th {\n",
       "        vertical-align: top;\n",
       "    }\n",
       "\n",
       "    .dataframe thead th {\n",
       "        text-align: right;\n",
       "    }\n",
       "</style>\n",
       "<table border=\"1\" class=\"dataframe\">\n",
       "  <thead>\n",
       "    <tr style=\"text-align: right;\">\n",
       "      <th></th>\n",
       "      <th>Unnamed: 0</th>\n",
       "      <th>customer_id</th>\n",
       "      <th>sex</th>\n",
       "      <th>is_married</th>\n",
       "      <th>active_since</th>\n",
       "      <th>event_time</th>\n",
       "      <th>age_18-29</th>\n",
       "      <th>age_30-39</th>\n",
       "      <th>age_40-49</th>\n",
       "      <th>age_50-59</th>\n",
       "      <th>age_60-69</th>\n",
       "      <th>age_70-plus</th>\n",
       "    </tr>\n",
       "  </thead>\n",
       "  <tbody>\n",
       "    <tr>\n",
       "      <th>0</th>\n",
       "      <td>0</td>\n",
       "      <td>C1</td>\n",
       "      <td>F</td>\n",
       "      <td>True</td>\n",
       "      <td>2019-03-09 14:43:26</td>\n",
       "      <td>2024-05-02T05:39:10.965Z</td>\n",
       "      <td>0</td>\n",
       "      <td>0</td>\n",
       "      <td>0</td>\n",
       "      <td>0</td>\n",
       "      <td>0</td>\n",
       "      <td>1</td>\n",
       "    </tr>\n",
       "    <tr>\n",
       "      <th>1</th>\n",
       "      <td>1</td>\n",
       "      <td>C2</td>\n",
       "      <td>M</td>\n",
       "      <td>True</td>\n",
       "      <td>2016-07-24 05:21:59</td>\n",
       "      <td>2024-05-02T05:39:10.966Z</td>\n",
       "      <td>0</td>\n",
       "      <td>0</td>\n",
       "      <td>0</td>\n",
       "      <td>0</td>\n",
       "      <td>0</td>\n",
       "      <td>1</td>\n",
       "    </tr>\n",
       "    <tr>\n",
       "      <th>2</th>\n",
       "      <td>2</td>\n",
       "      <td>C3</td>\n",
       "      <td>M</td>\n",
       "      <td>True</td>\n",
       "      <td>2017-11-21 01:14:51</td>\n",
       "      <td>2024-05-02T05:39:10.967Z</td>\n",
       "      <td>0</td>\n",
       "      <td>1</td>\n",
       "      <td>0</td>\n",
       "      <td>0</td>\n",
       "      <td>0</td>\n",
       "      <td>0</td>\n",
       "    </tr>\n",
       "    <tr>\n",
       "      <th>3</th>\n",
       "      <td>3</td>\n",
       "      <td>C4</td>\n",
       "      <td>M</td>\n",
       "      <td>False</td>\n",
       "      <td>2016-11-16 04:44:55</td>\n",
       "      <td>2024-05-02T05:39:10.967Z</td>\n",
       "      <td>0</td>\n",
       "      <td>0</td>\n",
       "      <td>0</td>\n",
       "      <td>0</td>\n",
       "      <td>1</td>\n",
       "      <td>0</td>\n",
       "    </tr>\n",
       "    <tr>\n",
       "      <th>4</th>\n",
       "      <td>4</td>\n",
       "      <td>C5</td>\n",
       "      <td>M</td>\n",
       "      <td>False</td>\n",
       "      <td>2017-03-27 21:09:31</td>\n",
       "      <td>2024-05-02T05:39:10.968Z</td>\n",
       "      <td>0</td>\n",
       "      <td>0</td>\n",
       "      <td>0</td>\n",
       "      <td>0</td>\n",
       "      <td>1</td>\n",
       "      <td>0</td>\n",
       "    </tr>\n",
       "  </tbody>\n",
       "</table>\n",
       "</div>"
      ],
      "text/plain": [
       "   Unnamed: 0 customer_id sex  is_married         active_since  \\\n",
       "0           0          C1   F        True  2019-03-09 14:43:26   \n",
       "1           1          C2   M        True  2016-07-24 05:21:59   \n",
       "2           2          C3   M        True  2017-11-21 01:14:51   \n",
       "3           3          C4   M       False  2016-11-16 04:44:55   \n",
       "4           4          C5   M       False  2017-03-27 21:09:31   \n",
       "\n",
       "                 event_time  age_18-29  age_30-39  age_40-49  age_50-59  \\\n",
       "0  2024-05-02T05:39:10.965Z          0          0          0          0   \n",
       "1  2024-05-02T05:39:10.966Z          0          0          0          0   \n",
       "2  2024-05-02T05:39:10.967Z          0          1          0          0   \n",
       "3  2024-05-02T05:39:10.967Z          0          0          0          0   \n",
       "4  2024-05-02T05:39:10.968Z          0          0          0          0   \n",
       "\n",
       "   age_60-69  age_70-plus  \n",
       "0          0            1  \n",
       "1          0            1  \n",
       "2          0            0  \n",
       "3          1            0  \n",
       "4          1            0  "
      ]
     },
     "execution_count": 163,
     "metadata": {},
     "output_type": "execute_result"
    }
   ],
   "source": [
    "customers_df.head()"
   ]
  },
  {
   "cell_type": "code",
   "execution_count": 164,
   "id": "a34bc8ad-0e7a-448f-81d9-0d44fcab897c",
   "metadata": {
    "execution": {
     "iopub.execute_input": "2025-08-09T20:00:50.852727Z",
     "iopub.status.busy": "2025-08-09T20:00:50.852472Z",
     "iopub.status.idle": "2025-08-09T20:00:50.858869Z",
     "shell.execute_reply": "2025-08-09T20:00:50.858115Z",
     "shell.execute_reply.started": "2025-08-09T20:00:50.852705Z"
    }
   },
   "outputs": [],
   "source": [
    "customers_df['sex'] = customers_df['sex'].map({\"F\":0,\"M\":1})"
   ]
  },
  {
   "cell_type": "code",
   "execution_count": 165,
   "id": "9f13181f-93c0-4c56-a976-77a8ab5c524a",
   "metadata": {
    "execution": {
     "iopub.execute_input": "2025-08-09T20:00:50.860077Z",
     "iopub.status.busy": "2025-08-09T20:00:50.859696Z",
     "iopub.status.idle": "2025-08-09T20:00:50.870645Z",
     "shell.execute_reply": "2025-08-09T20:00:50.869990Z",
     "shell.execute_reply.started": "2025-08-09T20:00:50.860049Z"
    }
   },
   "outputs": [
    {
     "data": {
      "text/html": [
       "<div>\n",
       "<style scoped>\n",
       "    .dataframe tbody tr th:only-of-type {\n",
       "        vertical-align: middle;\n",
       "    }\n",
       "\n",
       "    .dataframe tbody tr th {\n",
       "        vertical-align: top;\n",
       "    }\n",
       "\n",
       "    .dataframe thead th {\n",
       "        text-align: right;\n",
       "    }\n",
       "</style>\n",
       "<table border=\"1\" class=\"dataframe\">\n",
       "  <thead>\n",
       "    <tr style=\"text-align: right;\">\n",
       "      <th></th>\n",
       "      <th>Unnamed: 0</th>\n",
       "      <th>customer_id</th>\n",
       "      <th>sex</th>\n",
       "      <th>is_married</th>\n",
       "      <th>active_since</th>\n",
       "      <th>event_time</th>\n",
       "      <th>age_18-29</th>\n",
       "      <th>age_30-39</th>\n",
       "      <th>age_40-49</th>\n",
       "      <th>age_50-59</th>\n",
       "      <th>age_60-69</th>\n",
       "      <th>age_70-plus</th>\n",
       "    </tr>\n",
       "  </thead>\n",
       "  <tbody>\n",
       "    <tr>\n",
       "      <th>0</th>\n",
       "      <td>0</td>\n",
       "      <td>C1</td>\n",
       "      <td>0</td>\n",
       "      <td>True</td>\n",
       "      <td>2019-03-09 14:43:26</td>\n",
       "      <td>2024-05-02T05:39:10.965Z</td>\n",
       "      <td>0</td>\n",
       "      <td>0</td>\n",
       "      <td>0</td>\n",
       "      <td>0</td>\n",
       "      <td>0</td>\n",
       "      <td>1</td>\n",
       "    </tr>\n",
       "    <tr>\n",
       "      <th>1</th>\n",
       "      <td>1</td>\n",
       "      <td>C2</td>\n",
       "      <td>1</td>\n",
       "      <td>True</td>\n",
       "      <td>2016-07-24 05:21:59</td>\n",
       "      <td>2024-05-02T05:39:10.966Z</td>\n",
       "      <td>0</td>\n",
       "      <td>0</td>\n",
       "      <td>0</td>\n",
       "      <td>0</td>\n",
       "      <td>0</td>\n",
       "      <td>1</td>\n",
       "    </tr>\n",
       "    <tr>\n",
       "      <th>2</th>\n",
       "      <td>2</td>\n",
       "      <td>C3</td>\n",
       "      <td>1</td>\n",
       "      <td>True</td>\n",
       "      <td>2017-11-21 01:14:51</td>\n",
       "      <td>2024-05-02T05:39:10.967Z</td>\n",
       "      <td>0</td>\n",
       "      <td>1</td>\n",
       "      <td>0</td>\n",
       "      <td>0</td>\n",
       "      <td>0</td>\n",
       "      <td>0</td>\n",
       "    </tr>\n",
       "    <tr>\n",
       "      <th>3</th>\n",
       "      <td>3</td>\n",
       "      <td>C4</td>\n",
       "      <td>1</td>\n",
       "      <td>False</td>\n",
       "      <td>2016-11-16 04:44:55</td>\n",
       "      <td>2024-05-02T05:39:10.967Z</td>\n",
       "      <td>0</td>\n",
       "      <td>0</td>\n",
       "      <td>0</td>\n",
       "      <td>0</td>\n",
       "      <td>1</td>\n",
       "      <td>0</td>\n",
       "    </tr>\n",
       "    <tr>\n",
       "      <th>4</th>\n",
       "      <td>4</td>\n",
       "      <td>C5</td>\n",
       "      <td>1</td>\n",
       "      <td>False</td>\n",
       "      <td>2017-03-27 21:09:31</td>\n",
       "      <td>2024-05-02T05:39:10.968Z</td>\n",
       "      <td>0</td>\n",
       "      <td>0</td>\n",
       "      <td>0</td>\n",
       "      <td>0</td>\n",
       "      <td>1</td>\n",
       "      <td>0</td>\n",
       "    </tr>\n",
       "  </tbody>\n",
       "</table>\n",
       "</div>"
      ],
      "text/plain": [
       "   Unnamed: 0 customer_id  sex  is_married         active_since  \\\n",
       "0           0          C1    0        True  2019-03-09 14:43:26   \n",
       "1           1          C2    1        True  2016-07-24 05:21:59   \n",
       "2           2          C3    1        True  2017-11-21 01:14:51   \n",
       "3           3          C4    1       False  2016-11-16 04:44:55   \n",
       "4           4          C5    1       False  2017-03-27 21:09:31   \n",
       "\n",
       "                 event_time  age_18-29  age_30-39  age_40-49  age_50-59  \\\n",
       "0  2024-05-02T05:39:10.965Z          0          0          0          0   \n",
       "1  2024-05-02T05:39:10.966Z          0          0          0          0   \n",
       "2  2024-05-02T05:39:10.967Z          0          1          0          0   \n",
       "3  2024-05-02T05:39:10.967Z          0          0          0          0   \n",
       "4  2024-05-02T05:39:10.968Z          0          0          0          0   \n",
       "\n",
       "   age_60-69  age_70-plus  \n",
       "0          0            1  \n",
       "1          0            1  \n",
       "2          0            0  \n",
       "3          1            0  \n",
       "4          1            0  "
      ]
     },
     "execution_count": 165,
     "metadata": {},
     "output_type": "execute_result"
    }
   ],
   "source": [
    "customers_df.head()"
   ]
  },
  {
   "cell_type": "code",
   "execution_count": 166,
   "id": "906c0ad6-776d-45a0-b4d8-36fbe4c12b51",
   "metadata": {
    "execution": {
     "iopub.execute_input": "2025-08-09T20:00:50.871570Z",
     "iopub.status.busy": "2025-08-09T20:00:50.871346Z",
     "iopub.status.idle": "2025-08-09T20:00:50.875519Z",
     "shell.execute_reply": "2025-08-09T20:00:50.874987Z",
     "shell.execute_reply.started": "2025-08-09T20:00:50.871551Z"
    }
   },
   "outputs": [],
   "source": [
    "customers_df['is_married'] = customers_df['is_married'].astype('int')"
   ]
  },
  {
   "cell_type": "code",
   "execution_count": 167,
   "id": "39daccad-52c1-454a-ae97-229c3de7d5a9",
   "metadata": {
    "execution": {
     "iopub.execute_input": "2025-08-09T20:00:50.877040Z",
     "iopub.status.busy": "2025-08-09T20:00:50.876369Z",
     "iopub.status.idle": "2025-08-09T20:00:50.887058Z",
     "shell.execute_reply": "2025-08-09T20:00:50.886406Z",
     "shell.execute_reply.started": "2025-08-09T20:00:50.877009Z"
    }
   },
   "outputs": [
    {
     "data": {
      "text/html": [
       "<div>\n",
       "<style scoped>\n",
       "    .dataframe tbody tr th:only-of-type {\n",
       "        vertical-align: middle;\n",
       "    }\n",
       "\n",
       "    .dataframe tbody tr th {\n",
       "        vertical-align: top;\n",
       "    }\n",
       "\n",
       "    .dataframe thead th {\n",
       "        text-align: right;\n",
       "    }\n",
       "</style>\n",
       "<table border=\"1\" class=\"dataframe\">\n",
       "  <thead>\n",
       "    <tr style=\"text-align: right;\">\n",
       "      <th></th>\n",
       "      <th>Unnamed: 0</th>\n",
       "      <th>customer_id</th>\n",
       "      <th>sex</th>\n",
       "      <th>is_married</th>\n",
       "      <th>active_since</th>\n",
       "      <th>event_time</th>\n",
       "      <th>age_18-29</th>\n",
       "      <th>age_30-39</th>\n",
       "      <th>age_40-49</th>\n",
       "      <th>age_50-59</th>\n",
       "      <th>age_60-69</th>\n",
       "      <th>age_70-plus</th>\n",
       "    </tr>\n",
       "  </thead>\n",
       "  <tbody>\n",
       "    <tr>\n",
       "      <th>0</th>\n",
       "      <td>0</td>\n",
       "      <td>C1</td>\n",
       "      <td>0</td>\n",
       "      <td>1</td>\n",
       "      <td>2019-03-09 14:43:26</td>\n",
       "      <td>2024-05-02T05:39:10.965Z</td>\n",
       "      <td>0</td>\n",
       "      <td>0</td>\n",
       "      <td>0</td>\n",
       "      <td>0</td>\n",
       "      <td>0</td>\n",
       "      <td>1</td>\n",
       "    </tr>\n",
       "    <tr>\n",
       "      <th>1</th>\n",
       "      <td>1</td>\n",
       "      <td>C2</td>\n",
       "      <td>1</td>\n",
       "      <td>1</td>\n",
       "      <td>2016-07-24 05:21:59</td>\n",
       "      <td>2024-05-02T05:39:10.966Z</td>\n",
       "      <td>0</td>\n",
       "      <td>0</td>\n",
       "      <td>0</td>\n",
       "      <td>0</td>\n",
       "      <td>0</td>\n",
       "      <td>1</td>\n",
       "    </tr>\n",
       "    <tr>\n",
       "      <th>2</th>\n",
       "      <td>2</td>\n",
       "      <td>C3</td>\n",
       "      <td>1</td>\n",
       "      <td>1</td>\n",
       "      <td>2017-11-21 01:14:51</td>\n",
       "      <td>2024-05-02T05:39:10.967Z</td>\n",
       "      <td>0</td>\n",
       "      <td>1</td>\n",
       "      <td>0</td>\n",
       "      <td>0</td>\n",
       "      <td>0</td>\n",
       "      <td>0</td>\n",
       "    </tr>\n",
       "    <tr>\n",
       "      <th>3</th>\n",
       "      <td>3</td>\n",
       "      <td>C4</td>\n",
       "      <td>1</td>\n",
       "      <td>0</td>\n",
       "      <td>2016-11-16 04:44:55</td>\n",
       "      <td>2024-05-02T05:39:10.967Z</td>\n",
       "      <td>0</td>\n",
       "      <td>0</td>\n",
       "      <td>0</td>\n",
       "      <td>0</td>\n",
       "      <td>1</td>\n",
       "      <td>0</td>\n",
       "    </tr>\n",
       "    <tr>\n",
       "      <th>4</th>\n",
       "      <td>4</td>\n",
       "      <td>C5</td>\n",
       "      <td>1</td>\n",
       "      <td>0</td>\n",
       "      <td>2017-03-27 21:09:31</td>\n",
       "      <td>2024-05-02T05:39:10.968Z</td>\n",
       "      <td>0</td>\n",
       "      <td>0</td>\n",
       "      <td>0</td>\n",
       "      <td>0</td>\n",
       "      <td>1</td>\n",
       "      <td>0</td>\n",
       "    </tr>\n",
       "  </tbody>\n",
       "</table>\n",
       "</div>"
      ],
      "text/plain": [
       "   Unnamed: 0 customer_id  sex  is_married         active_since  \\\n",
       "0           0          C1    0           1  2019-03-09 14:43:26   \n",
       "1           1          C2    1           1  2016-07-24 05:21:59   \n",
       "2           2          C3    1           1  2017-11-21 01:14:51   \n",
       "3           3          C4    1           0  2016-11-16 04:44:55   \n",
       "4           4          C5    1           0  2017-03-27 21:09:31   \n",
       "\n",
       "                 event_time  age_18-29  age_30-39  age_40-49  age_50-59  \\\n",
       "0  2024-05-02T05:39:10.965Z          0          0          0          0   \n",
       "1  2024-05-02T05:39:10.966Z          0          0          0          0   \n",
       "2  2024-05-02T05:39:10.967Z          0          1          0          0   \n",
       "3  2024-05-02T05:39:10.967Z          0          0          0          0   \n",
       "4  2024-05-02T05:39:10.968Z          0          0          0          0   \n",
       "\n",
       "   age_60-69  age_70-plus  \n",
       "0          0            1  \n",
       "1          0            1  \n",
       "2          0            0  \n",
       "3          1            0  \n",
       "4          1            0  "
      ]
     },
     "execution_count": 167,
     "metadata": {},
     "output_type": "execute_result"
    }
   ],
   "source": [
    "customers_df.head()"
   ]
  },
  {
   "cell_type": "code",
   "execution_count": 168,
   "id": "81a5715a-aa00-466d-b92e-c9456e5a29e1",
   "metadata": {
    "execution": {
     "iopub.execute_input": "2025-08-09T20:00:50.889342Z",
     "iopub.status.busy": "2025-08-09T20:00:50.889103Z",
     "iopub.status.idle": "2025-08-09T20:00:50.896458Z",
     "shell.execute_reply": "2025-08-09T20:00:50.895593Z",
     "shell.execute_reply.started": "2025-08-09T20:00:50.889323Z"
    }
   },
   "outputs": [],
   "source": [
    "customers_df['active_since'] = pd.to_datetime(customers_df['active_since'], format=\"%Y-%m-%d %H:%M:%S\")"
   ]
  },
  {
   "cell_type": "code",
   "execution_count": 169,
   "id": "546e1ea9-e867-4bb6-a438-20356c14da14",
   "metadata": {
    "execution": {
     "iopub.execute_input": "2025-08-09T20:00:50.897808Z",
     "iopub.status.busy": "2025-08-09T20:00:50.897153Z",
     "iopub.status.idle": "2025-08-09T20:00:50.908844Z",
     "shell.execute_reply": "2025-08-09T20:00:50.908172Z",
     "shell.execute_reply.started": "2025-08-09T20:00:50.897783Z"
    }
   },
   "outputs": [
    {
     "name": "stdout",
     "output_type": "stream",
     "text": [
      "<class 'pandas.core.frame.DataFrame'>\n",
      "RangeIndex: 10000 entries, 0 to 9999\n",
      "Data columns (total 12 columns):\n",
      " #   Column        Non-Null Count  Dtype         \n",
      "---  ------        --------------  -----         \n",
      " 0   Unnamed: 0    10000 non-null  int64         \n",
      " 1   customer_id   10000 non-null  object        \n",
      " 2   sex           10000 non-null  int64         \n",
      " 3   is_married    10000 non-null  int64         \n",
      " 4   active_since  10000 non-null  datetime64[ns]\n",
      " 5   event_time    10000 non-null  object        \n",
      " 6   age_18-29     10000 non-null  int64         \n",
      " 7   age_30-39     10000 non-null  int64         \n",
      " 8   age_40-49     10000 non-null  int64         \n",
      " 9   age_50-59     10000 non-null  int64         \n",
      " 10  age_60-69     10000 non-null  int64         \n",
      " 11  age_70-plus   10000 non-null  int64         \n",
      "dtypes: datetime64[ns](1), int64(9), object(2)\n",
      "memory usage: 937.6+ KB\n"
     ]
    }
   ],
   "source": [
    "customers_df.info()"
   ]
  },
  {
   "cell_type": "code",
   "execution_count": 170,
   "id": "5ff367d1-b560-44a7-a42e-bff50c84dbdb",
   "metadata": {
    "execution": {
     "iopub.execute_input": "2025-08-09T20:00:50.910108Z",
     "iopub.status.busy": "2025-08-09T20:00:50.909608Z",
     "iopub.status.idle": "2025-08-09T20:00:50.913369Z",
     "shell.execute_reply": "2025-08-09T20:00:50.912696Z",
     "shell.execute_reply.started": "2025-08-09T20:00:50.910084Z"
    }
   },
   "outputs": [],
   "source": [
    "def get_delta_days(datetime) -> int :\n",
    "    today = date.today()\n",
    "    delta = today - datetime.date()\n",
    "    return delta.days"
   ]
  },
  {
   "cell_type": "code",
   "execution_count": 171,
   "id": "21e701d6-c07f-4e0e-a750-6aa8c8316653",
   "metadata": {
    "execution": {
     "iopub.execute_input": "2025-08-09T20:00:50.914390Z",
     "iopub.status.busy": "2025-08-09T20:00:50.914107Z",
     "iopub.status.idle": "2025-08-09T20:00:50.945050Z",
     "shell.execute_reply": "2025-08-09T20:00:50.944318Z",
     "shell.execute_reply.started": "2025-08-09T20:00:50.914369Z"
    }
   },
   "outputs": [],
   "source": [
    "customers_df['n_days_active'] = customers_df['active_since'].apply(lambda x: get_delta_days(x))"
   ]
  },
  {
   "cell_type": "code",
   "execution_count": 172,
   "id": "57facaf7-edee-420c-a2eb-83a0a776f979",
   "metadata": {
    "execution": {
     "iopub.execute_input": "2025-08-09T20:00:50.946306Z",
     "iopub.status.busy": "2025-08-09T20:00:50.946049Z",
     "iopub.status.idle": "2025-08-09T20:00:50.955579Z",
     "shell.execute_reply": "2025-08-09T20:00:50.955042Z",
     "shell.execute_reply.started": "2025-08-09T20:00:50.946286Z"
    }
   },
   "outputs": [
    {
     "data": {
      "text/html": [
       "<div>\n",
       "<style scoped>\n",
       "    .dataframe tbody tr th:only-of-type {\n",
       "        vertical-align: middle;\n",
       "    }\n",
       "\n",
       "    .dataframe tbody tr th {\n",
       "        vertical-align: top;\n",
       "    }\n",
       "\n",
       "    .dataframe thead th {\n",
       "        text-align: right;\n",
       "    }\n",
       "</style>\n",
       "<table border=\"1\" class=\"dataframe\">\n",
       "  <thead>\n",
       "    <tr style=\"text-align: right;\">\n",
       "      <th></th>\n",
       "      <th>Unnamed: 0</th>\n",
       "      <th>customer_id</th>\n",
       "      <th>sex</th>\n",
       "      <th>is_married</th>\n",
       "      <th>active_since</th>\n",
       "      <th>event_time</th>\n",
       "      <th>age_18-29</th>\n",
       "      <th>age_30-39</th>\n",
       "      <th>age_40-49</th>\n",
       "      <th>age_50-59</th>\n",
       "      <th>age_60-69</th>\n",
       "      <th>age_70-plus</th>\n",
       "      <th>n_days_active</th>\n",
       "    </tr>\n",
       "  </thead>\n",
       "  <tbody>\n",
       "    <tr>\n",
       "      <th>0</th>\n",
       "      <td>0</td>\n",
       "      <td>C1</td>\n",
       "      <td>0</td>\n",
       "      <td>1</td>\n",
       "      <td>2019-03-09 14:43:26</td>\n",
       "      <td>2024-05-02T05:39:10.965Z</td>\n",
       "      <td>0</td>\n",
       "      <td>0</td>\n",
       "      <td>0</td>\n",
       "      <td>0</td>\n",
       "      <td>0</td>\n",
       "      <td>1</td>\n",
       "      <td>2345</td>\n",
       "    </tr>\n",
       "    <tr>\n",
       "      <th>1</th>\n",
       "      <td>1</td>\n",
       "      <td>C2</td>\n",
       "      <td>1</td>\n",
       "      <td>1</td>\n",
       "      <td>2016-07-24 05:21:59</td>\n",
       "      <td>2024-05-02T05:39:10.966Z</td>\n",
       "      <td>0</td>\n",
       "      <td>0</td>\n",
       "      <td>0</td>\n",
       "      <td>0</td>\n",
       "      <td>0</td>\n",
       "      <td>1</td>\n",
       "      <td>3303</td>\n",
       "    </tr>\n",
       "    <tr>\n",
       "      <th>2</th>\n",
       "      <td>2</td>\n",
       "      <td>C3</td>\n",
       "      <td>1</td>\n",
       "      <td>1</td>\n",
       "      <td>2017-11-21 01:14:51</td>\n",
       "      <td>2024-05-02T05:39:10.967Z</td>\n",
       "      <td>0</td>\n",
       "      <td>1</td>\n",
       "      <td>0</td>\n",
       "      <td>0</td>\n",
       "      <td>0</td>\n",
       "      <td>0</td>\n",
       "      <td>2818</td>\n",
       "    </tr>\n",
       "    <tr>\n",
       "      <th>3</th>\n",
       "      <td>3</td>\n",
       "      <td>C4</td>\n",
       "      <td>1</td>\n",
       "      <td>0</td>\n",
       "      <td>2016-11-16 04:44:55</td>\n",
       "      <td>2024-05-02T05:39:10.967Z</td>\n",
       "      <td>0</td>\n",
       "      <td>0</td>\n",
       "      <td>0</td>\n",
       "      <td>0</td>\n",
       "      <td>1</td>\n",
       "      <td>0</td>\n",
       "      <td>3188</td>\n",
       "    </tr>\n",
       "    <tr>\n",
       "      <th>4</th>\n",
       "      <td>4</td>\n",
       "      <td>C5</td>\n",
       "      <td>1</td>\n",
       "      <td>0</td>\n",
       "      <td>2017-03-27 21:09:31</td>\n",
       "      <td>2024-05-02T05:39:10.968Z</td>\n",
       "      <td>0</td>\n",
       "      <td>0</td>\n",
       "      <td>0</td>\n",
       "      <td>0</td>\n",
       "      <td>1</td>\n",
       "      <td>0</td>\n",
       "      <td>3057</td>\n",
       "    </tr>\n",
       "  </tbody>\n",
       "</table>\n",
       "</div>"
      ],
      "text/plain": [
       "   Unnamed: 0 customer_id  sex  is_married        active_since  \\\n",
       "0           0          C1    0           1 2019-03-09 14:43:26   \n",
       "1           1          C2    1           1 2016-07-24 05:21:59   \n",
       "2           2          C3    1           1 2017-11-21 01:14:51   \n",
       "3           3          C4    1           0 2016-11-16 04:44:55   \n",
       "4           4          C5    1           0 2017-03-27 21:09:31   \n",
       "\n",
       "                 event_time  age_18-29  age_30-39  age_40-49  age_50-59  \\\n",
       "0  2024-05-02T05:39:10.965Z          0          0          0          0   \n",
       "1  2024-05-02T05:39:10.966Z          0          0          0          0   \n",
       "2  2024-05-02T05:39:10.967Z          0          1          0          0   \n",
       "3  2024-05-02T05:39:10.967Z          0          0          0          0   \n",
       "4  2024-05-02T05:39:10.968Z          0          0          0          0   \n",
       "\n",
       "   age_60-69  age_70-plus  n_days_active  \n",
       "0          0            1           2345  \n",
       "1          0            1           3303  \n",
       "2          0            0           2818  \n",
       "3          1            0           3188  \n",
       "4          1            0           3057  "
      ]
     },
     "execution_count": 172,
     "metadata": {},
     "output_type": "execute_result"
    }
   ],
   "source": [
    "customers_df.head()"
   ]
  },
  {
   "cell_type": "code",
   "execution_count": 173,
   "id": "d3cea5e1-9698-4953-825d-cf1f04b99e0f",
   "metadata": {
    "execution": {
     "iopub.execute_input": "2025-08-09T20:00:50.956739Z",
     "iopub.status.busy": "2025-08-09T20:00:50.956520Z",
     "iopub.status.idle": "2025-08-09T20:00:50.965166Z",
     "shell.execute_reply": "2025-08-09T20:00:50.964426Z",
     "shell.execute_reply.started": "2025-08-09T20:00:50.956720Z"
    }
   },
   "outputs": [],
   "source": [
    "customers_df['n_days_active'] = min_max_scaler.fit_transform(customers_df[['n_days_active']])\n",
    "customers_df.drop(\"active_since\",axis=1, inplace=True)"
   ]
  },
  {
   "cell_type": "code",
   "execution_count": 174,
   "id": "799c964e-cb82-43b0-b411-34362bd63c70",
   "metadata": {
    "execution": {
     "iopub.execute_input": "2025-08-09T20:00:50.967406Z",
     "iopub.status.busy": "2025-08-09T20:00:50.966867Z",
     "iopub.status.idle": "2025-08-09T20:00:50.971986Z",
     "shell.execute_reply": "2025-08-09T20:00:50.971426Z",
     "shell.execute_reply.started": "2025-08-09T20:00:50.967383Z"
    }
   },
   "outputs": [],
   "source": [
    "customers_df = customers_df.drop(columns=['Unnamed: 0'], errors='ignore')"
   ]
  },
  {
   "cell_type": "code",
   "execution_count": 175,
   "id": "0d907075-d98f-4d7d-90ad-df704d4b0dda",
   "metadata": {
    "execution": {
     "iopub.execute_input": "2025-08-09T20:00:50.972862Z",
     "iopub.status.busy": "2025-08-09T20:00:50.972647Z",
     "iopub.status.idle": "2025-08-09T20:00:50.983625Z",
     "shell.execute_reply": "2025-08-09T20:00:50.982833Z",
     "shell.execute_reply.started": "2025-08-09T20:00:50.972843Z"
    }
   },
   "outputs": [
    {
     "data": {
      "text/html": [
       "<div>\n",
       "<style scoped>\n",
       "    .dataframe tbody tr th:only-of-type {\n",
       "        vertical-align: middle;\n",
       "    }\n",
       "\n",
       "    .dataframe tbody tr th {\n",
       "        vertical-align: top;\n",
       "    }\n",
       "\n",
       "    .dataframe thead th {\n",
       "        text-align: right;\n",
       "    }\n",
       "</style>\n",
       "<table border=\"1\" class=\"dataframe\">\n",
       "  <thead>\n",
       "    <tr style=\"text-align: right;\">\n",
       "      <th></th>\n",
       "      <th>customer_id</th>\n",
       "      <th>sex</th>\n",
       "      <th>is_married</th>\n",
       "      <th>event_time</th>\n",
       "      <th>age_18-29</th>\n",
       "      <th>age_30-39</th>\n",
       "      <th>age_40-49</th>\n",
       "      <th>age_50-59</th>\n",
       "      <th>age_60-69</th>\n",
       "      <th>age_70-plus</th>\n",
       "      <th>n_days_active</th>\n",
       "    </tr>\n",
       "  </thead>\n",
       "  <tbody>\n",
       "    <tr>\n",
       "      <th>0</th>\n",
       "      <td>C1</td>\n",
       "      <td>0</td>\n",
       "      <td>1</td>\n",
       "      <td>2024-05-02T05:39:10.965Z</td>\n",
       "      <td>0</td>\n",
       "      <td>0</td>\n",
       "      <td>0</td>\n",
       "      <td>0</td>\n",
       "      <td>0</td>\n",
       "      <td>1</td>\n",
       "      <td>0.203425</td>\n",
       "    </tr>\n",
       "    <tr>\n",
       "      <th>1</th>\n",
       "      <td>C2</td>\n",
       "      <td>1</td>\n",
       "      <td>1</td>\n",
       "      <td>2024-05-02T05:39:10.966Z</td>\n",
       "      <td>0</td>\n",
       "      <td>0</td>\n",
       "      <td>0</td>\n",
       "      <td>0</td>\n",
       "      <td>0</td>\n",
       "      <td>1</td>\n",
       "      <td>0.859589</td>\n",
       "    </tr>\n",
       "    <tr>\n",
       "      <th>2</th>\n",
       "      <td>C3</td>\n",
       "      <td>1</td>\n",
       "      <td>1</td>\n",
       "      <td>2024-05-02T05:39:10.967Z</td>\n",
       "      <td>0</td>\n",
       "      <td>1</td>\n",
       "      <td>0</td>\n",
       "      <td>0</td>\n",
       "      <td>0</td>\n",
       "      <td>0</td>\n",
       "      <td>0.527397</td>\n",
       "    </tr>\n",
       "    <tr>\n",
       "      <th>3</th>\n",
       "      <td>C4</td>\n",
       "      <td>1</td>\n",
       "      <td>0</td>\n",
       "      <td>2024-05-02T05:39:10.967Z</td>\n",
       "      <td>0</td>\n",
       "      <td>0</td>\n",
       "      <td>0</td>\n",
       "      <td>0</td>\n",
       "      <td>1</td>\n",
       "      <td>0</td>\n",
       "      <td>0.780822</td>\n",
       "    </tr>\n",
       "    <tr>\n",
       "      <th>4</th>\n",
       "      <td>C5</td>\n",
       "      <td>1</td>\n",
       "      <td>0</td>\n",
       "      <td>2024-05-02T05:39:10.968Z</td>\n",
       "      <td>0</td>\n",
       "      <td>0</td>\n",
       "      <td>0</td>\n",
       "      <td>0</td>\n",
       "      <td>1</td>\n",
       "      <td>0</td>\n",
       "      <td>0.691096</td>\n",
       "    </tr>\n",
       "  </tbody>\n",
       "</table>\n",
       "</div>"
      ],
      "text/plain": [
       "  customer_id  sex  is_married                event_time  age_18-29  \\\n",
       "0          C1    0           1  2024-05-02T05:39:10.965Z          0   \n",
       "1          C2    1           1  2024-05-02T05:39:10.966Z          0   \n",
       "2          C3    1           1  2024-05-02T05:39:10.967Z          0   \n",
       "3          C4    1           0  2024-05-02T05:39:10.967Z          0   \n",
       "4          C5    1           0  2024-05-02T05:39:10.968Z          0   \n",
       "\n",
       "   age_30-39  age_40-49  age_50-59  age_60-69  age_70-plus  n_days_active  \n",
       "0          0          0          0          0            1       0.203425  \n",
       "1          0          0          0          0            1       0.859589  \n",
       "2          1          0          0          0            0       0.527397  \n",
       "3          0          0          0          1            0       0.780822  \n",
       "4          0          0          0          1            0       0.691096  "
      ]
     },
     "execution_count": 175,
     "metadata": {},
     "output_type": "execute_result"
    }
   ],
   "source": [
    "customers_df.head()"
   ]
  },
  {
   "cell_type": "code",
   "execution_count": 176,
   "id": "9a8713e7-f6b5-47b4-b40a-481f8256e728",
   "metadata": {
    "execution": {
     "iopub.execute_input": "2025-08-09T20:00:50.984998Z",
     "iopub.status.busy": "2025-08-09T20:00:50.984416Z",
     "iopub.status.idle": "2025-08-09T20:00:50.994012Z",
     "shell.execute_reply": "2025-08-09T20:00:50.993340Z",
     "shell.execute_reply.started": "2025-08-09T20:00:50.984977Z"
    }
   },
   "outputs": [
    {
     "data": {
      "text/html": [
       "<div>\n",
       "<style scoped>\n",
       "    .dataframe tbody tr th:only-of-type {\n",
       "        vertical-align: middle;\n",
       "    }\n",
       "\n",
       "    .dataframe tbody tr th {\n",
       "        vertical-align: top;\n",
       "    }\n",
       "\n",
       "    .dataframe thead th {\n",
       "        text-align: right;\n",
       "    }\n",
       "</style>\n",
       "<table border=\"1\" class=\"dataframe\">\n",
       "  <thead>\n",
       "    <tr style=\"text-align: right;\">\n",
       "      <th></th>\n",
       "      <th>customer_id</th>\n",
       "      <th>sex</th>\n",
       "      <th>is_married</th>\n",
       "      <th>event_time</th>\n",
       "      <th>age_18-29</th>\n",
       "      <th>age_30-39</th>\n",
       "      <th>age_40-49</th>\n",
       "      <th>age_50-59</th>\n",
       "      <th>age_60-69</th>\n",
       "      <th>age_70-plus</th>\n",
       "      <th>n_days_active</th>\n",
       "    </tr>\n",
       "  </thead>\n",
       "  <tbody>\n",
       "    <tr>\n",
       "      <th>0</th>\n",
       "      <td>C1</td>\n",
       "      <td>0</td>\n",
       "      <td>1</td>\n",
       "      <td>2024-05-02T05:39:10.965Z</td>\n",
       "      <td>0</td>\n",
       "      <td>0</td>\n",
       "      <td>0</td>\n",
       "      <td>0</td>\n",
       "      <td>0</td>\n",
       "      <td>1</td>\n",
       "      <td>0.203425</td>\n",
       "    </tr>\n",
       "    <tr>\n",
       "      <th>1</th>\n",
       "      <td>C2</td>\n",
       "      <td>1</td>\n",
       "      <td>1</td>\n",
       "      <td>2024-05-02T05:39:10.966Z</td>\n",
       "      <td>0</td>\n",
       "      <td>0</td>\n",
       "      <td>0</td>\n",
       "      <td>0</td>\n",
       "      <td>0</td>\n",
       "      <td>1</td>\n",
       "      <td>0.859589</td>\n",
       "    </tr>\n",
       "    <tr>\n",
       "      <th>2</th>\n",
       "      <td>C3</td>\n",
       "      <td>1</td>\n",
       "      <td>1</td>\n",
       "      <td>2024-05-02T05:39:10.967Z</td>\n",
       "      <td>0</td>\n",
       "      <td>1</td>\n",
       "      <td>0</td>\n",
       "      <td>0</td>\n",
       "      <td>0</td>\n",
       "      <td>0</td>\n",
       "      <td>0.527397</td>\n",
       "    </tr>\n",
       "    <tr>\n",
       "      <th>3</th>\n",
       "      <td>C4</td>\n",
       "      <td>1</td>\n",
       "      <td>0</td>\n",
       "      <td>2024-05-02T05:39:10.967Z</td>\n",
       "      <td>0</td>\n",
       "      <td>0</td>\n",
       "      <td>0</td>\n",
       "      <td>0</td>\n",
       "      <td>1</td>\n",
       "      <td>0</td>\n",
       "      <td>0.780822</td>\n",
       "    </tr>\n",
       "    <tr>\n",
       "      <th>4</th>\n",
       "      <td>C5</td>\n",
       "      <td>1</td>\n",
       "      <td>0</td>\n",
       "      <td>2024-05-02T05:39:10.968Z</td>\n",
       "      <td>0</td>\n",
       "      <td>0</td>\n",
       "      <td>0</td>\n",
       "      <td>0</td>\n",
       "      <td>1</td>\n",
       "      <td>0</td>\n",
       "      <td>0.691096</td>\n",
       "    </tr>\n",
       "  </tbody>\n",
       "</table>\n",
       "</div>"
      ],
      "text/plain": [
       "  customer_id  sex  is_married                event_time  age_18-29  \\\n",
       "0          C1    0           1  2024-05-02T05:39:10.965Z          0   \n",
       "1          C2    1           1  2024-05-02T05:39:10.966Z          0   \n",
       "2          C3    1           1  2024-05-02T05:39:10.967Z          0   \n",
       "3          C4    1           0  2024-05-02T05:39:10.967Z          0   \n",
       "4          C5    1           0  2024-05-02T05:39:10.968Z          0   \n",
       "\n",
       "   age_30-39  age_40-49  age_50-59  age_60-69  age_70-plus  n_days_active  \n",
       "0          0          0          0          0            1       0.203425  \n",
       "1          0          0          0          0            1       0.859589  \n",
       "2          1          0          0          0            0       0.527397  \n",
       "3          0          0          0          1            0       0.780822  \n",
       "4          0          0          0          1            0       0.691096  "
      ]
     },
     "execution_count": 176,
     "metadata": {},
     "output_type": "execute_result"
    }
   ],
   "source": [
    "customers_df.head()"
   ]
  },
  {
   "cell_type": "code",
   "execution_count": 177,
   "id": "d43f11a9-3762-4c1d-bf39-7c3f92f649bf",
   "metadata": {
    "execution": {
     "iopub.execute_input": "2025-08-09T20:00:50.994840Z",
     "iopub.status.busy": "2025-08-09T20:00:50.994635Z",
     "iopub.status.idle": "2025-08-09T20:00:51.037721Z",
     "shell.execute_reply": "2025-08-09T20:00:51.037117Z",
     "shell.execute_reply.started": "2025-08-09T20:00:50.994821Z"
    }
   },
   "outputs": [],
   "source": [
    "customers_df.to_csv(\"transformed/customers.csv\", index=False)"
   ]
  },
  {
   "cell_type": "markdown",
   "id": "ae8821c1-23a7-49df-b39f-ab3cc004081b",
   "metadata": {
    "jp-MarkdownHeadingCollapsed": true
   },
   "source": [
    "## Step 2: Transform Orders Data"
   ]
  },
  {
   "cell_type": "code",
   "execution_count": 178,
   "id": "809cb998-718c-46ff-808a-9a1f853d3279",
   "metadata": {
    "execution": {
     "iopub.execute_input": "2025-08-09T20:00:51.038850Z",
     "iopub.status.busy": "2025-08-09T20:00:51.038473Z",
     "iopub.status.idle": "2025-08-09T20:00:51.242497Z",
     "shell.execute_reply": "2025-08-09T20:00:51.241742Z",
     "shell.execute_reply.started": "2025-08-09T20:00:51.038830Z"
    }
   },
   "outputs": [],
   "source": [
    "orders_df = pd.read_csv(\"raw/orders.csv\")"
   ]
  },
  {
   "cell_type": "code",
   "execution_count": 179,
   "id": "9f940152-ddf1-4f3f-aa46-685da9223b70",
   "metadata": {
    "execution": {
     "iopub.execute_input": "2025-08-09T20:00:51.246889Z",
     "iopub.status.busy": "2025-08-09T20:00:51.246224Z",
     "iopub.status.idle": "2025-08-09T20:00:51.256352Z",
     "shell.execute_reply": "2025-08-09T20:00:51.255568Z",
     "shell.execute_reply.started": "2025-08-09T20:00:51.246864Z"
    }
   },
   "outputs": [
    {
     "data": {
      "text/html": [
       "<div>\n",
       "<style scoped>\n",
       "    .dataframe tbody tr th:only-of-type {\n",
       "        vertical-align: middle;\n",
       "    }\n",
       "\n",
       "    .dataframe tbody tr th {\n",
       "        vertical-align: top;\n",
       "    }\n",
       "\n",
       "    .dataframe thead th {\n",
       "        text-align: right;\n",
       "    }\n",
       "</style>\n",
       "<table border=\"1\" class=\"dataframe\">\n",
       "  <thead>\n",
       "    <tr style=\"text-align: right;\">\n",
       "      <th></th>\n",
       "      <th>Unnamed: 0</th>\n",
       "      <th>order_id</th>\n",
       "      <th>customer_id</th>\n",
       "      <th>product_id</th>\n",
       "      <th>purchase_amount</th>\n",
       "      <th>is_reordered</th>\n",
       "      <th>purchased_on</th>\n",
       "      <th>event_time</th>\n",
       "    </tr>\n",
       "  </thead>\n",
       "  <tbody>\n",
       "    <tr>\n",
       "      <th>0</th>\n",
       "      <td>0</td>\n",
       "      <td>O1</td>\n",
       "      <td>C9765</td>\n",
       "      <td>P11660</td>\n",
       "      <td>58.84</td>\n",
       "      <td>0</td>\n",
       "      <td>2021-01-10 10:31:27</td>\n",
       "      <td>2024-05-02T05:39:17.172Z</td>\n",
       "    </tr>\n",
       "    <tr>\n",
       "      <th>1</th>\n",
       "      <td>1</td>\n",
       "      <td>O2</td>\n",
       "      <td>C3674</td>\n",
       "      <td>P6868</td>\n",
       "      <td>71.08</td>\n",
       "      <td>0</td>\n",
       "      <td>2020-03-20 16:47:36</td>\n",
       "      <td>2024-05-02T05:39:17.172Z</td>\n",
       "    </tr>\n",
       "    <tr>\n",
       "      <th>2</th>\n",
       "      <td>2</td>\n",
       "      <td>O3</td>\n",
       "      <td>C2139</td>\n",
       "      <td>P4749</td>\n",
       "      <td>57.17</td>\n",
       "      <td>1</td>\n",
       "      <td>2020-11-01 22:09:22</td>\n",
       "      <td>2024-05-02T05:39:17.172Z</td>\n",
       "    </tr>\n",
       "    <tr>\n",
       "      <th>3</th>\n",
       "      <td>3</td>\n",
       "      <td>O4</td>\n",
       "      <td>C7794</td>\n",
       "      <td>P542</td>\n",
       "      <td>5.35</td>\n",
       "      <td>1</td>\n",
       "      <td>2020-03-22 10:10:38</td>\n",
       "      <td>2024-05-02T05:39:17.172Z</td>\n",
       "    </tr>\n",
       "    <tr>\n",
       "      <th>4</th>\n",
       "      <td>4</td>\n",
       "      <td>O5</td>\n",
       "      <td>C2229</td>\n",
       "      <td>P7605</td>\n",
       "      <td>47.85</td>\n",
       "      <td>1</td>\n",
       "      <td>2021-01-14 01:08:56</td>\n",
       "      <td>2024-05-02T05:39:17.172Z</td>\n",
       "    </tr>\n",
       "  </tbody>\n",
       "</table>\n",
       "</div>"
      ],
      "text/plain": [
       "   Unnamed: 0 order_id customer_id product_id  purchase_amount  is_reordered  \\\n",
       "0           0       O1       C9765     P11660            58.84             0   \n",
       "1           1       O2       C3674      P6868            71.08             0   \n",
       "2           2       O3       C2139      P4749            57.17             1   \n",
       "3           3       O4       C7794       P542             5.35             1   \n",
       "4           4       O5       C2229      P7605            47.85             1   \n",
       "\n",
       "          purchased_on                event_time  \n",
       "0  2021-01-10 10:31:27  2024-05-02T05:39:17.172Z  \n",
       "1  2020-03-20 16:47:36  2024-05-02T05:39:17.172Z  \n",
       "2  2020-11-01 22:09:22  2024-05-02T05:39:17.172Z  \n",
       "3  2020-03-22 10:10:38  2024-05-02T05:39:17.172Z  \n",
       "4  2021-01-14 01:08:56  2024-05-02T05:39:17.172Z  "
      ]
     },
     "execution_count": 179,
     "metadata": {},
     "output_type": "execute_result"
    }
   ],
   "source": [
    "orders_df.head()"
   ]
  },
  {
   "cell_type": "code",
   "execution_count": 180,
   "id": "b81e8abe-1cf5-4269-8c42-89a44d0c1416",
   "metadata": {
    "execution": {
     "iopub.execute_input": "2025-08-09T20:00:51.257302Z",
     "iopub.status.busy": "2025-08-09T20:00:51.257076Z",
     "iopub.status.idle": "2025-08-09T20:00:51.524115Z",
     "shell.execute_reply": "2025-08-09T20:00:51.523384Z",
     "shell.execute_reply.started": "2025-08-09T20:00:51.257284Z"
    }
   },
   "outputs": [],
   "source": [
    "orders_df['purchased_on'] =  pd.to_datetime(orders_df['purchased_on'], format='%Y-%m-%d %H:%M:%S')\n",
    "orders_df['n_days_since_last_purchase'] = orders_df['purchased_on'].apply(lambda x: get_delta_days(x))"
   ]
  },
  {
   "cell_type": "code",
   "execution_count": 181,
   "id": "8e8c6616-82c1-48b7-80f7-0f25891f2cb4",
   "metadata": {
    "execution": {
     "iopub.execute_input": "2025-08-09T20:00:51.525275Z",
     "iopub.status.busy": "2025-08-09T20:00:51.525045Z",
     "iopub.status.idle": "2025-08-09T20:00:51.535545Z",
     "shell.execute_reply": "2025-08-09T20:00:51.534959Z",
     "shell.execute_reply.started": "2025-08-09T20:00:51.525256Z"
    }
   },
   "outputs": [
    {
     "data": {
      "text/html": [
       "<div>\n",
       "<style scoped>\n",
       "    .dataframe tbody tr th:only-of-type {\n",
       "        vertical-align: middle;\n",
       "    }\n",
       "\n",
       "    .dataframe tbody tr th {\n",
       "        vertical-align: top;\n",
       "    }\n",
       "\n",
       "    .dataframe thead th {\n",
       "        text-align: right;\n",
       "    }\n",
       "</style>\n",
       "<table border=\"1\" class=\"dataframe\">\n",
       "  <thead>\n",
       "    <tr style=\"text-align: right;\">\n",
       "      <th></th>\n",
       "      <th>Unnamed: 0</th>\n",
       "      <th>order_id</th>\n",
       "      <th>customer_id</th>\n",
       "      <th>product_id</th>\n",
       "      <th>purchase_amount</th>\n",
       "      <th>is_reordered</th>\n",
       "      <th>purchased_on</th>\n",
       "      <th>event_time</th>\n",
       "      <th>n_days_since_last_purchase</th>\n",
       "    </tr>\n",
       "  </thead>\n",
       "  <tbody>\n",
       "    <tr>\n",
       "      <th>0</th>\n",
       "      <td>0</td>\n",
       "      <td>O1</td>\n",
       "      <td>C9765</td>\n",
       "      <td>P11660</td>\n",
       "      <td>58.84</td>\n",
       "      <td>0</td>\n",
       "      <td>2021-01-10 10:31:27</td>\n",
       "      <td>2024-05-02T05:39:17.172Z</td>\n",
       "      <td>1672</td>\n",
       "    </tr>\n",
       "    <tr>\n",
       "      <th>1</th>\n",
       "      <td>1</td>\n",
       "      <td>O2</td>\n",
       "      <td>C3674</td>\n",
       "      <td>P6868</td>\n",
       "      <td>71.08</td>\n",
       "      <td>0</td>\n",
       "      <td>2020-03-20 16:47:36</td>\n",
       "      <td>2024-05-02T05:39:17.172Z</td>\n",
       "      <td>1968</td>\n",
       "    </tr>\n",
       "    <tr>\n",
       "      <th>2</th>\n",
       "      <td>2</td>\n",
       "      <td>O3</td>\n",
       "      <td>C2139</td>\n",
       "      <td>P4749</td>\n",
       "      <td>57.17</td>\n",
       "      <td>1</td>\n",
       "      <td>2020-11-01 22:09:22</td>\n",
       "      <td>2024-05-02T05:39:17.172Z</td>\n",
       "      <td>1742</td>\n",
       "    </tr>\n",
       "    <tr>\n",
       "      <th>3</th>\n",
       "      <td>3</td>\n",
       "      <td>O4</td>\n",
       "      <td>C7794</td>\n",
       "      <td>P542</td>\n",
       "      <td>5.35</td>\n",
       "      <td>1</td>\n",
       "      <td>2020-03-22 10:10:38</td>\n",
       "      <td>2024-05-02T05:39:17.172Z</td>\n",
       "      <td>1966</td>\n",
       "    </tr>\n",
       "    <tr>\n",
       "      <th>4</th>\n",
       "      <td>4</td>\n",
       "      <td>O5</td>\n",
       "      <td>C2229</td>\n",
       "      <td>P7605</td>\n",
       "      <td>47.85</td>\n",
       "      <td>1</td>\n",
       "      <td>2021-01-14 01:08:56</td>\n",
       "      <td>2024-05-02T05:39:17.172Z</td>\n",
       "      <td>1668</td>\n",
       "    </tr>\n",
       "  </tbody>\n",
       "</table>\n",
       "</div>"
      ],
      "text/plain": [
       "   Unnamed: 0 order_id customer_id product_id  purchase_amount  is_reordered  \\\n",
       "0           0       O1       C9765     P11660            58.84             0   \n",
       "1           1       O2       C3674      P6868            71.08             0   \n",
       "2           2       O3       C2139      P4749            57.17             1   \n",
       "3           3       O4       C7794       P542             5.35             1   \n",
       "4           4       O5       C2229      P7605            47.85             1   \n",
       "\n",
       "         purchased_on                event_time  n_days_since_last_purchase  \n",
       "0 2021-01-10 10:31:27  2024-05-02T05:39:17.172Z                        1672  \n",
       "1 2020-03-20 16:47:36  2024-05-02T05:39:17.172Z                        1968  \n",
       "2 2020-11-01 22:09:22  2024-05-02T05:39:17.172Z                        1742  \n",
       "3 2020-03-22 10:10:38  2024-05-02T05:39:17.172Z                        1966  \n",
       "4 2021-01-14 01:08:56  2024-05-02T05:39:17.172Z                        1668  "
      ]
     },
     "execution_count": 181,
     "metadata": {},
     "output_type": "execute_result"
    }
   ],
   "source": [
    "orders_df.head()"
   ]
  },
  {
   "cell_type": "code",
   "execution_count": 182,
   "id": "c026fae8-3456-4136-ac36-78371c971dfb",
   "metadata": {
    "execution": {
     "iopub.execute_input": "2025-08-09T20:00:51.536716Z",
     "iopub.status.busy": "2025-08-09T20:00:51.536497Z",
     "iopub.status.idle": "2025-08-09T20:00:51.550476Z",
     "shell.execute_reply": "2025-08-09T20:00:51.549833Z",
     "shell.execute_reply.started": "2025-08-09T20:00:51.536698Z"
    }
   },
   "outputs": [
    {
     "data": {
      "text/html": [
       "<div>\n",
       "<style scoped>\n",
       "    .dataframe tbody tr th:only-of-type {\n",
       "        vertical-align: middle;\n",
       "    }\n",
       "\n",
       "    .dataframe tbody tr th {\n",
       "        vertical-align: top;\n",
       "    }\n",
       "\n",
       "    .dataframe thead th {\n",
       "        text-align: right;\n",
       "    }\n",
       "</style>\n",
       "<table border=\"1\" class=\"dataframe\">\n",
       "  <thead>\n",
       "    <tr style=\"text-align: right;\">\n",
       "      <th></th>\n",
       "      <th>Unnamed: 0</th>\n",
       "      <th>order_id</th>\n",
       "      <th>customer_id</th>\n",
       "      <th>product_id</th>\n",
       "      <th>purchase_amount</th>\n",
       "      <th>is_reordered</th>\n",
       "      <th>purchased_on</th>\n",
       "      <th>event_time</th>\n",
       "      <th>n_days_since_last_purchase</th>\n",
       "    </tr>\n",
       "  </thead>\n",
       "  <tbody>\n",
       "    <tr>\n",
       "      <th>0</th>\n",
       "      <td>0</td>\n",
       "      <td>O1</td>\n",
       "      <td>C9765</td>\n",
       "      <td>P11660</td>\n",
       "      <td>58.84</td>\n",
       "      <td>0</td>\n",
       "      <td>2021-01-10 10:31:27</td>\n",
       "      <td>2024-05-02T05:39:17.172Z</td>\n",
       "      <td>0.273256</td>\n",
       "    </tr>\n",
       "    <tr>\n",
       "      <th>1</th>\n",
       "      <td>1</td>\n",
       "      <td>O2</td>\n",
       "      <td>C3674</td>\n",
       "      <td>P6868</td>\n",
       "      <td>71.08</td>\n",
       "      <td>0</td>\n",
       "      <td>2020-03-20 16:47:36</td>\n",
       "      <td>2024-05-02T05:39:17.172Z</td>\n",
       "      <td>0.846899</td>\n",
       "    </tr>\n",
       "    <tr>\n",
       "      <th>2</th>\n",
       "      <td>2</td>\n",
       "      <td>O3</td>\n",
       "      <td>C2139</td>\n",
       "      <td>P4749</td>\n",
       "      <td>57.17</td>\n",
       "      <td>1</td>\n",
       "      <td>2020-11-01 22:09:22</td>\n",
       "      <td>2024-05-02T05:39:17.172Z</td>\n",
       "      <td>0.408915</td>\n",
       "    </tr>\n",
       "    <tr>\n",
       "      <th>3</th>\n",
       "      <td>3</td>\n",
       "      <td>O4</td>\n",
       "      <td>C7794</td>\n",
       "      <td>P542</td>\n",
       "      <td>5.35</td>\n",
       "      <td>1</td>\n",
       "      <td>2020-03-22 10:10:38</td>\n",
       "      <td>2024-05-02T05:39:17.172Z</td>\n",
       "      <td>0.843023</td>\n",
       "    </tr>\n",
       "    <tr>\n",
       "      <th>4</th>\n",
       "      <td>4</td>\n",
       "      <td>O5</td>\n",
       "      <td>C2229</td>\n",
       "      <td>P7605</td>\n",
       "      <td>47.85</td>\n",
       "      <td>1</td>\n",
       "      <td>2021-01-14 01:08:56</td>\n",
       "      <td>2024-05-02T05:39:17.172Z</td>\n",
       "      <td>0.265504</td>\n",
       "    </tr>\n",
       "  </tbody>\n",
       "</table>\n",
       "</div>"
      ],
      "text/plain": [
       "   Unnamed: 0 order_id customer_id product_id  purchase_amount  is_reordered  \\\n",
       "0           0       O1       C9765     P11660            58.84             0   \n",
       "1           1       O2       C3674      P6868            71.08             0   \n",
       "2           2       O3       C2139      P4749            57.17             1   \n",
       "3           3       O4       C7794       P542             5.35             1   \n",
       "4           4       O5       C2229      P7605            47.85             1   \n",
       "\n",
       "         purchased_on                event_time  n_days_since_last_purchase  \n",
       "0 2021-01-10 10:31:27  2024-05-02T05:39:17.172Z                    0.273256  \n",
       "1 2020-03-20 16:47:36  2024-05-02T05:39:17.172Z                    0.846899  \n",
       "2 2020-11-01 22:09:22  2024-05-02T05:39:17.172Z                    0.408915  \n",
       "3 2020-03-22 10:10:38  2024-05-02T05:39:17.172Z                    0.843023  \n",
       "4 2021-01-14 01:08:56  2024-05-02T05:39:17.172Z                    0.265504  "
      ]
     },
     "execution_count": 182,
     "metadata": {},
     "output_type": "execute_result"
    }
   ],
   "source": [
    "orders_df['n_days_since_last_purchase'] = min_max_scaler.fit_transform(orders_df[['n_days_since_last_purchase']])\n",
    "orders_df.head()"
   ]
  },
  {
   "cell_type": "code",
   "execution_count": 183,
   "id": "816fbb32-d6c3-4220-8615-728188ca0f4a",
   "metadata": {
    "execution": {
     "iopub.execute_input": "2025-08-09T20:00:51.551919Z",
     "iopub.status.busy": "2025-08-09T20:00:51.551234Z",
     "iopub.status.idle": "2025-08-09T20:00:51.558671Z",
     "shell.execute_reply": "2025-08-09T20:00:51.557984Z",
     "shell.execute_reply.started": "2025-08-09T20:00:51.551840Z"
    }
   },
   "outputs": [],
   "source": [
    "orders_df['purchase_amount'] = min_max_scaler.fit_transform(orders_df[['purchase_amount']])"
   ]
  },
  {
   "cell_type": "code",
   "execution_count": 184,
   "id": "392f97c1-4899-4b08-bae4-614d555fb760",
   "metadata": {
    "execution": {
     "iopub.execute_input": "2025-08-09T20:00:51.559736Z",
     "iopub.status.busy": "2025-08-09T20:00:51.559501Z",
     "iopub.status.idle": "2025-08-09T20:00:51.585729Z",
     "shell.execute_reply": "2025-08-09T20:00:51.585010Z",
     "shell.execute_reply.started": "2025-08-09T20:00:51.559717Z"
    }
   },
   "outputs": [
    {
     "name": "stdout",
     "output_type": "stream",
     "text": [
      "<class 'pandas.core.frame.DataFrame'>\n",
      "RangeIndex: 100000 entries, 0 to 99999\n",
      "Data columns (total 9 columns):\n",
      " #   Column                      Non-Null Count   Dtype         \n",
      "---  ------                      --------------   -----         \n",
      " 0   Unnamed: 0                  100000 non-null  int64         \n",
      " 1   order_id                    100000 non-null  object        \n",
      " 2   customer_id                 100000 non-null  object        \n",
      " 3   product_id                  100000 non-null  object        \n",
      " 4   purchase_amount             100000 non-null  float64       \n",
      " 5   is_reordered                100000 non-null  int64         \n",
      " 6   purchased_on                100000 non-null  datetime64[ns]\n",
      " 7   event_time                  100000 non-null  object        \n",
      " 8   n_days_since_last_purchase  100000 non-null  float64       \n",
      "dtypes: datetime64[ns](1), float64(2), int64(2), object(4)\n",
      "memory usage: 6.9+ MB\n"
     ]
    }
   ],
   "source": [
    "orders_df.info()"
   ]
  },
  {
   "cell_type": "code",
   "execution_count": 185,
   "id": "72b3589c-f058-4326-8a4d-6177de1ee778",
   "metadata": {
    "execution": {
     "iopub.execute_input": "2025-08-09T20:00:51.586744Z",
     "iopub.status.busy": "2025-08-09T20:00:51.586513Z",
     "iopub.status.idle": "2025-08-09T20:00:51.592575Z",
     "shell.execute_reply": "2025-08-09T20:00:51.591934Z",
     "shell.execute_reply.started": "2025-08-09T20:00:51.586725Z"
    }
   },
   "outputs": [
    {
     "data": {
      "text/plain": [
       "is_reordered\n",
       "1    66509\n",
       "0    33491\n",
       "Name: count, dtype: int64"
      ]
     },
     "execution_count": 185,
     "metadata": {},
     "output_type": "execute_result"
    }
   ],
   "source": [
    "orders_df['is_reordered'].value_counts()"
   ]
  },
  {
   "cell_type": "code",
   "execution_count": 186,
   "id": "789f5dfd-b4df-4229-b3c2-acf14fbfe896",
   "metadata": {
    "execution": {
     "iopub.execute_input": "2025-08-09T20:00:51.593479Z",
     "iopub.status.busy": "2025-08-09T20:00:51.593254Z",
     "iopub.status.idle": "2025-08-09T20:00:51.603707Z",
     "shell.execute_reply": "2025-08-09T20:00:51.602944Z",
     "shell.execute_reply.started": "2025-08-09T20:00:51.593460Z"
    }
   },
   "outputs": [
    {
     "data": {
      "text/html": [
       "<div>\n",
       "<style scoped>\n",
       "    .dataframe tbody tr th:only-of-type {\n",
       "        vertical-align: middle;\n",
       "    }\n",
       "\n",
       "    .dataframe tbody tr th {\n",
       "        vertical-align: top;\n",
       "    }\n",
       "\n",
       "    .dataframe thead th {\n",
       "        text-align: right;\n",
       "    }\n",
       "</style>\n",
       "<table border=\"1\" class=\"dataframe\">\n",
       "  <thead>\n",
       "    <tr style=\"text-align: right;\">\n",
       "      <th></th>\n",
       "      <th>Unnamed: 0</th>\n",
       "      <th>order_id</th>\n",
       "      <th>customer_id</th>\n",
       "      <th>product_id</th>\n",
       "      <th>purchase_amount</th>\n",
       "      <th>is_reordered</th>\n",
       "      <th>purchased_on</th>\n",
       "      <th>event_time</th>\n",
       "      <th>n_days_since_last_purchase</th>\n",
       "    </tr>\n",
       "  </thead>\n",
       "  <tbody>\n",
       "    <tr>\n",
       "      <th>0</th>\n",
       "      <td>0</td>\n",
       "      <td>O1</td>\n",
       "      <td>C9765</td>\n",
       "      <td>P11660</td>\n",
       "      <td>0.572673</td>\n",
       "      <td>0</td>\n",
       "      <td>2021-01-10 10:31:27</td>\n",
       "      <td>2024-05-02T05:39:17.172Z</td>\n",
       "      <td>0.273256</td>\n",
       "    </tr>\n",
       "    <tr>\n",
       "      <th>1</th>\n",
       "      <td>1</td>\n",
       "      <td>O2</td>\n",
       "      <td>C3674</td>\n",
       "      <td>P6868</td>\n",
       "      <td>0.693861</td>\n",
       "      <td>0</td>\n",
       "      <td>2020-03-20 16:47:36</td>\n",
       "      <td>2024-05-02T05:39:17.172Z</td>\n",
       "      <td>0.846899</td>\n",
       "    </tr>\n",
       "    <tr>\n",
       "      <th>2</th>\n",
       "      <td>2</td>\n",
       "      <td>O3</td>\n",
       "      <td>C2139</td>\n",
       "      <td>P4749</td>\n",
       "      <td>0.556139</td>\n",
       "      <td>1</td>\n",
       "      <td>2020-11-01 22:09:22</td>\n",
       "      <td>2024-05-02T05:39:17.172Z</td>\n",
       "      <td>0.408915</td>\n",
       "    </tr>\n",
       "    <tr>\n",
       "      <th>3</th>\n",
       "      <td>3</td>\n",
       "      <td>O4</td>\n",
       "      <td>C7794</td>\n",
       "      <td>P542</td>\n",
       "      <td>0.043069</td>\n",
       "      <td>1</td>\n",
       "      <td>2020-03-22 10:10:38</td>\n",
       "      <td>2024-05-02T05:39:17.172Z</td>\n",
       "      <td>0.843023</td>\n",
       "    </tr>\n",
       "    <tr>\n",
       "      <th>4</th>\n",
       "      <td>4</td>\n",
       "      <td>O5</td>\n",
       "      <td>C2229</td>\n",
       "      <td>P7605</td>\n",
       "      <td>0.463861</td>\n",
       "      <td>1</td>\n",
       "      <td>2021-01-14 01:08:56</td>\n",
       "      <td>2024-05-02T05:39:17.172Z</td>\n",
       "      <td>0.265504</td>\n",
       "    </tr>\n",
       "  </tbody>\n",
       "</table>\n",
       "</div>"
      ],
      "text/plain": [
       "   Unnamed: 0 order_id customer_id product_id  purchase_amount  is_reordered  \\\n",
       "0           0       O1       C9765     P11660         0.572673             0   \n",
       "1           1       O2       C3674      P6868         0.693861             0   \n",
       "2           2       O3       C2139      P4749         0.556139             1   \n",
       "3           3       O4       C7794       P542         0.043069             1   \n",
       "4           4       O5       C2229      P7605         0.463861             1   \n",
       "\n",
       "         purchased_on                event_time  n_days_since_last_purchase  \n",
       "0 2021-01-10 10:31:27  2024-05-02T05:39:17.172Z                    0.273256  \n",
       "1 2020-03-20 16:47:36  2024-05-02T05:39:17.172Z                    0.846899  \n",
       "2 2020-11-01 22:09:22  2024-05-02T05:39:17.172Z                    0.408915  \n",
       "3 2020-03-22 10:10:38  2024-05-02T05:39:17.172Z                    0.843023  \n",
       "4 2021-01-14 01:08:56  2024-05-02T05:39:17.172Z                    0.265504  "
      ]
     },
     "execution_count": 186,
     "metadata": {},
     "output_type": "execute_result"
    }
   ],
   "source": [
    "orders_df.head()"
   ]
  },
  {
   "cell_type": "code",
   "execution_count": 187,
   "id": "b4e8a376-e4ae-429d-9a2f-b8354cc68deb",
   "metadata": {
    "execution": {
     "iopub.execute_input": "2025-08-09T20:00:51.604676Z",
     "iopub.status.busy": "2025-08-09T20:00:51.604447Z",
     "iopub.status.idle": "2025-08-09T20:00:51.622270Z",
     "shell.execute_reply": "2025-08-09T20:00:51.621509Z",
     "shell.execute_reply.started": "2025-08-09T20:00:51.604656Z"
    }
   },
   "outputs": [],
   "source": [
    "orders_df.drop(columns=\"purchased_on\", inplace=True)\n",
    "orders_df = orders_df.drop(columns=['Unnamed: 0'], errors='ignore')"
   ]
  },
  {
   "cell_type": "code",
   "execution_count": 188,
   "id": "6e08a00f-1747-455b-b1e3-e37fd51d20b7",
   "metadata": {
    "execution": {
     "iopub.execute_input": "2025-08-09T20:00:51.623302Z",
     "iopub.status.busy": "2025-08-09T20:00:51.623067Z",
     "iopub.status.idle": "2025-08-09T20:00:51.633955Z",
     "shell.execute_reply": "2025-08-09T20:00:51.633220Z",
     "shell.execute_reply.started": "2025-08-09T20:00:51.623283Z"
    }
   },
   "outputs": [
    {
     "data": {
      "text/html": [
       "<div>\n",
       "<style scoped>\n",
       "    .dataframe tbody tr th:only-of-type {\n",
       "        vertical-align: middle;\n",
       "    }\n",
       "\n",
       "    .dataframe tbody tr th {\n",
       "        vertical-align: top;\n",
       "    }\n",
       "\n",
       "    .dataframe thead th {\n",
       "        text-align: right;\n",
       "    }\n",
       "</style>\n",
       "<table border=\"1\" class=\"dataframe\">\n",
       "  <thead>\n",
       "    <tr style=\"text-align: right;\">\n",
       "      <th></th>\n",
       "      <th>order_id</th>\n",
       "      <th>customer_id</th>\n",
       "      <th>product_id</th>\n",
       "      <th>purchase_amount</th>\n",
       "      <th>is_reordered</th>\n",
       "      <th>event_time</th>\n",
       "      <th>n_days_since_last_purchase</th>\n",
       "    </tr>\n",
       "  </thead>\n",
       "  <tbody>\n",
       "    <tr>\n",
       "      <th>0</th>\n",
       "      <td>O1</td>\n",
       "      <td>C9765</td>\n",
       "      <td>P11660</td>\n",
       "      <td>0.572673</td>\n",
       "      <td>0</td>\n",
       "      <td>2024-05-02T05:39:17.172Z</td>\n",
       "      <td>0.273256</td>\n",
       "    </tr>\n",
       "    <tr>\n",
       "      <th>1</th>\n",
       "      <td>O2</td>\n",
       "      <td>C3674</td>\n",
       "      <td>P6868</td>\n",
       "      <td>0.693861</td>\n",
       "      <td>0</td>\n",
       "      <td>2024-05-02T05:39:17.172Z</td>\n",
       "      <td>0.846899</td>\n",
       "    </tr>\n",
       "    <tr>\n",
       "      <th>2</th>\n",
       "      <td>O3</td>\n",
       "      <td>C2139</td>\n",
       "      <td>P4749</td>\n",
       "      <td>0.556139</td>\n",
       "      <td>1</td>\n",
       "      <td>2024-05-02T05:39:17.172Z</td>\n",
       "      <td>0.408915</td>\n",
       "    </tr>\n",
       "    <tr>\n",
       "      <th>3</th>\n",
       "      <td>O4</td>\n",
       "      <td>C7794</td>\n",
       "      <td>P542</td>\n",
       "      <td>0.043069</td>\n",
       "      <td>1</td>\n",
       "      <td>2024-05-02T05:39:17.172Z</td>\n",
       "      <td>0.843023</td>\n",
       "    </tr>\n",
       "    <tr>\n",
       "      <th>4</th>\n",
       "      <td>O5</td>\n",
       "      <td>C2229</td>\n",
       "      <td>P7605</td>\n",
       "      <td>0.463861</td>\n",
       "      <td>1</td>\n",
       "      <td>2024-05-02T05:39:17.172Z</td>\n",
       "      <td>0.265504</td>\n",
       "    </tr>\n",
       "  </tbody>\n",
       "</table>\n",
       "</div>"
      ],
      "text/plain": [
       "  order_id customer_id product_id  purchase_amount  is_reordered  \\\n",
       "0       O1       C9765     P11660         0.572673             0   \n",
       "1       O2       C3674      P6868         0.693861             0   \n",
       "2       O3       C2139      P4749         0.556139             1   \n",
       "3       O4       C7794       P542         0.043069             1   \n",
       "4       O5       C2229      P7605         0.463861             1   \n",
       "\n",
       "                 event_time  n_days_since_last_purchase  \n",
       "0  2024-05-02T05:39:17.172Z                    0.273256  \n",
       "1  2024-05-02T05:39:17.172Z                    0.846899  \n",
       "2  2024-05-02T05:39:17.172Z                    0.408915  \n",
       "3  2024-05-02T05:39:17.172Z                    0.843023  \n",
       "4  2024-05-02T05:39:17.172Z                    0.265504  "
      ]
     },
     "execution_count": 188,
     "metadata": {},
     "output_type": "execute_result"
    }
   ],
   "source": [
    "orders_df.head()"
   ]
  },
  {
   "cell_type": "code",
   "execution_count": 189,
   "id": "fe46c0b8-cff3-4a9a-9bf0-9fb1b3b8ae04",
   "metadata": {
    "execution": {
     "iopub.execute_input": "2025-08-09T20:00:51.634929Z",
     "iopub.status.busy": "2025-08-09T20:00:51.634697Z",
     "iopub.status.idle": "2025-08-09T20:00:52.134063Z",
     "shell.execute_reply": "2025-08-09T20:00:52.133205Z",
     "shell.execute_reply.started": "2025-08-09T20:00:51.634909Z"
    }
   },
   "outputs": [],
   "source": [
    "orders_df.to_csv(\"transformed/orders.csv\", index=False)"
   ]
  },
  {
   "cell_type": "markdown",
   "id": "fb9078b9-bc36-403c-9073-5248c81c199d",
   "metadata": {},
   "source": [
    "## Step 3: Feature Store Setup and Configuration"
   ]
  },
  {
   "cell_type": "markdown",
   "id": "1f6d416a-9c8f-4eef-b9c7-59438a3877b7",
   "metadata": {
    "jp-MarkdownHeadingCollapsed": true
   },
   "source": [
    "### Step 3.1 Prepare Environment"
   ]
  },
  {
   "cell_type": "code",
   "execution_count": 190,
   "id": "cbf62daf-3ef6-4c84-ac23-876575cfe238",
   "metadata": {
    "execution": {
     "iopub.execute_input": "2025-08-09T20:00:52.135158Z",
     "iopub.status.busy": "2025-08-09T20:00:52.134943Z",
     "iopub.status.idle": "2025-08-09T20:00:52.138641Z",
     "shell.execute_reply": "2025-08-09T20:00:52.137725Z",
     "shell.execute_reply.started": "2025-08-09T20:00:52.135139Z"
    }
   },
   "outputs": [],
   "source": [
    "import sagemaker\n",
    "import boto3\n",
    "import sys\n",
    "import pandas as pd\n",
    "import numpy as np \n",
    "import io \n",
    "from sagemaker.session import Session\n",
    "from sagemaker import get_execution_role"
   ]
  },
  {
   "cell_type": "code",
   "execution_count": 191,
   "id": "58e0f853-6783-44e8-bbfe-c15fa4f6d157",
   "metadata": {
    "execution": {
     "iopub.execute_input": "2025-08-09T20:00:52.139702Z",
     "iopub.status.busy": "2025-08-09T20:00:52.139486Z",
     "iopub.status.idle": "2025-08-09T20:00:52.664784Z",
     "shell.execute_reply": "2025-08-09T20:00:52.664021Z",
     "shell.execute_reply.started": "2025-08-09T20:00:52.139683Z"
    }
   },
   "outputs": [],
   "source": [
    "prefix = \"customer-feature-store\"\n",
    "role = get_execution_role()\n",
    "sagemaker_session = Session() \n",
    "region = sagemaker_session.boto_region_name\n",
    "s3_bucket_name = sagemaker_session.default_bucket()"
   ]
  },
  {
   "cell_type": "markdown",
   "id": "2cfb2743-4ca5-496e-af16-2f2896dd1d0d",
   "metadata": {
    "jp-MarkdownHeadingCollapsed": true
   },
   "source": [
    "### Step 3.2: Load Transformed Data"
   ]
  },
  {
   "cell_type": "code",
   "execution_count": 192,
   "id": "9c81f142-9311-424f-bc4b-d219b8a3e59c",
   "metadata": {
    "execution": {
     "iopub.execute_input": "2025-08-09T20:00:52.666085Z",
     "iopub.status.busy": "2025-08-09T20:00:52.665533Z",
     "iopub.status.idle": "2025-08-09T20:00:52.866581Z",
     "shell.execute_reply": "2025-08-09T20:00:52.865795Z",
     "shell.execute_reply.started": "2025-08-09T20:00:52.666059Z"
    }
   },
   "outputs": [],
   "source": [
    "# Load the Data \n",
    "customer_data = pd.read_csv(\"transformed/customers.csv\") \n",
    "orders_data = pd.read_csv(\"transformed/orders.csv\")"
   ]
  },
  {
   "cell_type": "code",
   "execution_count": 193,
   "id": "93339478-fb6e-4c37-9cc2-bc99a7df33b1",
   "metadata": {
    "execution": {
     "iopub.execute_input": "2025-08-09T20:00:52.868087Z",
     "iopub.status.busy": "2025-08-09T20:00:52.867434Z",
     "iopub.status.idle": "2025-08-09T20:00:52.877668Z",
     "shell.execute_reply": "2025-08-09T20:00:52.877017Z",
     "shell.execute_reply.started": "2025-08-09T20:00:52.868061Z"
    }
   },
   "outputs": [
    {
     "data": {
      "text/html": [
       "<div>\n",
       "<style scoped>\n",
       "    .dataframe tbody tr th:only-of-type {\n",
       "        vertical-align: middle;\n",
       "    }\n",
       "\n",
       "    .dataframe tbody tr th {\n",
       "        vertical-align: top;\n",
       "    }\n",
       "\n",
       "    .dataframe thead th {\n",
       "        text-align: right;\n",
       "    }\n",
       "</style>\n",
       "<table border=\"1\" class=\"dataframe\">\n",
       "  <thead>\n",
       "    <tr style=\"text-align: right;\">\n",
       "      <th></th>\n",
       "      <th>customer_id</th>\n",
       "      <th>sex</th>\n",
       "      <th>is_married</th>\n",
       "      <th>event_time</th>\n",
       "      <th>age_18-29</th>\n",
       "      <th>age_30-39</th>\n",
       "      <th>age_40-49</th>\n",
       "      <th>age_50-59</th>\n",
       "      <th>age_60-69</th>\n",
       "      <th>age_70-plus</th>\n",
       "      <th>n_days_active</th>\n",
       "    </tr>\n",
       "  </thead>\n",
       "  <tbody>\n",
       "    <tr>\n",
       "      <th>0</th>\n",
       "      <td>C1</td>\n",
       "      <td>0</td>\n",
       "      <td>1</td>\n",
       "      <td>2024-05-02T05:39:10.965Z</td>\n",
       "      <td>0</td>\n",
       "      <td>0</td>\n",
       "      <td>0</td>\n",
       "      <td>0</td>\n",
       "      <td>0</td>\n",
       "      <td>1</td>\n",
       "      <td>0.203425</td>\n",
       "    </tr>\n",
       "    <tr>\n",
       "      <th>1</th>\n",
       "      <td>C2</td>\n",
       "      <td>1</td>\n",
       "      <td>1</td>\n",
       "      <td>2024-05-02T05:39:10.966Z</td>\n",
       "      <td>0</td>\n",
       "      <td>0</td>\n",
       "      <td>0</td>\n",
       "      <td>0</td>\n",
       "      <td>0</td>\n",
       "      <td>1</td>\n",
       "      <td>0.859589</td>\n",
       "    </tr>\n",
       "    <tr>\n",
       "      <th>2</th>\n",
       "      <td>C3</td>\n",
       "      <td>1</td>\n",
       "      <td>1</td>\n",
       "      <td>2024-05-02T05:39:10.967Z</td>\n",
       "      <td>0</td>\n",
       "      <td>1</td>\n",
       "      <td>0</td>\n",
       "      <td>0</td>\n",
       "      <td>0</td>\n",
       "      <td>0</td>\n",
       "      <td>0.527397</td>\n",
       "    </tr>\n",
       "    <tr>\n",
       "      <th>3</th>\n",
       "      <td>C4</td>\n",
       "      <td>1</td>\n",
       "      <td>0</td>\n",
       "      <td>2024-05-02T05:39:10.967Z</td>\n",
       "      <td>0</td>\n",
       "      <td>0</td>\n",
       "      <td>0</td>\n",
       "      <td>0</td>\n",
       "      <td>1</td>\n",
       "      <td>0</td>\n",
       "      <td>0.780822</td>\n",
       "    </tr>\n",
       "    <tr>\n",
       "      <th>4</th>\n",
       "      <td>C5</td>\n",
       "      <td>1</td>\n",
       "      <td>0</td>\n",
       "      <td>2024-05-02T05:39:10.968Z</td>\n",
       "      <td>0</td>\n",
       "      <td>0</td>\n",
       "      <td>0</td>\n",
       "      <td>0</td>\n",
       "      <td>1</td>\n",
       "      <td>0</td>\n",
       "      <td>0.691096</td>\n",
       "    </tr>\n",
       "  </tbody>\n",
       "</table>\n",
       "</div>"
      ],
      "text/plain": [
       "  customer_id  sex  is_married                event_time  age_18-29  \\\n",
       "0          C1    0           1  2024-05-02T05:39:10.965Z          0   \n",
       "1          C2    1           1  2024-05-02T05:39:10.966Z          0   \n",
       "2          C3    1           1  2024-05-02T05:39:10.967Z          0   \n",
       "3          C4    1           0  2024-05-02T05:39:10.967Z          0   \n",
       "4          C5    1           0  2024-05-02T05:39:10.968Z          0   \n",
       "\n",
       "   age_30-39  age_40-49  age_50-59  age_60-69  age_70-plus  n_days_active  \n",
       "0          0          0          0          0            1       0.203425  \n",
       "1          0          0          0          0            1       0.859589  \n",
       "2          1          0          0          0            0       0.527397  \n",
       "3          0          0          0          1            0       0.780822  \n",
       "4          0          0          0          1            0       0.691096  "
      ]
     },
     "execution_count": 193,
     "metadata": {},
     "output_type": "execute_result"
    }
   ],
   "source": [
    "customer_data.head()"
   ]
  },
  {
   "cell_type": "code",
   "execution_count": 194,
   "id": "edcd6a63-cfc5-4a6e-a40f-7818186e492e",
   "metadata": {
    "execution": {
     "iopub.execute_input": "2025-08-09T20:00:52.879059Z",
     "iopub.status.busy": "2025-08-09T20:00:52.878563Z",
     "iopub.status.idle": "2025-08-09T20:00:52.888556Z",
     "shell.execute_reply": "2025-08-09T20:00:52.887694Z",
     "shell.execute_reply.started": "2025-08-09T20:00:52.879033Z"
    }
   },
   "outputs": [
    {
     "data": {
      "text/html": [
       "<div>\n",
       "<style scoped>\n",
       "    .dataframe tbody tr th:only-of-type {\n",
       "        vertical-align: middle;\n",
       "    }\n",
       "\n",
       "    .dataframe tbody tr th {\n",
       "        vertical-align: top;\n",
       "    }\n",
       "\n",
       "    .dataframe thead th {\n",
       "        text-align: right;\n",
       "    }\n",
       "</style>\n",
       "<table border=\"1\" class=\"dataframe\">\n",
       "  <thead>\n",
       "    <tr style=\"text-align: right;\">\n",
       "      <th></th>\n",
       "      <th>order_id</th>\n",
       "      <th>customer_id</th>\n",
       "      <th>product_id</th>\n",
       "      <th>purchase_amount</th>\n",
       "      <th>is_reordered</th>\n",
       "      <th>event_time</th>\n",
       "      <th>n_days_since_last_purchase</th>\n",
       "    </tr>\n",
       "  </thead>\n",
       "  <tbody>\n",
       "    <tr>\n",
       "      <th>0</th>\n",
       "      <td>O1</td>\n",
       "      <td>C9765</td>\n",
       "      <td>P11660</td>\n",
       "      <td>0.572673</td>\n",
       "      <td>0</td>\n",
       "      <td>2024-05-02T05:39:17.172Z</td>\n",
       "      <td>0.273256</td>\n",
       "    </tr>\n",
       "    <tr>\n",
       "      <th>1</th>\n",
       "      <td>O2</td>\n",
       "      <td>C3674</td>\n",
       "      <td>P6868</td>\n",
       "      <td>0.693861</td>\n",
       "      <td>0</td>\n",
       "      <td>2024-05-02T05:39:17.172Z</td>\n",
       "      <td>0.846899</td>\n",
       "    </tr>\n",
       "    <tr>\n",
       "      <th>2</th>\n",
       "      <td>O3</td>\n",
       "      <td>C2139</td>\n",
       "      <td>P4749</td>\n",
       "      <td>0.556139</td>\n",
       "      <td>1</td>\n",
       "      <td>2024-05-02T05:39:17.172Z</td>\n",
       "      <td>0.408915</td>\n",
       "    </tr>\n",
       "    <tr>\n",
       "      <th>3</th>\n",
       "      <td>O4</td>\n",
       "      <td>C7794</td>\n",
       "      <td>P542</td>\n",
       "      <td>0.043069</td>\n",
       "      <td>1</td>\n",
       "      <td>2024-05-02T05:39:17.172Z</td>\n",
       "      <td>0.843023</td>\n",
       "    </tr>\n",
       "    <tr>\n",
       "      <th>4</th>\n",
       "      <td>O5</td>\n",
       "      <td>C2229</td>\n",
       "      <td>P7605</td>\n",
       "      <td>0.463861</td>\n",
       "      <td>1</td>\n",
       "      <td>2024-05-02T05:39:17.172Z</td>\n",
       "      <td>0.265504</td>\n",
       "    </tr>\n",
       "  </tbody>\n",
       "</table>\n",
       "</div>"
      ],
      "text/plain": [
       "  order_id customer_id product_id  purchase_amount  is_reordered  \\\n",
       "0       O1       C9765     P11660         0.572673             0   \n",
       "1       O2       C3674      P6868         0.693861             0   \n",
       "2       O3       C2139      P4749         0.556139             1   \n",
       "3       O4       C7794       P542         0.043069             1   \n",
       "4       O5       C2229      P7605         0.463861             1   \n",
       "\n",
       "                 event_time  n_days_since_last_purchase  \n",
       "0  2024-05-02T05:39:17.172Z                    0.273256  \n",
       "1  2024-05-02T05:39:17.172Z                    0.846899  \n",
       "2  2024-05-02T05:39:17.172Z                    0.408915  \n",
       "3  2024-05-02T05:39:17.172Z                    0.843023  \n",
       "4  2024-05-02T05:39:17.172Z                    0.265504  "
      ]
     },
     "execution_count": 194,
     "metadata": {},
     "output_type": "execute_result"
    }
   ],
   "source": [
    "orders_data.head()"
   ]
  },
  {
   "cell_type": "markdown",
   "id": "e3b586a5-cfcd-4cef-942e-9758196112be",
   "metadata": {
    "execution": {
     "iopub.execute_input": "2025-08-09T18:56:52.573546Z",
     "iopub.status.busy": "2025-08-09T18:56:52.573271Z",
     "iopub.status.idle": "2025-08-09T18:56:52.577091Z",
     "shell.execute_reply": "2025-08-09T18:56:52.576317Z",
     "shell.execute_reply.started": "2025-08-09T18:56:52.573525Z"
    }
   },
   "source": [
    "### Step 3.3: Create Feature Groups"
   ]
  },
  {
   "cell_type": "code",
   "execution_count": 203,
   "id": "10c502be-ec6b-4f5f-a85d-f875f0f47a8a",
   "metadata": {
    "execution": {
     "iopub.execute_input": "2025-08-09T20:01:54.709659Z",
     "iopub.status.busy": "2025-08-09T20:01:54.708980Z",
     "iopub.status.idle": "2025-08-09T20:01:54.713290Z",
     "shell.execute_reply": "2025-08-09T20:01:54.712759Z",
     "shell.execute_reply.started": "2025-08-09T20:01:54.709633Z"
    }
   },
   "outputs": [
    {
     "name": "stdout",
     "output_type": "stream",
     "text": [
      "Customer Feature Group Name: customers-feature-group\n",
      "Orders Feature Group Name: orders-feature-group\n"
     ]
    }
   ],
   "source": [
    "# Create feature group\n",
    "from time import gmtime, strftime, sleep\n",
    "\n",
    "customers_feature_group_name = \"customers-feature-group\" \n",
    "orders_feature_group_name = \"orders-feature-group\"\n",
    "print(f\"Customer Feature Group Name: {customers_feature_group_name}\")\n",
    "print(f\"Orders Feature Group Name: {orders_feature_group_name}\")"
   ]
  },
  {
   "cell_type": "code",
   "execution_count": 204,
   "id": "3a5fffb0-fe46-4a34-b22a-380383140a57",
   "metadata": {
    "execution": {
     "iopub.execute_input": "2025-08-09T20:01:54.714764Z",
     "iopub.status.busy": "2025-08-09T20:01:54.714328Z",
     "iopub.status.idle": "2025-08-09T20:01:54.718390Z",
     "shell.execute_reply": "2025-08-09T20:01:54.717773Z",
     "shell.execute_reply.started": "2025-08-09T20:01:54.714745Z"
    }
   },
   "outputs": [],
   "source": [
    "from sagemaker.feature_store.feature_group import FeatureGroup\n",
    "\n",
    "customers_feature_group = FeatureGroup(name=customers_feature_group_name , \n",
    "                                       sagemaker_session = sagemaker_session)\n",
    "\n",
    "orders_feature_group = FeatureGroup(name=orders_feature_group_name, description=\"Test\", sagemaker_session = sagemaker_session)"
   ]
  },
  {
   "cell_type": "code",
   "execution_count": 205,
   "id": "dc904b7c-1c2e-4e13-b760-cfee4e0c5bdf",
   "metadata": {
    "execution": {
     "iopub.execute_input": "2025-08-09T20:01:54.719639Z",
     "iopub.status.busy": "2025-08-09T20:01:54.719264Z",
     "iopub.status.idle": "2025-08-09T20:01:54.723927Z",
     "shell.execute_reply": "2025-08-09T20:01:54.723268Z",
     "shell.execute_reply.started": "2025-08-09T20:01:54.719615Z"
    }
   },
   "outputs": [],
   "source": [
    "record_identifier_feature_name = \"customer_id\""
   ]
  },
  {
   "cell_type": "code",
   "execution_count": 206,
   "id": "364aa74c-9d84-48fd-aba4-b8b7e8fb5645",
   "metadata": {
    "execution": {
     "iopub.execute_input": "2025-08-09T20:01:54.725181Z",
     "iopub.status.busy": "2025-08-09T20:01:54.724663Z",
     "iopub.status.idle": "2025-08-09T20:01:54.734526Z",
     "shell.execute_reply": "2025-08-09T20:01:54.733913Z",
     "shell.execute_reply.started": "2025-08-09T20:01:54.725159Z"
    }
   },
   "outputs": [
    {
     "name": "stdout",
     "output_type": "stream",
     "text": [
      "<class 'pandas.core.frame.DataFrame'>\n",
      "RangeIndex: 10000 entries, 0 to 9999\n",
      "Data columns (total 11 columns):\n",
      " #   Column         Non-Null Count  Dtype  \n",
      "---  ------         --------------  -----  \n",
      " 0   customer_id    10000 non-null  object \n",
      " 1   sex            10000 non-null  int64  \n",
      " 2   is_married     10000 non-null  int64  \n",
      " 3   event_time     10000 non-null  object \n",
      " 4   age_18-29      10000 non-null  int64  \n",
      " 5   age_30-39      10000 non-null  int64  \n",
      " 6   age_40-49      10000 non-null  int64  \n",
      " 7   age_50-59      10000 non-null  int64  \n",
      " 8   age_60-69      10000 non-null  int64  \n",
      " 9   age_70-plus    10000 non-null  int64  \n",
      " 10  n_days_active  10000 non-null  float64\n",
      "dtypes: float64(1), int64(8), object(2)\n",
      "memory usage: 859.5+ KB\n"
     ]
    }
   ],
   "source": [
    "customer_data.info()"
   ]
  },
  {
   "cell_type": "code",
   "execution_count": 207,
   "id": "ec1a845c-50a6-4e14-b9e0-cba8615ca97e",
   "metadata": {
    "execution": {
     "iopub.execute_input": "2025-08-09T20:01:54.735845Z",
     "iopub.status.busy": "2025-08-09T20:01:54.735514Z",
     "iopub.status.idle": "2025-08-09T20:01:54.761278Z",
     "shell.execute_reply": "2025-08-09T20:01:54.760685Z",
     "shell.execute_reply.started": "2025-08-09T20:01:54.735825Z"
    }
   },
   "outputs": [
    {
     "name": "stdout",
     "output_type": "stream",
     "text": [
      "<class 'pandas.core.frame.DataFrame'>\n",
      "RangeIndex: 100000 entries, 0 to 99999\n",
      "Data columns (total 7 columns):\n",
      " #   Column                      Non-Null Count   Dtype  \n",
      "---  ------                      --------------   -----  \n",
      " 0   order_id                    100000 non-null  object \n",
      " 1   customer_id                 100000 non-null  object \n",
      " 2   product_id                  100000 non-null  object \n",
      " 3   purchase_amount             100000 non-null  float64\n",
      " 4   is_reordered                100000 non-null  int64  \n",
      " 5   event_time                  100000 non-null  object \n",
      " 6   n_days_since_last_purchase  100000 non-null  float64\n",
      "dtypes: float64(2), int64(1), object(4)\n",
      "memory usage: 5.3+ MB\n"
     ]
    }
   ],
   "source": [
    "orders_data.info()"
   ]
  },
  {
   "cell_type": "code",
   "execution_count": 208,
   "id": "41ec5c33-cb00-4b71-894e-e98a930bdc0b",
   "metadata": {
    "execution": {
     "iopub.execute_input": "2025-08-09T20:01:54.762447Z",
     "iopub.status.busy": "2025-08-09T20:01:54.762223Z",
     "iopub.status.idle": "2025-08-09T20:01:54.766650Z",
     "shell.execute_reply": "2025-08-09T20:01:54.765963Z",
     "shell.execute_reply.started": "2025-08-09T20:01:54.762427Z"
    }
   },
   "outputs": [
    {
     "data": {
      "text/plain": [
       "[FeatureDefinition(feature_name='customer_id', feature_type=<FeatureTypeEnum.STRING: 'String'>, collection_type=None),\n",
       " FeatureDefinition(feature_name='sex', feature_type=<FeatureTypeEnum.INTEGRAL: 'Integral'>, collection_type=None),\n",
       " FeatureDefinition(feature_name='is_married', feature_type=<FeatureTypeEnum.INTEGRAL: 'Integral'>, collection_type=None),\n",
       " FeatureDefinition(feature_name='event_time', feature_type=<FeatureTypeEnum.STRING: 'String'>, collection_type=None),\n",
       " FeatureDefinition(feature_name='age_18-29', feature_type=<FeatureTypeEnum.INTEGRAL: 'Integral'>, collection_type=None),\n",
       " FeatureDefinition(feature_name='age_30-39', feature_type=<FeatureTypeEnum.INTEGRAL: 'Integral'>, collection_type=None),\n",
       " FeatureDefinition(feature_name='age_40-49', feature_type=<FeatureTypeEnum.INTEGRAL: 'Integral'>, collection_type=None),\n",
       " FeatureDefinition(feature_name='age_50-59', feature_type=<FeatureTypeEnum.INTEGRAL: 'Integral'>, collection_type=None),\n",
       " FeatureDefinition(feature_name='age_60-69', feature_type=<FeatureTypeEnum.INTEGRAL: 'Integral'>, collection_type=None),\n",
       " FeatureDefinition(feature_name='age_70-plus', feature_type=<FeatureTypeEnum.INTEGRAL: 'Integral'>, collection_type=None),\n",
       " FeatureDefinition(feature_name='n_days_active', feature_type=<FeatureTypeEnum.FRACTIONAL: 'Fractional'>, collection_type=None)]"
      ]
     },
     "execution_count": 208,
     "metadata": {},
     "output_type": "execute_result"
    }
   ],
   "source": [
    "# Load Customer Feature definitions\n",
    "customers_feature_group.load_feature_definitions(data_frame = customer_data)"
   ]
  },
  {
   "cell_type": "code",
   "execution_count": 209,
   "id": "46d3d2fc-30c9-43f2-b80f-bb03f413649c",
   "metadata": {
    "execution": {
     "iopub.execute_input": "2025-08-09T20:01:54.768082Z",
     "iopub.status.busy": "2025-08-09T20:01:54.767809Z",
     "iopub.status.idle": "2025-08-09T20:01:54.773221Z",
     "shell.execute_reply": "2025-08-09T20:01:54.772602Z",
     "shell.execute_reply.started": "2025-08-09T20:01:54.768060Z"
    }
   },
   "outputs": [
    {
     "data": {
      "text/plain": [
       "[FeatureDefinition(feature_name='order_id', feature_type=<FeatureTypeEnum.STRING: 'String'>, collection_type=None),\n",
       " FeatureDefinition(feature_name='customer_id', feature_type=<FeatureTypeEnum.STRING: 'String'>, collection_type=None),\n",
       " FeatureDefinition(feature_name='product_id', feature_type=<FeatureTypeEnum.STRING: 'String'>, collection_type=None),\n",
       " FeatureDefinition(feature_name='purchase_amount', feature_type=<FeatureTypeEnum.FRACTIONAL: 'Fractional'>, collection_type=None),\n",
       " FeatureDefinition(feature_name='is_reordered', feature_type=<FeatureTypeEnum.INTEGRAL: 'Integral'>, collection_type=None),\n",
       " FeatureDefinition(feature_name='event_time', feature_type=<FeatureTypeEnum.STRING: 'String'>, collection_type=None),\n",
       " FeatureDefinition(feature_name='n_days_since_last_purchase', feature_type=<FeatureTypeEnum.FRACTIONAL: 'Fractional'>, collection_type=None)]"
      ]
     },
     "execution_count": 209,
     "metadata": {},
     "output_type": "execute_result"
    }
   ],
   "source": [
    "# Load Order Feature definitions\n",
    "orders_feature_group.load_feature_definitions(data_frame = orders_data)"
   ]
  },
  {
   "cell_type": "code",
   "execution_count": 210,
   "id": "905e8674-977c-4fed-a501-1cdfd414f301",
   "metadata": {
    "execution": {
     "iopub.execute_input": "2025-08-09T20:01:54.774360Z",
     "iopub.status.busy": "2025-08-09T20:01:54.773951Z",
     "iopub.status.idle": "2025-08-09T20:01:55.394673Z",
     "shell.execute_reply": "2025-08-09T20:01:55.394009Z",
     "shell.execute_reply.started": "2025-08-09T20:01:54.774341Z"
    }
   },
   "outputs": [
    {
     "data": {
      "text/plain": [
       "{'FeatureGroupArn': 'arn:aws:sagemaker:us-east-1:590183953604:feature-group/customers-feature-group',\n",
       " 'ResponseMetadata': {'RequestId': 'dc0a4e7e-aeb5-4383-9478-63cf0da314e5',\n",
       "  'HTTPStatusCode': 200,\n",
       "  'HTTPHeaders': {'x-amzn-requestid': 'dc0a4e7e-aeb5-4383-9478-63cf0da314e5',\n",
       "   'content-type': 'application/x-amz-json-1.1',\n",
       "   'content-length': '100',\n",
       "   'date': 'Sat, 09 Aug 2025 20:01:55 GMT'},\n",
       "  'RetryAttempts': 0}}"
      ]
     },
     "execution_count": 210,
     "metadata": {},
     "output_type": "execute_result"
    }
   ],
   "source": [
    "customers_feature_group.create(s3_uri = f\"s3://{s3_bucket_name}/{prefix}\",\n",
    "                               record_identifier_name=record_identifier_feature_name, event_time_feature_name=\"event_time\",\n",
    "                               role_arn=role,\n",
    "                               enable_online_store=True)"
   ]
  },
  {
   "cell_type": "code",
   "execution_count": 211,
   "id": "d111f16d-983f-46e3-bb3b-7cb29104abce",
   "metadata": {
    "execution": {
     "iopub.execute_input": "2025-08-09T20:01:55.396001Z",
     "iopub.status.busy": "2025-08-09T20:01:55.395703Z",
     "iopub.status.idle": "2025-08-09T20:01:58.092713Z",
     "shell.execute_reply": "2025-08-09T20:01:58.092083Z",
     "shell.execute_reply.started": "2025-08-09T20:01:55.395979Z"
    }
   },
   "outputs": [
    {
     "data": {
      "text/plain": [
       "{'FeatureGroupArn': 'arn:aws:sagemaker:us-east-1:590183953604:feature-group/orders-feature-group',\n",
       " 'ResponseMetadata': {'RequestId': '9d0be86f-f332-4012-aa7f-6f0e3e7eca0a',\n",
       "  'HTTPStatusCode': 200,\n",
       "  'HTTPHeaders': {'x-amzn-requestid': '9d0be86f-f332-4012-aa7f-6f0e3e7eca0a',\n",
       "   'content-type': 'application/x-amz-json-1.1',\n",
       "   'content-length': '97',\n",
       "   'date': 'Sat, 09 Aug 2025 20:01:58 GMT'},\n",
       "  'RetryAttempts': 2}}"
      ]
     },
     "execution_count": 211,
     "metadata": {},
     "output_type": "execute_result"
    }
   ],
   "source": [
    "orders_feature_group.create(s3_uri = f\"s3://{s3_bucket_name}/{prefix}\",\n",
    "                               record_identifier_name=record_identifier_feature_name, event_time_feature_name=\"event_time\",\n",
    "                                role_arn=role,\n",
    "                                enable_online_store=True)"
   ]
  },
  {
   "cell_type": "code",
   "execution_count": 212,
   "id": "5d04fd39-856c-4825-956a-210be94a3f8a",
   "metadata": {
    "execution": {
     "iopub.execute_input": "2025-08-09T20:01:58.093618Z",
     "iopub.status.busy": "2025-08-09T20:01:58.093397Z",
     "iopub.status.idle": "2025-08-09T20:01:58.255112Z",
     "shell.execute_reply": "2025-08-09T20:01:58.254337Z",
     "shell.execute_reply.started": "2025-08-09T20:01:58.093599Z"
    }
   },
   "outputs": [
    {
     "data": {
      "text/plain": [
       "{'FeatureGroupArn': 'arn:aws:sagemaker:us-east-1:590183953604:feature-group/customers-feature-group',\n",
       " 'FeatureGroupName': 'customers-feature-group',\n",
       " 'RecordIdentifierFeatureName': 'customer_id',\n",
       " 'EventTimeFeatureName': 'event_time',\n",
       " 'FeatureDefinitions': [{'FeatureName': 'customer_id',\n",
       "   'FeatureType': 'String'},\n",
       "  {'FeatureName': 'sex', 'FeatureType': 'Integral'},\n",
       "  {'FeatureName': 'is_married', 'FeatureType': 'Integral'},\n",
       "  {'FeatureName': 'event_time', 'FeatureType': 'String'},\n",
       "  {'FeatureName': 'age_18-29', 'FeatureType': 'Integral'},\n",
       "  {'FeatureName': 'age_30-39', 'FeatureType': 'Integral'},\n",
       "  {'FeatureName': 'age_40-49', 'FeatureType': 'Integral'},\n",
       "  {'FeatureName': 'age_50-59', 'FeatureType': 'Integral'},\n",
       "  {'FeatureName': 'age_60-69', 'FeatureType': 'Integral'},\n",
       "  {'FeatureName': 'age_70-plus', 'FeatureType': 'Integral'},\n",
       "  {'FeatureName': 'n_days_active', 'FeatureType': 'Fractional'}],\n",
       " 'CreationTime': datetime.datetime(2025, 8, 9, 20, 1, 55, tzinfo=tzlocal()),\n",
       " 'OnlineStoreConfig': {'EnableOnlineStore': True},\n",
       " 'OfflineStoreConfig': {'S3StorageConfig': {'S3Uri': 's3://sagemaker-us-east-1-590183953604/customer-feature-store',\n",
       "   'ResolvedOutputS3Uri': 's3://sagemaker-us-east-1-590183953604/customer-feature-store/590183953604/sagemaker/us-east-1/offline-store/customers-feature-group-1754769715/data'},\n",
       "  'DisableGlueTableCreation': False},\n",
       " 'ThroughputConfig': {'ThroughputMode': 'OnDemand'},\n",
       " 'RoleArn': 'arn:aws:iam::590183953604:role/cfst-4286-0883907593198b9843-SageMakerExecutionRole-qdT8C5rmIpzg',\n",
       " 'FeatureGroupStatus': 'Creating',\n",
       " 'ResponseMetadata': {'RequestId': '219d1c59-bbf6-479e-bc93-0118dc9e93dd',\n",
       "  'HTTPStatusCode': 200,\n",
       "  'HTTPHeaders': {'x-amzn-requestid': '219d1c59-bbf6-479e-bc93-0118dc9e93dd',\n",
       "   'content-type': 'application/x-amz-json-1.1',\n",
       "   'content-length': '1826',\n",
       "   'date': 'Sat, 09 Aug 2025 20:01:58 GMT'},\n",
       "  'RetryAttempts': 0}}"
      ]
     },
     "execution_count": 212,
     "metadata": {},
     "output_type": "execute_result"
    }
   ],
   "source": [
    "customers_feature_group.describe()"
   ]
  },
  {
   "cell_type": "code",
   "execution_count": 213,
   "id": "47b1d505-45b9-4cb9-b42c-6cffa8b10120",
   "metadata": {
    "execution": {
     "iopub.execute_input": "2025-08-09T20:01:58.256375Z",
     "iopub.status.busy": "2025-08-09T20:01:58.255910Z",
     "iopub.status.idle": "2025-08-09T20:01:58.398409Z",
     "shell.execute_reply": "2025-08-09T20:01:58.397611Z",
     "shell.execute_reply.started": "2025-08-09T20:01:58.256349Z"
    }
   },
   "outputs": [
    {
     "data": {
      "text/plain": [
       "{'FeatureGroupArn': 'arn:aws:sagemaker:us-east-1:590183953604:feature-group/orders-feature-group',\n",
       " 'FeatureGroupName': 'orders-feature-group',\n",
       " 'RecordIdentifierFeatureName': 'customer_id',\n",
       " 'EventTimeFeatureName': 'event_time',\n",
       " 'FeatureDefinitions': [{'FeatureName': 'order_id', 'FeatureType': 'String'},\n",
       "  {'FeatureName': 'customer_id', 'FeatureType': 'String'},\n",
       "  {'FeatureName': 'product_id', 'FeatureType': 'String'},\n",
       "  {'FeatureName': 'purchase_amount', 'FeatureType': 'Fractional'},\n",
       "  {'FeatureName': 'is_reordered', 'FeatureType': 'Integral'},\n",
       "  {'FeatureName': 'event_time', 'FeatureType': 'String'},\n",
       "  {'FeatureName': 'n_days_since_last_purchase', 'FeatureType': 'Fractional'}],\n",
       " 'CreationTime': datetime.datetime(2025, 8, 9, 20, 1, 57, 666000, tzinfo=tzlocal()),\n",
       " 'OnlineStoreConfig': {'EnableOnlineStore': True},\n",
       " 'OfflineStoreConfig': {'S3StorageConfig': {'S3Uri': 's3://sagemaker-us-east-1-590183953604/customer-feature-store',\n",
       "   'ResolvedOutputS3Uri': 's3://sagemaker-us-east-1-590183953604/customer-feature-store/590183953604/sagemaker/us-east-1/offline-store/orders-feature-group-1754769717/data'},\n",
       "  'DisableGlueTableCreation': False},\n",
       " 'ThroughputConfig': {'ThroughputMode': 'OnDemand'},\n",
       " 'RoleArn': 'arn:aws:iam::590183953604:role/cfst-4286-0883907593198b9843-SageMakerExecutionRole-qdT8C5rmIpzg',\n",
       " 'FeatureGroupStatus': 'Creating',\n",
       " 'ResponseMetadata': {'RequestId': 'e346fb3b-f880-4b70-90c3-3044ae936310',\n",
       "  'HTTPStatusCode': 200,\n",
       "  'HTTPHeaders': {'x-amzn-requestid': 'e346fb3b-f880-4b70-90c3-3044ae936310',\n",
       "   'content-type': 'application/x-amz-json-1.1',\n",
       "   'content-length': '1606',\n",
       "   'date': 'Sat, 09 Aug 2025 20:01:58 GMT'},\n",
       "  'RetryAttempts': 0}}"
      ]
     },
     "execution_count": 213,
     "metadata": {},
     "output_type": "execute_result"
    }
   ],
   "source": [
    "orders_feature_group.describe() "
   ]
  },
  {
   "cell_type": "markdown",
   "id": "8696714a-1bcb-4491-8fab-22f856b2c126",
   "metadata": {},
   "source": [
    "### Step 3.4: Add Metadata to Features"
   ]
  },
  {
   "cell_type": "code",
   "execution_count": 215,
   "id": "3d7de49b-9f62-46cf-a39e-e1cd228401de",
   "metadata": {
    "execution": {
     "iopub.execute_input": "2025-08-09T20:03:59.521711Z",
     "iopub.status.busy": "2025-08-09T20:03:59.521374Z",
     "iopub.status.idle": "2025-08-09T20:03:59.760809Z",
     "shell.execute_reply": "2025-08-09T20:03:59.760147Z",
     "shell.execute_reply.started": "2025-08-09T20:03:59.521676Z"
    }
   },
   "outputs": [
    {
     "data": {
      "text/plain": [
       "{'ResponseMetadata': {'RequestId': 'e63bf0bf-9e37-4579-b2e0-2205a26e792b',\n",
       "  'HTTPStatusCode': 200,\n",
       "  'HTTPHeaders': {'x-amzn-requestid': 'e63bf0bf-9e37-4579-b2e0-2205a26e792b',\n",
       "   'content-type': 'application/x-amz-json-1.1',\n",
       "   'date': 'Sat, 09 Aug 2025 20:03:59 GMT',\n",
       "   'content-length': '0'},\n",
       "  'RetryAttempts': 0}}"
      ]
     },
     "execution_count": 215,
     "metadata": {},
     "output_type": "execute_result"
    }
   ],
   "source": [
    "# description and parameters\n",
    "\n",
    "from sagemaker.feature_store.inputs import FeatureParameter\n",
    "\n",
    "customers_feature_group.update_feature_metadata(feature_name = \"customer_id\", description= \"The ID of the customer, it is also part of Order feature group\",\n",
    "                                                parameter_additions=[FeatureParameter(\"idType\",\"primarykey\")])"
   ]
  },
  {
   "cell_type": "code",
   "execution_count": 216,
   "id": "5c6c2b69-f179-4b49-8afc-76c5bb043dd5",
   "metadata": {
    "execution": {
     "iopub.execute_input": "2025-08-09T20:03:59.762324Z",
     "iopub.status.busy": "2025-08-09T20:03:59.761897Z",
     "iopub.status.idle": "2025-08-09T20:03:59.897651Z",
     "shell.execute_reply": "2025-08-09T20:03:59.896914Z",
     "shell.execute_reply.started": "2025-08-09T20:03:59.762303Z"
    }
   },
   "outputs": [
    {
     "data": {
      "text/plain": [
       "{'FeatureGroupArn': 'arn:aws:sagemaker:us-east-1:590183953604:feature-group/customers-feature-group',\n",
       " 'FeatureGroupName': 'customers-feature-group',\n",
       " 'FeatureName': 'customer_id',\n",
       " 'FeatureType': 'String',\n",
       " 'CreationTime': datetime.datetime(2025, 8, 9, 20, 1, 55, tzinfo=tzlocal()),\n",
       " 'LastModifiedTime': datetime.datetime(2025, 8, 9, 20, 3, 59, 743000, tzinfo=tzlocal()),\n",
       " 'Description': 'The ID of the customer, it is also part of Order feature group',\n",
       " 'Parameters': [{'Key': 'idType', 'Value': 'primarykey'}],\n",
       " 'ResponseMetadata': {'RequestId': '089f7892-a3cc-47a3-89da-e8628c01bace',\n",
       "  'HTTPStatusCode': 200,\n",
       "  'HTTPHeaders': {'x-amzn-requestid': '089f7892-a3cc-47a3-89da-e8628c01bace',\n",
       "   'content-type': 'application/x-amz-json-1.1',\n",
       "   'content-length': '393',\n",
       "   'date': 'Sat, 09 Aug 2025 20:03:59 GMT'},\n",
       "  'RetryAttempts': 0}}"
      ]
     },
     "execution_count": 216,
     "metadata": {},
     "output_type": "execute_result"
    }
   ],
   "source": [
    "customers_feature_group.describe_feature_metadata(\"customer_id\")"
   ]
  },
  {
   "cell_type": "code",
   "execution_count": 217,
   "id": "c85d3b9e-9c5d-4dbe-926d-b6cddbda644c",
   "metadata": {
    "execution": {
     "iopub.execute_input": "2025-08-09T20:03:59.898549Z",
     "iopub.status.busy": "2025-08-09T20:03:59.898323Z",
     "iopub.status.idle": "2025-08-09T20:03:59.971446Z",
     "shell.execute_reply": "2025-08-09T20:03:59.970703Z",
     "shell.execute_reply.started": "2025-08-09T20:03:59.898529Z"
    }
   },
   "outputs": [
    {
     "data": {
      "text/plain": [
       "{'Results': [{'FeatureMetadata': {'FeatureGroupArn': 'arn:aws:sagemaker:us-east-1:590183953604:feature-group/customers-fg-09-19-26-55',\n",
       "    'FeatureGroupName': 'customers-fg-09-19-26-55',\n",
       "    'FeatureName': 'customer_id',\n",
       "    'FeatureType': 'String',\n",
       "    'CreationTime': datetime.datetime(2025, 8, 9, 19, 26, 55, tzinfo=tzlocal()),\n",
       "    'LastModifiedTime': datetime.datetime(2025, 8, 9, 19, 58, 2, tzinfo=tzlocal()),\n",
       "    'Description': 'The ID of the customer, it is also part of Order feature group',\n",
       "    'Parameters': [{'Key': 'idType', 'Value': 'primarykey'}]}}],\n",
       " 'ResponseMetadata': {'RequestId': '84d6739c-8933-4023-a8f5-1b3b03c340fc',\n",
       "  'HTTPStatusCode': 200,\n",
       "  'HTTPHeaders': {'x-amzn-requestid': '84d6739c-8933-4023-a8f5-1b3b03c340fc',\n",
       "   'content-type': 'application/x-amz-json-1.1',\n",
       "   'content-length': '507',\n",
       "   'date': 'Sat, 09 Aug 2025 20:03:59 GMT'},\n",
       "  'RetryAttempts': 0}}"
      ]
     },
     "execution_count": 217,
     "metadata": {},
     "output_type": "execute_result"
    }
   ],
   "source": [
    "sagemaker_session.boto_session.client(\"sagemaker\", region_name=region).search(\n",
    "    Resource=\"FeatureMetadata\",\n",
    "    SearchExpression={\n",
    "        \"Filters\":[\n",
    "            {\n",
    "                \"Name\": \"FeatureGroupName\",\n",
    "                \"Operator\": \"Contains\",\n",
    "                \"Value\": \"customers-fg\"\n",
    "            },\n",
    "            {\"Name\": \"Parameters.idType\", \"Operator\": \"Equals\", \"Value\": \"primarykey\"}\n",
    "        ]\n",
    "    })"
   ]
  },
  {
   "cell_type": "markdown",
   "id": "b97e17c9-16da-47a3-a831-dedf6ae205e8",
   "metadata": {
    "execution": {
     "iopub.execute_input": "2025-08-09T19:33:19.138984Z",
     "iopub.status.busy": "2025-08-09T19:33:19.138680Z",
     "iopub.status.idle": "2025-08-09T19:33:19.142693Z",
     "shell.execute_reply": "2025-08-09T19:33:19.141946Z",
     "shell.execute_reply.started": "2025-08-09T19:33:19.138960Z"
    }
   },
   "source": [
    "### Step 3.5: Ingest data into Feature Store"
   ]
  },
  {
   "cell_type": "code",
   "execution_count": 218,
   "id": "3f9fee1a-2419-4f77-bac3-0a7b4c62a7a1",
   "metadata": {
    "execution": {
     "iopub.execute_input": "2025-08-09T20:03:59.973378Z",
     "iopub.status.busy": "2025-08-09T20:03:59.972741Z",
     "iopub.status.idle": "2025-08-09T20:04:37.861352Z",
     "shell.execute_reply": "2025-08-09T20:04:37.860599Z",
     "shell.execute_reply.started": "2025-08-09T20:03:59.973353Z"
    }
   },
   "outputs": [
    {
     "data": {
      "text/plain": [
       "IngestionManagerPandas(feature_group_name='customers-feature-group', feature_definitions={'customer_id': {'FeatureName': 'customer_id', 'FeatureType': 'String'}, 'sex': {'FeatureName': 'sex', 'FeatureType': 'Integral'}, 'is_married': {'FeatureName': 'is_married', 'FeatureType': 'Integral'}, 'event_time': {'FeatureName': 'event_time', 'FeatureType': 'String'}, 'age_18-29': {'FeatureName': 'age_18-29', 'FeatureType': 'Integral'}, 'age_30-39': {'FeatureName': 'age_30-39', 'FeatureType': 'Integral'}, 'age_40-49': {'FeatureName': 'age_40-49', 'FeatureType': 'Integral'}, 'age_50-59': {'FeatureName': 'age_50-59', 'FeatureType': 'Integral'}, 'age_60-69': {'FeatureName': 'age_60-69', 'FeatureType': 'Integral'}, 'age_70-plus': {'FeatureName': 'age_70-plus', 'FeatureType': 'Integral'}, 'n_days_active': {'FeatureName': 'n_days_active', 'FeatureType': 'Fractional'}}, sagemaker_fs_runtime_client_config=<botocore.config.Config object at 0x7f833788dd90>, sagemaker_session=<sagemaker.session.Session object at 0x7f8352f9fe90>, max_workers=3, max_processes=1, profile_name=None, _async_result=<multiprocess.pool.MapResult object at 0x7f83452536b0>, _processing_pool=<pool ProcessPool(ncpus=1)>, _failed_indices=[])"
      ]
     },
     "execution_count": 218,
     "metadata": {},
     "output_type": "execute_result"
    }
   ],
   "source": [
    "customers_feature_group.ingest(data_frame = customer_data, max_workers=3,wait=True)"
   ]
  },
  {
   "cell_type": "code",
   "execution_count": null,
   "id": "7ae23463-3b5a-40f3-bec8-b505bcea6a7a",
   "metadata": {
    "execution": {
     "iopub.execute_input": "2025-08-09T20:24:38.607642Z",
     "iopub.status.busy": "2025-08-09T20:24:38.606953Z"
    }
   },
   "outputs": [],
   "source": [
    "orders_feature_group.ingest(data_frame = orders_data, max_workers=3,wait=True)"
   ]
  },
  {
   "cell_type": "markdown",
   "id": "15f92ee8-4cfc-4cb1-ba82-518fed104ba1",
   "metadata": {},
   "source": [
    "### Step 3.6: Validate Feature Store Data"
   ]
  },
  {
   "cell_type": "code",
   "execution_count": null,
   "id": "e61fac95-e7d2-4631-b98d-c7b486509842",
   "metadata": {
    "execution": {
     "iopub.execute_input": "2025-08-09T20:12:27.677834Z",
     "iopub.status.busy": "2025-08-09T20:12:27.677471Z",
     "iopub.status.idle": "2025-08-09T20:12:27.743657Z"
    }
   },
   "outputs": [],
   "source": [
    "customer_id = \"C1\"\n",
    "sample_record = sagemaker_session.boto_session.client(\n",
    "    \"sagemaker-featurestore-runtime\", region_name=region\n",
    ").get_record(\n",
    "    FeatureGroupName=customers_feature_group_name, RecordIdentifierValueAsString=str(customer_id)\n",
    ")"
   ]
  },
  {
   "cell_type": "code",
   "execution_count": null,
   "id": "07a16940-21b6-4ad5-afa8-827fe3815670",
   "metadata": {
    "execution": {
     "iopub.execute_input": "2025-08-09T20:12:27.745516Z",
     "iopub.status.busy": "2025-08-09T20:12:27.745229Z",
     "iopub.status.idle": "2025-08-09T20:12:27.750669Z"
    }
   },
   "outputs": [
    {
     "data": {
      "text/plain": [
       "{'ResponseMetadata': {'RequestId': '4061fcf9-0612-42cd-a75f-aea0481208ba',\n",
       "  'HTTPStatusCode': 200,\n",
       "  'HTTPHeaders': {'x-amzn-requestid': '4061fcf9-0612-42cd-a75f-aea0481208ba',\n",
       "   'content-type': 'application/json',\n",
       "   'content-length': '877',\n",
       "   'date': 'Sat, 09 Aug 2025 20:12:27 GMT'},\n",
       "  'RetryAttempts': 0},\n",
       " 'Record': [{'FeatureName': 'customer_id', 'ValueAsString': 'C1'},\n",
       "  {'FeatureName': 'sex', 'ValueAsString': '0'},\n",
       "  {'FeatureName': 'is_married', 'ValueAsString': '1'},\n",
       "  {'FeatureName': 'event_time', 'ValueAsString': '2024-05-02T05:39:10.965Z'},\n",
       "  {'FeatureName': 'age_18-29', 'ValueAsString': '0'},\n",
       "  {'FeatureName': 'age_30-39', 'ValueAsString': '0'},\n",
       "  {'FeatureName': 'age_40-49', 'ValueAsString': '0'},\n",
       "  {'FeatureName': 'age_50-59', 'ValueAsString': '0'},\n",
       "  {'FeatureName': 'age_60-69', 'ValueAsString': '0'},\n",
       "  {'FeatureName': 'age_70-plus', 'ValueAsString': '1'},\n",
       "  {'FeatureName': 'n_days_active', 'ValueAsString': '0.2034246575342466'}]}"
      ]
     },
     "execution_count": 221,
     "metadata": {},
     "output_type": "execute_result"
    }
   ],
   "source": [
    "sample_record"
   ]
  },
  {
   "cell_type": "code",
   "execution_count": null,
   "id": "84b0591c-c98a-46db-ac6b-28e4d18a943e",
   "metadata": {
    "execution": {
     "iopub.execute_input": "2025-08-09T20:12:27.752163Z",
     "iopub.status.busy": "2025-08-09T20:12:27.751551Z",
     "iopub.status.idle": "2025-08-09T20:12:27.842323Z"
    }
   },
   "outputs": [],
   "source": [
    "all_records = sagemaker_session.boto_session.client(\n",
    "    \"sagemaker-featurestore-runtime\", region_name=region\n",
    ").batch_get_record(\n",
    "    Identifiers=[\n",
    "        {\n",
    "            \"FeatureGroupName\": customers_feature_group_name,\n",
    "            \"RecordIdentifiersValueAsString\": [\"C1\",\"C2\"],\n",
    "        },\n",
    "        {\n",
    "            \"FeatureGroupName\": orders_feature_group_name,\n",
    "            \"RecordIdentifiersValueAsString\": [\"C1\",\"C2\"],\n",
    "        },\n",
    "    ]\n",
    ")"
   ]
  },
  {
   "cell_type": "code",
   "execution_count": null,
   "id": "6ad9264f-7eab-49d5-a9f9-612ed8d7ec58",
   "metadata": {
    "execution": {
     "iopub.execute_input": "2025-08-09T20:12:27.844029Z",
     "iopub.status.busy": "2025-08-09T20:12:27.843673Z",
     "iopub.status.idle": "2025-08-09T20:12:27.850503Z"
    }
   },
   "outputs": [
    {
     "data": {
      "text/plain": [
       "{'ResponseMetadata': {'RequestId': 'ad0ec71b-d5eb-4f0b-a2bf-1d2448298799',\n",
       "  'HTTPStatusCode': 200,\n",
       "  'HTTPHeaders': {'x-amzn-requestid': 'ad0ec71b-d5eb-4f0b-a2bf-1d2448298799',\n",
       "   'content-type': 'application/json',\n",
       "   'content-length': '3404',\n",
       "   'date': 'Sat, 09 Aug 2025 20:12:27 GMT'},\n",
       "  'RetryAttempts': 0},\n",
       " 'Records': [{'FeatureGroupName': 'orders-feature-group',\n",
       "   'RecordIdentifierValueAsString': 'C1',\n",
       "   'Record': [{'FeatureName': 'order_id', 'ValueAsString': 'O99056'},\n",
       "    {'FeatureName': 'customer_id', 'ValueAsString': 'C1'},\n",
       "    {'FeatureName': 'product_id', 'ValueAsString': 'P5567'},\n",
       "    {'FeatureName': 'purchase_amount', 'ValueAsString': '0.6516831683168316'},\n",
       "    {'FeatureName': 'is_reordered', 'ValueAsString': '1'},\n",
       "    {'FeatureName': 'event_time', 'ValueAsString': '2024-05-02T05:39:18.632Z'},\n",
       "    {'FeatureName': 'n_days_since_last_purchase',\n",
       "     'ValueAsString': '0.5484496124031009'}]},\n",
       "  {'FeatureGroupName': 'orders-feature-group',\n",
       "   'RecordIdentifierValueAsString': 'C2',\n",
       "   'Record': [{'FeatureName': 'order_id', 'ValueAsString': 'O69355'},\n",
       "    {'FeatureName': 'customer_id', 'ValueAsString': 'C2'},\n",
       "    {'FeatureName': 'product_id', 'ValueAsString': 'P7251'},\n",
       "    {'FeatureName': 'purchase_amount', 'ValueAsString': '0.921881188118812'},\n",
       "    {'FeatureName': 'is_reordered', 'ValueAsString': '1'},\n",
       "    {'FeatureName': 'event_time', 'ValueAsString': '2024-05-02T05:39:18.203Z'},\n",
       "    {'FeatureName': 'n_days_since_last_purchase',\n",
       "     'ValueAsString': '0.9593023255813952'}]},\n",
       "  {'FeatureGroupName': 'customers-feature-group',\n",
       "   'RecordIdentifierValueAsString': 'C1',\n",
       "   'Record': [{'FeatureName': 'customer_id', 'ValueAsString': 'C1'},\n",
       "    {'FeatureName': 'sex', 'ValueAsString': '0'},\n",
       "    {'FeatureName': 'is_married', 'ValueAsString': '1'},\n",
       "    {'FeatureName': 'event_time', 'ValueAsString': '2024-05-02T05:39:10.965Z'},\n",
       "    {'FeatureName': 'age_18-29', 'ValueAsString': '0'},\n",
       "    {'FeatureName': 'age_30-39', 'ValueAsString': '0'},\n",
       "    {'FeatureName': 'age_40-49', 'ValueAsString': '0'},\n",
       "    {'FeatureName': 'age_50-59', 'ValueAsString': '0'},\n",
       "    {'FeatureName': 'age_60-69', 'ValueAsString': '0'},\n",
       "    {'FeatureName': 'age_70-plus', 'ValueAsString': '1'},\n",
       "    {'FeatureName': 'n_days_active', 'ValueAsString': '0.2034246575342466'}]},\n",
       "  {'FeatureGroupName': 'customers-feature-group',\n",
       "   'RecordIdentifierValueAsString': 'C2',\n",
       "   'Record': [{'FeatureName': 'customer_id', 'ValueAsString': 'C2'},\n",
       "    {'FeatureName': 'sex', 'ValueAsString': '1'},\n",
       "    {'FeatureName': 'is_married', 'ValueAsString': '1'},\n",
       "    {'FeatureName': 'event_time', 'ValueAsString': '2024-05-02T05:39:10.966Z'},\n",
       "    {'FeatureName': 'age_18-29', 'ValueAsString': '0'},\n",
       "    {'FeatureName': 'age_30-39', 'ValueAsString': '0'},\n",
       "    {'FeatureName': 'age_40-49', 'ValueAsString': '0'},\n",
       "    {'FeatureName': 'age_50-59', 'ValueAsString': '0'},\n",
       "    {'FeatureName': 'age_60-69', 'ValueAsString': '0'},\n",
       "    {'FeatureName': 'age_70-plus', 'ValueAsString': '1'},\n",
       "    {'FeatureName': 'n_days_active', 'ValueAsString': '0.8595890410958904'}]}],\n",
       " 'Errors': [],\n",
       " 'UnprocessedIdentifiers': []}"
      ]
     },
     "execution_count": 223,
     "metadata": {},
     "output_type": "execute_result"
    }
   ],
   "source": [
    "all_records"
   ]
  }
 ],
 "metadata": {
  "kernelspec": {
   "display_name": "Python 3 (ipykernel)",
   "language": "python",
   "name": "python3"
  },
  "language_info": {
   "codemirror_mode": {
    "name": "ipython",
    "version": 3
   },
   "file_extension": ".py",
   "mimetype": "text/x-python",
   "name": "python",
   "nbconvert_exporter": "python",
   "pygments_lexer": "ipython3",
   "version": "3.12.9"
  }
 },
 "nbformat": 4,
 "nbformat_minor": 5
}
